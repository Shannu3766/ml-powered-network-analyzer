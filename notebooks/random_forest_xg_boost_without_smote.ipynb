{
 "cells": [
  {
   "cell_type": "code",
   "execution_count": 1,
   "id": "91f24c76",
   "metadata": {
    "_cell_guid": "b1076dfc-b9ad-4769-8c92-a6c4dae69d19",
    "_uuid": "8f2839f25d086af736a60e9eeb907d3b93b6e0e5",
    "execution": {
     "iopub.execute_input": "2025-05-13T19:06:26.426656Z",
     "iopub.status.busy": "2025-05-13T19:06:26.426266Z",
     "iopub.status.idle": "2025-05-13T19:06:28.601888Z",
     "shell.execute_reply": "2025-05-13T19:06:28.600942Z"
    },
    "papermill": {
     "duration": 2.189863,
     "end_time": "2025-05-13T19:06:28.603661",
     "exception": false,
     "start_time": "2025-05-13T19:06:26.413798",
     "status": "completed"
    },
    "tags": []
   },
   "outputs": [],
   "source": [
    "# This Python 3 environment comes with many helpful analytics libraries installed\n",
    "# It is defined by the kaggle/python Docker image: https://github.com/kaggle/docker-python\n",
    "# For example, here's several helpful packages to load\n",
    "\n",
    "import numpy as np # linear algebra\n",
    "import pandas as pd # data processing, CSV file I/O (e.g. pd.read_csv)\n",
    "\n",
    "# Input data files are available in the read-only \"../input/\" directory\n",
    "# For example, running this (by clicking run or pressing Shift+Enter) will list all files under the input directory\n",
    "\n",
    "import os\n",
    "for dirname, _, filenames in os.walk('/kaggle/input'):\n",
    "    for filename in filenames:\n",
    "        print(os.path.join(dirname, filename))\n",
    "\n",
    "# You can write up to 20GB to the current directory (/kaggle/working/) that gets preserved as output when you create a version using \"Save & Run All\" \n",
    "# You can also write temporary files to /kaggle/temp/, but they won't be saved outside of the current session"
   ]
  },
  {
   "cell_type": "code",
   "execution_count": 2,
   "id": "2965d981",
   "metadata": {
    "execution": {
     "iopub.execute_input": "2025-05-13T19:06:28.624278Z",
     "iopub.status.busy": "2025-05-13T19:06:28.623832Z",
     "iopub.status.idle": "2025-05-13T19:06:49.643566Z",
     "shell.execute_reply": "2025-05-13T19:06:49.642434Z"
    },
    "papermill": {
     "duration": 21.031994,
     "end_time": "2025-05-13T19:06:49.645534",
     "exception": false,
     "start_time": "2025-05-13T19:06:28.613540",
     "status": "completed"
    },
    "tags": []
   },
   "outputs": [
    {
     "name": "stdout",
     "output_type": "stream",
     "text": [
      "--2025-05-13 19:06:28--  http://cicresearch.ca/CICDataset/CIC-IDS-2017/Dataset/CIC-IDS-2017/CSVs/MachineLearningCSV.zip\r\n",
      "Resolving cicresearch.ca (cicresearch.ca)... 205.174.165.80\r\n",
      "Connecting to cicresearch.ca (cicresearch.ca)|205.174.165.80|:80... "
     ]
    },
    {
     "name": "stdout",
     "output_type": "stream",
     "text": [
      "connected.\r\n",
      "HTTP request sent, awaiting response... "
     ]
    },
    {
     "name": "stdout",
     "output_type": "stream",
     "text": [
      "200 OK\r\n",
      "Length: 235102953 (224M) [application/zip]\r\n",
      "Saving to: ‘MachineLearningCSV.zip’\r\n",
      "\r\n",
      "\r\n",
      "MachineLearningCSV.   0%[                    ]       0  --.-KB/s               "
     ]
    },
    {
     "name": "stdout",
     "output_type": "stream",
     "text": [
      "\r\n",
      "MachineLearningCSV.   0%[                    ]  58.61K   205KB/s               "
     ]
    },
    {
     "name": "stdout",
     "output_type": "stream",
     "text": [
      "\r\n",
      "MachineLearningCSV.   0%[                    ] 148.18K   259KB/s               "
     ]
    },
    {
     "name": "stdout",
     "output_type": "stream",
     "text": [
      "\r\n",
      "MachineLearningCSV.   0%[                    ] 280.62K   327KB/s               "
     ]
    },
    {
     "name": "stdout",
     "output_type": "stream",
     "text": [
      "\r\n",
      "MachineLearningCSV.   0%[                    ] 450.31K   394KB/s               "
     ]
    },
    {
     "name": "stdout",
     "output_type": "stream",
     "text": [
      "\r\n",
      "MachineLearningCSV.   0%[                    ] 669.49K   468KB/s               "
     ]
    },
    {
     "name": "stdout",
     "output_type": "stream",
     "text": [
      "\r\n",
      "MachineLearningCSV.   0%[                    ] 928.26K   541KB/s               "
     ]
    },
    {
     "name": "stdout",
     "output_type": "stream",
     "text": [
      "\r\n",
      "MachineLearningCSV.   0%[                    ]   1.12M   592KB/s               "
     ]
    },
    {
     "name": "stdout",
     "output_type": "stream",
     "text": [
      "\r\n",
      "MachineLearningCSV.   0%[                    ]   1.44M   672KB/s               "
     ]
    },
    {
     "name": "stdout",
     "output_type": "stream",
     "text": [
      "\r\n",
      "MachineLearningCSV.   0%[                    ]   1.72M   731KB/s               "
     ]
    },
    {
     "name": "stdout",
     "output_type": "stream",
     "text": [
      "\r\n",
      "MachineLearningCSV.   0%[                    ]   2.12M   813KB/s               "
     ]
    },
    {
     "name": "stdout",
     "output_type": "stream",
     "text": [
      "\r\n",
      "MachineLearningCSV.   1%[                    ]   2.46M   872KB/s               "
     ]
    },
    {
     "name": "stdout",
     "output_type": "stream",
     "text": [
      "\r\n",
      "MachineLearningCSV.   1%[                    ]   2.96M   961KB/s    eta 3m 56s "
     ]
    },
    {
     "name": "stdout",
     "output_type": "stream",
     "text": [
      "\r\n",
      "MachineLearningCSV.   1%[                    ]   3.37M  1.00MB/s    eta 3m 56s "
     ]
    },
    {
     "name": "stdout",
     "output_type": "stream",
     "text": [
      "\r\n",
      "MachineLearningCSV.   1%[                    ]   3.97M  1.10MB/s    eta 3m 56s "
     ]
    },
    {
     "name": "stdout",
     "output_type": "stream",
     "text": [
      "\r\n",
      "MachineLearningCSV.   2%[                    ]   4.49M  1.16MB/s    eta 3m 56s "
     ]
    },
    {
     "name": "stdout",
     "output_type": "stream",
     "text": [
      "\r\n",
      "MachineLearningCSV.   2%[                    ]   5.20M  1.32MB/s    eta 3m 56s "
     ]
    },
    {
     "name": "stdout",
     "output_type": "stream",
     "text": [
      "\r\n",
      "MachineLearningCSV.   2%[                    ]   5.79M  1.44MB/s    eta 2m 44s "
     ]
    },
    {
     "name": "stdout",
     "output_type": "stream",
     "text": [
      "\r\n",
      "MachineLearningCSV.   2%[                    ]   6.60M  1.67MB/s    eta 2m 44s "
     ]
    },
    {
     "name": "stdout",
     "output_type": "stream",
     "text": [
      "\r\n",
      "MachineLearningCSV.   3%[                    ]   7.29M  1.80MB/s    eta 2m 44s "
     ]
    },
    {
     "name": "stdout",
     "output_type": "stream",
     "text": [
      "\r\n",
      "MachineLearningCSV.   3%[                    ]   8.20M  1.98MB/s    eta 2m 44s "
     ]
    },
    {
     "name": "stdout",
     "output_type": "stream",
     "text": [
      "\r\n",
      "MachineLearningCSV.   4%[                    ]   9.02M  2.13MB/s    eta 2m 44s "
     ]
    },
    {
     "name": "stdout",
     "output_type": "stream",
     "text": [
      "\r\n",
      "MachineLearningCSV.   4%[                    ]   9.93M  2.38MB/s    eta 1m 59s "
     ]
    },
    {
     "name": "stdout",
     "output_type": "stream",
     "text": [
      "\r\n",
      "MachineLearningCSV.   4%[                    ]  10.72M  2.53MB/s    eta 1m 59s "
     ]
    },
    {
     "name": "stdout",
     "output_type": "stream",
     "text": [
      "\r\n",
      "MachineLearningCSV.   5%[>                   ]  11.61M  2.70MB/s    eta 1m 59s "
     ]
    },
    {
     "name": "stdout",
     "output_type": "stream",
     "text": [
      "\r\n",
      "MachineLearningCSV.   5%[>                   ]  12.95M  2.98MB/s    eta 1m 59s "
     ]
    },
    {
     "name": "stdout",
     "output_type": "stream",
     "text": [
      "\r\n",
      "MachineLearningCSV.   6%[>                   ]  14.04M  3.27MB/s    eta 1m 59s "
     ]
    },
    {
     "name": "stdout",
     "output_type": "stream",
     "text": [
      "\r\n",
      "MachineLearningCSV.   6%[>                   ]  15.19M  3.47MB/s    eta 90s    "
     ]
    },
    {
     "name": "stdout",
     "output_type": "stream",
     "text": [
      "\r\n",
      "MachineLearningCSV.   7%[>                   ]  16.40M  3.66MB/s    eta 90s    "
     ]
    },
    {
     "name": "stdout",
     "output_type": "stream",
     "text": [
      "\r\n",
      "MachineLearningCSV.   7%[>                   ]  17.88M  3.95MB/s    eta 90s    "
     ]
    },
    {
     "name": "stdout",
     "output_type": "stream",
     "text": [
      "\r\n",
      "MachineLearningCSV.   8%[>                   ]  19.49M  4.26MB/s    eta 90s    "
     ]
    },
    {
     "name": "stdout",
     "output_type": "stream",
     "text": [
      "\r\n",
      "MachineLearningCSV.   9%[>                   ]  21.04M  4.56MB/s    eta 90s    "
     ]
    },
    {
     "name": "stdout",
     "output_type": "stream",
     "text": [
      "\r\n",
      "MachineLearningCSV.  10%[=>                  ]  22.85M  4.91MB/s    eta 67s    "
     ]
    },
    {
     "name": "stdout",
     "output_type": "stream",
     "text": [
      "\r\n",
      "MachineLearningCSV.  11%[=>                  ]  24.70M  5.25MB/s    eta 67s    "
     ]
    },
    {
     "name": "stdout",
     "output_type": "stream",
     "text": [
      "\r\n",
      "MachineLearningCSV.  11%[=>                  ]  26.45M  5.46MB/s    eta 67s    "
     ]
    },
    {
     "name": "stdout",
     "output_type": "stream",
     "text": [
      "\r\n",
      "MachineLearningCSV.  12%[=>                  ]  28.37M  5.81MB/s    eta 67s    "
     ]
    },
    {
     "name": "stdout",
     "output_type": "stream",
     "text": [
      "\r\n",
      "MachineLearningCSV.  13%[=>                  ]  30.65M  6.23MB/s    eta 67s    "
     ]
    },
    {
     "name": "stdout",
     "output_type": "stream",
     "text": [
      "\r\n",
      "MachineLearningCSV.  14%[=>                  ]  32.76M  6.61MB/s    eta 51s    "
     ]
    },
    {
     "name": "stdout",
     "output_type": "stream",
     "text": [
      "\r\n",
      "MachineLearningCSV.  15%[==>                 ]  35.11M  7.07MB/s    eta 51s    "
     ]
    },
    {
     "name": "stdout",
     "output_type": "stream",
     "text": [
      "\r\n",
      "MachineLearningCSV.  16%[==>                 ]  37.62M  7.49MB/s    eta 51s    "
     ]
    },
    {
     "name": "stdout",
     "output_type": "stream",
     "text": [
      "\r\n",
      "MachineLearningCSV.  17%[==>                 ]  40.26M  7.95MB/s    eta 51s    "
     ]
    },
    {
     "name": "stdout",
     "output_type": "stream",
     "text": [
      "\r\n",
      "MachineLearningCSV.  19%[==>                 ]  43.08M  8.37MB/s    eta 51s    "
     ]
    },
    {
     "name": "stdout",
     "output_type": "stream",
     "text": [
      "\r\n",
      "MachineLearningCSV.  20%[===>                ]  45.83M  8.89MB/s    eta 38s    "
     ]
    },
    {
     "name": "stdout",
     "output_type": "stream",
     "text": [
      "\r\n",
      "MachineLearningCSV.  21%[===>                ]  48.94M  9.24MB/s    eta 38s    "
     ]
    },
    {
     "name": "stdout",
     "output_type": "stream",
     "text": [
      "\r\n",
      "MachineLearningCSV.  23%[===>                ]  52.21M  9.65MB/s    eta 38s    "
     ]
    },
    {
     "name": "stdout",
     "output_type": "stream",
     "text": [
      "\r\n",
      "MachineLearningCSV.  24%[===>                ]  55.62M  10.3MB/s    eta 38s    "
     ]
    },
    {
     "name": "stdout",
     "output_type": "stream",
     "text": [
      "\r\n",
      "MachineLearningCSV.  25%[====>               ]  56.90M  10.1MB/s    eta 32s    "
     ]
    },
    {
     "name": "stdout",
     "output_type": "stream",
     "text": [
      "\r\n",
      "MachineLearningCSV.  26%[====>               ]  60.42M  10.7MB/s    eta 32s    "
     ]
    },
    {
     "name": "stdout",
     "output_type": "stream",
     "text": [
      "\r\n",
      "MachineLearningCSV.  28%[====>               ]  63.69M  11.2MB/s    eta 32s    "
     ]
    },
    {
     "name": "stdout",
     "output_type": "stream",
     "text": [
      "\r\n",
      "MachineLearningCSV.  30%[=====>              ]  67.34M  11.7MB/s    eta 32s    "
     ]
    },
    {
     "name": "stdout",
     "output_type": "stream",
     "text": [
      "\r\n",
      "MachineLearningCSV.  31%[=====>              ]  70.74M  12.2MB/s    eta 32s    "
     ]
    },
    {
     "name": "stdout",
     "output_type": "stream",
     "text": [
      "\r\n",
      "MachineLearningCSV.  33%[=====>              ]  74.03M  12.6MB/s    eta 24s    "
     ]
    },
    {
     "name": "stdout",
     "output_type": "stream",
     "text": [
      "\r\n",
      "MachineLearningCSV.  34%[=====>              ]  77.62M  13.3MB/s    eta 24s    "
     ]
    },
    {
     "name": "stdout",
     "output_type": "stream",
     "text": [
      "\r\n",
      "MachineLearningCSV.  36%[======>             ]  81.60M  13.8MB/s    eta 24s    "
     ]
    },
    {
     "name": "stdout",
     "output_type": "stream",
     "text": [
      "\r\n",
      "MachineLearningCSV.  38%[======>             ]  85.40M  14.3MB/s    eta 24s    "
     ]
    },
    {
     "name": "stdout",
     "output_type": "stream",
     "text": [
      "\r\n",
      "MachineLearningCSV.  39%[======>             ]  89.26M  14.7MB/s    eta 24s    "
     ]
    },
    {
     "name": "stdout",
     "output_type": "stream",
     "text": [
      "\r\n",
      "MachineLearningCSV.  41%[=======>            ]  93.28M  15.2MB/s    eta 18s    "
     ]
    },
    {
     "name": "stdout",
     "output_type": "stream",
     "text": [
      "\r\n",
      "MachineLearningCSV.  41%[=======>            ]  93.98M  13.8MB/s    eta 18s    "
     ]
    },
    {
     "name": "stdout",
     "output_type": "stream",
     "text": [
      "\r\n",
      "MachineLearningCSV.  43%[=======>            ]  96.99M  14.0MB/s    eta 18s    "
     ]
    },
    {
     "name": "stdout",
     "output_type": "stream",
     "text": [
      "\r\n",
      "MachineLearningCSV.  44%[=======>            ]  99.71M  13.7MB/s    eta 18s    "
     ]
    },
    {
     "name": "stdout",
     "output_type": "stream",
     "text": [
      "\r\n",
      "MachineLearningCSV.  46%[========>           ] 103.45M  13.9MB/s    eta 16s    "
     ]
    },
    {
     "name": "stdout",
     "output_type": "stream",
     "text": [
      "\r\n",
      "MachineLearningCSV.  47%[========>           ] 106.78M  14.1MB/s    eta 16s    "
     ]
    },
    {
     "name": "stdout",
     "output_type": "stream",
     "text": [
      "\r\n",
      "MachineLearningCSV.  48%[========>           ] 108.38M  13.2MB/s    eta 16s    "
     ]
    },
    {
     "name": "stdout",
     "output_type": "stream",
     "text": [
      "\r\n",
      "MachineLearningCSV.  50%[=========>          ] 112.45M  13.3MB/s    eta 16s    "
     ]
    },
    {
     "name": "stdout",
     "output_type": "stream",
     "text": [
      "\r\n",
      "MachineLearningCSV.  51%[=========>          ] 116.33M  14.5MB/s    eta 16s    "
     ]
    },
    {
     "name": "stdout",
     "output_type": "stream",
     "text": [
      "\r\n",
      "MachineLearningCSV.  53%[=========>          ] 120.32M  14.6MB/s    eta 13s    "
     ]
    },
    {
     "name": "stdout",
     "output_type": "stream",
     "text": [
      "\r\n",
      "MachineLearningCSV.  55%[==========>         ] 123.71M  14.6MB/s    eta 13s    "
     ]
    },
    {
     "name": "stdout",
     "output_type": "stream",
     "text": [
      "\r\n",
      "MachineLearningCSV.  56%[==========>         ] 127.73M  14.7MB/s    eta 13s    "
     ]
    },
    {
     "name": "stdout",
     "output_type": "stream",
     "text": [
      "\r\n",
      "MachineLearningCSV.  56%[==========>         ] 127.77M  13.5MB/s    eta 13s    "
     ]
    },
    {
     "name": "stdout",
     "output_type": "stream",
     "text": [
      "\r\n",
      "MachineLearningCSV.  58%[==========>         ] 132.23M  14.0MB/s    eta 13s    "
     ]
    },
    {
     "name": "stdout",
     "output_type": "stream",
     "text": [
      "\r\n",
      "MachineLearningCSV.  60%[===========>        ] 136.52M  14.0MB/s    eta 10s    "
     ]
    },
    {
     "name": "stdout",
     "output_type": "stream",
     "text": [
      "\r\n",
      "MachineLearningCSV.  62%[===========>        ] 140.86M  14.4MB/s    eta 10s    "
     ]
    },
    {
     "name": "stdout",
     "output_type": "stream",
     "text": [
      "\r\n",
      "MachineLearningCSV.  64%[===========>        ] 145.29M  14.5MB/s    eta 10s    "
     ]
    },
    {
     "name": "stdout",
     "output_type": "stream",
     "text": [
      "\r\n",
      "MachineLearningCSV.  66%[============>       ] 150.12M  14.4MB/s    eta 10s    "
     ]
    },
    {
     "name": "stdout",
     "output_type": "stream",
     "text": [
      "\r\n",
      "MachineLearningCSV.  69%[============>       ] 154.82M  14.8MB/s    eta 10s    "
     ]
    },
    {
     "name": "stdout",
     "output_type": "stream",
     "text": [
      "\r\n",
      "MachineLearningCSV.  71%[=============>      ] 159.71M  16.6MB/s    eta 7s     "
     ]
    },
    {
     "name": "stdout",
     "output_type": "stream",
     "text": [
      "\r\n",
      "MachineLearningCSV.  73%[=============>      ] 164.27M  17.2MB/s    eta 7s     "
     ]
    },
    {
     "name": "stdout",
     "output_type": "stream",
     "text": [
      "\r\n",
      "MachineLearningCSV.  75%[==============>     ] 169.26M  18.0MB/s    eta 7s     "
     ]
    },
    {
     "name": "stdout",
     "output_type": "stream",
     "text": [
      "\r\n",
      "MachineLearningCSV.  77%[==============>     ] 174.83M  18.5MB/s    eta 7s     "
     ]
    },
    {
     "name": "stdout",
     "output_type": "stream",
     "text": [
      "\r\n",
      "MachineLearningCSV.  79%[==============>     ] 178.22M  18.8MB/s    eta 5s     "
     ]
    },
    {
     "name": "stdout",
     "output_type": "stream",
     "text": [
      "\r\n",
      "MachineLearningCSV.  82%[===============>    ] 184.05M  19.3MB/s    eta 5s     "
     ]
    },
    {
     "name": "stdout",
     "output_type": "stream",
     "text": [
      "\r\n",
      "MachineLearningCSV.  84%[===============>    ] 189.56M  19.7MB/s    eta 5s     "
     ]
    },
    {
     "name": "stdout",
     "output_type": "stream",
     "text": [
      "\r\n",
      "MachineLearningCSV.  86%[================>   ] 194.12M  18.5MB/s    eta 5s     "
     ]
    },
    {
     "name": "stdout",
     "output_type": "stream",
     "text": [
      "\r\n",
      "MachineLearningCSV.  89%[================>   ] 200.16M  19.3MB/s    eta 2s     "
     ]
    },
    {
     "name": "stdout",
     "output_type": "stream",
     "text": [
      "\r\n",
      "MachineLearningCSV.  91%[=================>  ] 205.85M  21.3MB/s    eta 2s     "
     ]
    },
    {
     "name": "stdout",
     "output_type": "stream",
     "text": [
      "\r\n",
      "MachineLearningCSV.  92%[=================>  ] 206.80M  19.9MB/s    eta 2s     "
     ]
    },
    {
     "name": "stdout",
     "output_type": "stream",
     "text": [
      "\r\n",
      "MachineLearningCSV.  95%[==================> ] 213.17M  20.3MB/s    eta 2s     "
     ]
    },
    {
     "name": "stdout",
     "output_type": "stream",
     "text": [
      "\r\n",
      "MachineLearningCSV.  97%[==================> ] 219.15M  20.4MB/s    eta 2s     "
     ]
    },
    {
     "name": "stdout",
     "output_type": "stream",
     "text": [
      "\r\n",
      "MachineLearningCSV. 100%[===================>] 224.21M  21.2MB/s    in 20s     \r\n",
      "\r\n",
      "2025-05-13 19:06:49 (11.0 MB/s) - ‘MachineLearningCSV.zip’ saved [235102953/235102953]\r\n",
      "\r\n"
     ]
    }
   ],
   "source": [
    "!wget http://cicresearch.ca/CICDataset/CIC-IDS-2017/Dataset/CIC-IDS-2017/CSVs/MachineLearningCSV.zip"
   ]
  },
  {
   "cell_type": "code",
   "execution_count": 3,
   "id": "fa1094ab",
   "metadata": {
    "execution": {
     "iopub.execute_input": "2025-05-13T19:06:49.675998Z",
     "iopub.status.busy": "2025-05-13T19:06:49.675664Z",
     "iopub.status.idle": "2025-05-13T19:06:58.081306Z",
     "shell.execute_reply": "2025-05-13T19:06:58.079991Z"
    },
    "papermill": {
     "duration": 8.423296,
     "end_time": "2025-05-13T19:06:58.083223",
     "exception": false,
     "start_time": "2025-05-13T19:06:49.659927",
     "status": "completed"
    },
    "tags": []
   },
   "outputs": [
    {
     "name": "stdout",
     "output_type": "stream",
     "text": [
      "Archive:  MachineLearningCSV.zip\r\n",
      "   creating: MachineLearningCSV/MachineLearningCVE/\r\n",
      "  inflating: MachineLearningCSV/MachineLearningCVE/Wednesday-workingHours.pcap_ISCX.csv  "
     ]
    },
    {
     "name": "stdout",
     "output_type": "stream",
     "text": [
      "\r\n",
      "  inflating: MachineLearningCSV/MachineLearningCVE/Tuesday-WorkingHours.pcap_ISCX.csv  "
     ]
    },
    {
     "name": "stdout",
     "output_type": "stream",
     "text": [
      "\r\n",
      "  inflating: MachineLearningCSV/MachineLearningCVE/Thursday-WorkingHours-Morning-WebAttacks.pcap_ISCX.csv  "
     ]
    },
    {
     "name": "stdout",
     "output_type": "stream",
     "text": [
      "\r\n",
      "  inflating: MachineLearningCSV/MachineLearningCVE/Thursday-WorkingHours-Afternoon-Infilteration.pcap_ISCX.csv  "
     ]
    },
    {
     "name": "stdout",
     "output_type": "stream",
     "text": [
      "\r\n",
      "  inflating: MachineLearningCSV/MachineLearningCVE/Monday-WorkingHours.pcap_ISCX.csv  "
     ]
    },
    {
     "name": "stdout",
     "output_type": "stream",
     "text": [
      "\r\n",
      "  inflating: MachineLearningCSV/MachineLearningCVE/Friday-WorkingHours-Morning.pcap_ISCX.csv  "
     ]
    },
    {
     "name": "stdout",
     "output_type": "stream",
     "text": [
      "\r\n",
      "  inflating: MachineLearningCSV/MachineLearningCVE/Friday-WorkingHours-Afternoon-PortScan.pcap_ISCX.csv  "
     ]
    },
    {
     "name": "stdout",
     "output_type": "stream",
     "text": [
      "\r\n",
      "  inflating: MachineLearningCSV/MachineLearningCVE/Friday-WorkingHours-Afternoon-DDos.pcap_ISCX.csv  "
     ]
    },
    {
     "name": "stdout",
     "output_type": "stream",
     "text": [
      "\r\n"
     ]
    }
   ],
   "source": [
    "!unzip MachineLearningCSV.zip -d MachineLearningCSV"
   ]
  },
  {
   "cell_type": "code",
   "execution_count": 4,
   "id": "f6237745",
   "metadata": {
    "execution": {
     "iopub.execute_input": "2025-05-13T19:06:58.113586Z",
     "iopub.status.busy": "2025-05-13T19:06:58.113218Z",
     "iopub.status.idle": "2025-05-13T19:07:03.289326Z",
     "shell.execute_reply": "2025-05-13T19:07:03.288269Z"
    },
    "papermill": {
     "duration": 5.19418,
     "end_time": "2025-05-13T19:07:03.291867",
     "exception": false,
     "start_time": "2025-05-13T19:06:58.097687",
     "status": "completed"
    },
    "tags": []
   },
   "outputs": [
    {
     "name": "stdout",
     "output_type": "stream",
     "text": [
      "Requirement already satisfied: scikit-learn in /usr/local/lib/python3.11/dist-packages (1.2.2)\r\n",
      "Requirement already satisfied: numpy>=1.17.3 in /usr/local/lib/python3.11/dist-packages (from scikit-learn) (1.26.4)\r\n",
      "Requirement already satisfied: scipy>=1.3.2 in /usr/local/lib/python3.11/dist-packages (from scikit-learn) (1.15.2)\r\n",
      "Requirement already satisfied: joblib>=1.1.1 in /usr/local/lib/python3.11/dist-packages (from scikit-learn) (1.4.2)\r\n",
      "Requirement already satisfied: threadpoolctl>=2.0.0 in /usr/local/lib/python3.11/dist-packages (from scikit-learn) (3.6.0)\r\n",
      "Requirement already satisfied: mkl_fft in /usr/local/lib/python3.11/dist-packages (from numpy>=1.17.3->scikit-learn) (1.3.8)\r\n",
      "Requirement already satisfied: mkl_random in /usr/local/lib/python3.11/dist-packages (from numpy>=1.17.3->scikit-learn) (1.2.4)\r\n"
     ]
    },
    {
     "name": "stdout",
     "output_type": "stream",
     "text": [
      "Requirement already satisfied: mkl_umath in /usr/local/lib/python3.11/dist-packages (from numpy>=1.17.3->scikit-learn) (0.1.1)\r\n",
      "Requirement already satisfied: mkl in /usr/local/lib/python3.11/dist-packages (from numpy>=1.17.3->scikit-learn) (2025.1.0)\r\n",
      "Requirement already satisfied: tbb4py in /usr/local/lib/python3.11/dist-packages (from numpy>=1.17.3->scikit-learn) (2022.1.0)\r\n",
      "Requirement already satisfied: mkl-service in /usr/local/lib/python3.11/dist-packages (from numpy>=1.17.3->scikit-learn) (2.4.1)\r\n",
      "Requirement already satisfied: intel-openmp<2026,>=2024 in /usr/local/lib/python3.11/dist-packages (from mkl->numpy>=1.17.3->scikit-learn) (2024.2.0)\r\n",
      "Requirement already satisfied: tbb==2022.* in /usr/local/lib/python3.11/dist-packages (from mkl->numpy>=1.17.3->scikit-learn) (2022.1.0)\r\n",
      "Requirement already satisfied: tcmlib==1.* in /usr/local/lib/python3.11/dist-packages (from tbb==2022.*->mkl->numpy>=1.17.3->scikit-learn) (1.2.0)\r\n",
      "Requirement already satisfied: intel-cmplr-lib-rt in /usr/local/lib/python3.11/dist-packages (from mkl_umath->numpy>=1.17.3->scikit-learn) (2024.2.0)\r\n",
      "Requirement already satisfied: intel-cmplr-lib-ur==2024.2.0 in /usr/local/lib/python3.11/dist-packages (from intel-openmp<2026,>=2024->mkl->numpy>=1.17.3->scikit-learn) (2024.2.0)\r\n"
     ]
    }
   ],
   "source": [
    "!pip install scikit-learn"
   ]
  },
  {
   "cell_type": "code",
   "execution_count": 5,
   "id": "a91e32f1",
   "metadata": {
    "execution": {
     "iopub.execute_input": "2025-05-13T19:07:03.322806Z",
     "iopub.status.busy": "2025-05-13T19:07:03.322450Z",
     "iopub.status.idle": "2025-05-13T19:07:11.968014Z",
     "shell.execute_reply": "2025-05-13T19:07:11.966704Z"
    },
    "papermill": {
     "duration": 8.663342,
     "end_time": "2025-05-13T19:07:11.969999",
     "exception": false,
     "start_time": "2025-05-13T19:07:03.306657",
     "status": "completed"
    },
    "tags": []
   },
   "outputs": [
    {
     "name": "stdout",
     "output_type": "stream",
     "text": [
      "Requirement already satisfied: imbalanced-learn in /usr/local/lib/python3.11/dist-packages (0.13.0)\r\n",
      "Requirement already satisfied: numpy<3,>=1.24.3 in /usr/local/lib/python3.11/dist-packages (from imbalanced-learn) (1.26.4)\r\n",
      "Requirement already satisfied: scipy<2,>=1.10.1 in /usr/local/lib/python3.11/dist-packages (from imbalanced-learn) (1.15.2)\r\n"
     ]
    },
    {
     "name": "stdout",
     "output_type": "stream",
     "text": [
      "Collecting scikit-learn<2,>=1.3.2 (from imbalanced-learn)\r\n"
     ]
    },
    {
     "name": "stdout",
     "output_type": "stream",
     "text": [
      "  Downloading scikit_learn-1.6.1-cp311-cp311-manylinux_2_17_x86_64.manylinux2014_x86_64.whl.metadata (18 kB)\r\n"
     ]
    },
    {
     "name": "stdout",
     "output_type": "stream",
     "text": [
      "Requirement already satisfied: sklearn-compat<1,>=0.1 in /usr/local/lib/python3.11/dist-packages (from imbalanced-learn) (0.1.3)\r\n",
      "Requirement already satisfied: joblib<2,>=1.1.1 in /usr/local/lib/python3.11/dist-packages (from imbalanced-learn) (1.4.2)\r\n",
      "Requirement already satisfied: threadpoolctl<4,>=2.0.0 in /usr/local/lib/python3.11/dist-packages (from imbalanced-learn) (3.6.0)\r\n",
      "Requirement already satisfied: mkl_fft in /usr/local/lib/python3.11/dist-packages (from numpy<3,>=1.24.3->imbalanced-learn) (1.3.8)\r\n",
      "Requirement already satisfied: mkl_random in /usr/local/lib/python3.11/dist-packages (from numpy<3,>=1.24.3->imbalanced-learn) (1.2.4)\r\n",
      "Requirement already satisfied: mkl_umath in /usr/local/lib/python3.11/dist-packages (from numpy<3,>=1.24.3->imbalanced-learn) (0.1.1)\r\n",
      "Requirement already satisfied: mkl in /usr/local/lib/python3.11/dist-packages (from numpy<3,>=1.24.3->imbalanced-learn) (2025.1.0)\r\n",
      "Requirement already satisfied: tbb4py in /usr/local/lib/python3.11/dist-packages (from numpy<3,>=1.24.3->imbalanced-learn) (2022.1.0)\r\n",
      "Requirement already satisfied: mkl-service in /usr/local/lib/python3.11/dist-packages (from numpy<3,>=1.24.3->imbalanced-learn) (2.4.1)\r\n"
     ]
    },
    {
     "name": "stdout",
     "output_type": "stream",
     "text": [
      "Requirement already satisfied: intel-openmp<2026,>=2024 in /usr/local/lib/python3.11/dist-packages (from mkl->numpy<3,>=1.24.3->imbalanced-learn) (2024.2.0)\r\n",
      "Requirement already satisfied: tbb==2022.* in /usr/local/lib/python3.11/dist-packages (from mkl->numpy<3,>=1.24.3->imbalanced-learn) (2022.1.0)\r\n",
      "Requirement already satisfied: tcmlib==1.* in /usr/local/lib/python3.11/dist-packages (from tbb==2022.*->mkl->numpy<3,>=1.24.3->imbalanced-learn) (1.2.0)\r\n",
      "Requirement already satisfied: intel-cmplr-lib-rt in /usr/local/lib/python3.11/dist-packages (from mkl_umath->numpy<3,>=1.24.3->imbalanced-learn) (2024.2.0)\r\n",
      "Requirement already satisfied: intel-cmplr-lib-ur==2024.2.0 in /usr/local/lib/python3.11/dist-packages (from intel-openmp<2026,>=2024->mkl->numpy<3,>=1.24.3->imbalanced-learn) (2024.2.0)\r\n",
      "Downloading scikit_learn-1.6.1-cp311-cp311-manylinux_2_17_x86_64.manylinux2014_x86_64.whl (13.5 MB)\r\n",
      "\u001b[?25l   \u001b[90m━━━━━━━━━━━━━━━━━━━━━━━━━━━━━━━━━━━━━━━━\u001b[0m \u001b[32m0.0/13.5 MB\u001b[0m \u001b[31m?\u001b[0m eta \u001b[36m-:--:--\u001b[0m"
     ]
    },
    {
     "name": "stdout",
     "output_type": "stream",
     "text": [
      "\r\n",
      "\u001b[2K   \u001b[91m━━━━━━━━\u001b[0m\u001b[90m╺\u001b[0m\u001b[90m━━━━━━━━━━━━━━━━━━━━━━━━━━━━━━━\u001b[0m \u001b[32m2.8/13.5 MB\u001b[0m \u001b[31m85.4 MB/s\u001b[0m eta \u001b[36m0:00:01\u001b[0m"
     ]
    },
    {
     "name": "stdout",
     "output_type": "stream",
     "text": [
      "\r\n",
      "\u001b[2K   \u001b[91m━━━━━━━━━━━━━━━━━━━━━━━━\u001b[0m\u001b[90m╺\u001b[0m\u001b[90m━━━━━━━━━━━━━━━\u001b[0m \u001b[32m8.2/13.5 MB\u001b[0m \u001b[31m118.2 MB/s\u001b[0m eta \u001b[36m0:00:01\u001b[0m\r\n",
      "\u001b[2K   \u001b[91m━━━━━━━━━━━━━━━━━━━━━━━━━━━━━━━━━━━━━━━\u001b[0m\u001b[91m╸\u001b[0m \u001b[32m13.5/13.5 MB\u001b[0m \u001b[31m160.7 MB/s\u001b[0m eta \u001b[36m0:00:01\u001b[0m"
     ]
    },
    {
     "name": "stdout",
     "output_type": "stream",
     "text": [
      "\r\n",
      "\u001b[2K   \u001b[91m━━━━━━━━━━━━━━━━━━━━━━━━━━━━━━━━━━━━━━━\u001b[0m\u001b[91m╸\u001b[0m \u001b[32m13.5/13.5 MB\u001b[0m \u001b[31m160.7 MB/s\u001b[0m eta \u001b[36m0:00:01\u001b[0m"
     ]
    },
    {
     "name": "stdout",
     "output_type": "stream",
     "text": [
      "\r\n",
      "\u001b[2K   \u001b[90m━━━━━━━━━━━━━━━━━━━━━━━━━━━━━━━━━━━━━━━━\u001b[0m \u001b[32m13.5/13.5 MB\u001b[0m \u001b[31m77.2 MB/s\u001b[0m eta \u001b[36m0:00:00\u001b[0m\r\n",
      "\u001b[?25h"
     ]
    },
    {
     "name": "stdout",
     "output_type": "stream",
     "text": [
      "Installing collected packages: scikit-learn\r\n",
      "  Attempting uninstall: scikit-learn\r\n"
     ]
    },
    {
     "name": "stdout",
     "output_type": "stream",
     "text": [
      "    Found existing installation: scikit-learn 1.2.2\r\n"
     ]
    },
    {
     "name": "stdout",
     "output_type": "stream",
     "text": [
      "    Uninstalling scikit-learn-1.2.2:\r\n"
     ]
    },
    {
     "name": "stdout",
     "output_type": "stream",
     "text": [
      "      Successfully uninstalled scikit-learn-1.2.2\r\n"
     ]
    },
    {
     "name": "stdout",
     "output_type": "stream",
     "text": [
      "\u001b[31mERROR: pip's dependency resolver does not currently take into account all the packages that are installed. This behaviour is the source of the following dependency conflicts.\r\n",
      "category-encoders 2.7.0 requires scikit-learn<1.6.0,>=1.0.0, but you have scikit-learn 1.6.1 which is incompatible.\r\n",
      "bigframes 1.36.0 requires rich<14,>=12.4.4, but you have rich 14.0.0 which is incompatible.\u001b[0m\u001b[31m\r\n",
      "\u001b[0mSuccessfully installed scikit-learn-1.6.1\r\n"
     ]
    }
   ],
   "source": [
    "!pip install imbalanced-learn"
   ]
  },
  {
   "cell_type": "code",
   "execution_count": 6,
   "id": "8e985d38",
   "metadata": {
    "execution": {
     "iopub.execute_input": "2025-05-13T19:07:12.001752Z",
     "iopub.status.busy": "2025-05-13T19:07:12.001386Z",
     "iopub.status.idle": "2025-05-13T19:07:13.980782Z",
     "shell.execute_reply": "2025-05-13T19:07:13.979682Z"
    },
    "papermill": {
     "duration": 1.997635,
     "end_time": "2025-05-13T19:07:13.982766",
     "exception": false,
     "start_time": "2025-05-13T19:07:11.985131",
     "status": "completed"
    },
    "tags": []
   },
   "outputs": [],
   "source": [
    "import gc\n",
    "import pandas as pd\n",
    "from sklearn.model_selection import train_test_split\n",
    "from sklearn.svm import SVC\n",
    "from sklearn.metrics import accuracy_score\n",
    "from sklearn.datasets import load_iris\n",
    "from sklearn.preprocessing import StandardScaler\n"
   ]
  },
  {
   "cell_type": "code",
   "execution_count": 7,
   "id": "3a61e39f",
   "metadata": {
    "execution": {
     "iopub.execute_input": "2025-05-13T19:07:14.019926Z",
     "iopub.status.busy": "2025-05-13T19:07:14.019444Z",
     "iopub.status.idle": "2025-05-13T19:07:30.417637Z",
     "shell.execute_reply": "2025-05-13T19:07:30.416548Z"
    },
    "papermill": {
     "duration": 16.420842,
     "end_time": "2025-05-13T19:07:30.419364",
     "exception": false,
     "start_time": "2025-05-13T19:07:13.998522",
     "status": "completed"
    },
    "tags": []
   },
   "outputs": [],
   "source": [
    "MODEL_PATH = 'phishing_detector.pkl'\n",
    "\n",
    "def load_unsw_dataset():\n",
    "    files = [\n",
    "        \"MachineLearningCSV/MachineLearningCVE/Wednesday-workingHours.pcap_ISCX.csv\",\n",
    "        \"MachineLearningCSV/MachineLearningCVE/Friday-WorkingHours-Afternoon-PortScan.pcap_ISCX.csv\",\n",
    "        \"MachineLearningCSV/MachineLearningCVE/Friday-WorkingHours-Morning.pcap_ISCX.csv\",\n",
    "        \"MachineLearningCSV/MachineLearningCVE/Monday-WorkingHours.pcap_ISCX.csv\", \n",
    "        \"MachineLearningCSV/MachineLearningCVE/Thursday-WorkingHours-Afternoon-Infilteration.pcap_ISCX.csv\",\n",
    "        # \"MachineLearningCSV/MachineLearningCVE/Thursday-WorkingHours-Morning-WebAttacks.pcap_ISCX.csv\",\n",
    "        # \"MachineLearningCSV/MachineLearningCVE/Tuesday-WorkingHours.pcap_ISCX.csv\",\n",
    "        # \"MachineLearningCSV/MachineLearningCVE/Wednesday-workingHours.pcap_ISCX.csv\"\n",
    "    ]\n",
    "    dfs = []\n",
    "    for f in files:\n",
    "        if os.path.exists(f):\n",
    "            dfs.append(pd.read_csv(f))\n",
    "        else:\n",
    "            print(f\"Missing file: {f}\")\n",
    "    \n",
    "    if not dfs:\n",
    "        print(\"No data files found. Please check the file paths.\")\n",
    "        return None\n",
    "    \n",
    "    data = pd.concat(dfs, ignore_index=True)\n",
    "    data.columns = data.columns.str.strip()\n",
    "    cols = ['Destination Port', 'Flow Duration', 'Total Fwd Packets',\n",
    "       'Total Backward Packets', 'Total Length of Fwd Packets',\n",
    "       'Total Length of Bwd Packets', 'Fwd Packet Length Max',\n",
    "       'Fwd Packet Length Min', 'Fwd Packet Length Mean',\n",
    "       'Fwd Packet Length Std', 'Bwd Packet Length Max',\n",
    "       'Bwd Packet Length Min', 'Bwd Packet Length Mean',\n",
    "       'Bwd Packet Length Std', 'Flow Bytes/s', 'Flow Packets/s',\n",
    "       'Flow IAT Mean', 'Flow IAT Std', 'Flow IAT Max', 'Flow IAT Min',\n",
    "       'Fwd IAT Total', 'Fwd IAT Mean', 'Fwd IAT Std', 'Fwd IAT Max',\n",
    "       'Fwd IAT Min', 'Bwd IAT Total', 'Bwd IAT Mean', 'Bwd IAT Std',\n",
    "       'Bwd IAT Max', 'Bwd IAT Min', 'Fwd PSH Flags', 'Bwd PSH Flags',\n",
    "       'Fwd URG Flags', 'Bwd URG Flags', 'Fwd Header Length',\n",
    "       'Bwd Header Length', 'Fwd Packets/s', 'Bwd Packets/s',\n",
    "       'Min Packet Length', 'Max Packet Length', 'Packet Length Mean',\n",
    "       'Packet Length Std', 'Packet Length Variance', 'FIN Flag Count',\n",
    "       'SYN Flag Count', 'RST Flag Count', 'PSH Flag Count', 'ACK Flag Count',\n",
    "       'URG Flag Count', 'CWE Flag Count', 'ECE Flag Count', 'Down/Up Ratio',\n",
    "       'Average Packet Size', 'Avg Fwd Segment Size', 'Avg Bwd Segment Size',\n",
    "       'Fwd Header Length.1', 'Fwd Avg Bytes/Bulk', 'Fwd Avg Packets/Bulk',\n",
    "       'Fwd Avg Bulk Rate', 'Bwd Avg Bytes/Bulk', 'Bwd Avg Packets/Bulk',\n",
    "       'Bwd Avg Bulk Rate', 'Subflow Fwd Packets', 'Subflow Fwd Bytes',\n",
    "       'Subflow Bwd Packets', 'Subflow Bwd Bytes','Label']\n",
    "    \n",
    "    # Get only columns that exist in the data\n",
    "    valid_cols = [col for col in cols if col in data.columns]\n",
    "    if set(valid_cols) != set(cols):\n",
    "        missing = set(cols) - set(valid_cols)\n",
    "        print(f\"Warning: Missing columns: {missing}\")\n",
    "    \n",
    "    data_1 = data[valid_cols]\n",
    "    return data_1\n",
    "\n",
    "data = load_unsw_dataset()"
   ]
  },
  {
   "cell_type": "code",
   "execution_count": 8,
   "id": "5ed000ac",
   "metadata": {
    "execution": {
     "iopub.execute_input": "2025-05-13T19:07:30.452771Z",
     "iopub.status.busy": "2025-05-13T19:07:30.452412Z",
     "iopub.status.idle": "2025-05-13T19:07:30.483199Z",
     "shell.execute_reply": "2025-05-13T19:07:30.482155Z"
    },
    "papermill": {
     "duration": 0.049634,
     "end_time": "2025-05-13T19:07:30.485212",
     "exception": false,
     "start_time": "2025-05-13T19:07:30.435578",
     "status": "completed"
    },
    "tags": []
   },
   "outputs": [
    {
     "data": {
      "text/html": [
       "<div>\n",
       "<style scoped>\n",
       "    .dataframe tbody tr th:only-of-type {\n",
       "        vertical-align: middle;\n",
       "    }\n",
       "\n",
       "    .dataframe tbody tr th {\n",
       "        vertical-align: top;\n",
       "    }\n",
       "\n",
       "    .dataframe thead th {\n",
       "        text-align: right;\n",
       "    }\n",
       "</style>\n",
       "<table border=\"1\" class=\"dataframe\">\n",
       "  <thead>\n",
       "    <tr style=\"text-align: right;\">\n",
       "      <th></th>\n",
       "      <th>Destination Port</th>\n",
       "      <th>Flow Duration</th>\n",
       "      <th>Total Fwd Packets</th>\n",
       "      <th>Total Backward Packets</th>\n",
       "      <th>Total Length of Fwd Packets</th>\n",
       "      <th>Total Length of Bwd Packets</th>\n",
       "      <th>Fwd Packet Length Max</th>\n",
       "      <th>Fwd Packet Length Min</th>\n",
       "      <th>Fwd Packet Length Mean</th>\n",
       "      <th>Fwd Packet Length Std</th>\n",
       "      <th>...</th>\n",
       "      <th>Fwd Avg Packets/Bulk</th>\n",
       "      <th>Fwd Avg Bulk Rate</th>\n",
       "      <th>Bwd Avg Bytes/Bulk</th>\n",
       "      <th>Bwd Avg Packets/Bulk</th>\n",
       "      <th>Bwd Avg Bulk Rate</th>\n",
       "      <th>Subflow Fwd Packets</th>\n",
       "      <th>Subflow Fwd Bytes</th>\n",
       "      <th>Subflow Bwd Packets</th>\n",
       "      <th>Subflow Bwd Bytes</th>\n",
       "      <th>Label</th>\n",
       "    </tr>\n",
       "  </thead>\n",
       "  <tbody>\n",
       "    <tr>\n",
       "      <th>0</th>\n",
       "      <td>80</td>\n",
       "      <td>38308</td>\n",
       "      <td>1</td>\n",
       "      <td>1</td>\n",
       "      <td>6</td>\n",
       "      <td>6</td>\n",
       "      <td>6</td>\n",
       "      <td>6</td>\n",
       "      <td>6.000000</td>\n",
       "      <td>0.000000</td>\n",
       "      <td>...</td>\n",
       "      <td>0</td>\n",
       "      <td>0</td>\n",
       "      <td>0</td>\n",
       "      <td>0</td>\n",
       "      <td>0</td>\n",
       "      <td>1</td>\n",
       "      <td>6</td>\n",
       "      <td>1</td>\n",
       "      <td>6</td>\n",
       "      <td>BENIGN</td>\n",
       "    </tr>\n",
       "    <tr>\n",
       "      <th>1</th>\n",
       "      <td>389</td>\n",
       "      <td>479</td>\n",
       "      <td>11</td>\n",
       "      <td>5</td>\n",
       "      <td>172</td>\n",
       "      <td>326</td>\n",
       "      <td>79</td>\n",
       "      <td>0</td>\n",
       "      <td>15.636364</td>\n",
       "      <td>31.449238</td>\n",
       "      <td>...</td>\n",
       "      <td>0</td>\n",
       "      <td>0</td>\n",
       "      <td>0</td>\n",
       "      <td>0</td>\n",
       "      <td>0</td>\n",
       "      <td>11</td>\n",
       "      <td>172</td>\n",
       "      <td>5</td>\n",
       "      <td>326</td>\n",
       "      <td>BENIGN</td>\n",
       "    </tr>\n",
       "    <tr>\n",
       "      <th>2</th>\n",
       "      <td>88</td>\n",
       "      <td>1095</td>\n",
       "      <td>10</td>\n",
       "      <td>6</td>\n",
       "      <td>3150</td>\n",
       "      <td>3150</td>\n",
       "      <td>1575</td>\n",
       "      <td>0</td>\n",
       "      <td>315.000000</td>\n",
       "      <td>632.561635</td>\n",
       "      <td>...</td>\n",
       "      <td>0</td>\n",
       "      <td>0</td>\n",
       "      <td>0</td>\n",
       "      <td>0</td>\n",
       "      <td>0</td>\n",
       "      <td>10</td>\n",
       "      <td>3150</td>\n",
       "      <td>6</td>\n",
       "      <td>3150</td>\n",
       "      <td>BENIGN</td>\n",
       "    </tr>\n",
       "    <tr>\n",
       "      <th>3</th>\n",
       "      <td>389</td>\n",
       "      <td>15206</td>\n",
       "      <td>17</td>\n",
       "      <td>12</td>\n",
       "      <td>3452</td>\n",
       "      <td>6660</td>\n",
       "      <td>1313</td>\n",
       "      <td>0</td>\n",
       "      <td>203.058823</td>\n",
       "      <td>425.778474</td>\n",
       "      <td>...</td>\n",
       "      <td>0</td>\n",
       "      <td>0</td>\n",
       "      <td>0</td>\n",
       "      <td>0</td>\n",
       "      <td>0</td>\n",
       "      <td>17</td>\n",
       "      <td>3452</td>\n",
       "      <td>12</td>\n",
       "      <td>6660</td>\n",
       "      <td>BENIGN</td>\n",
       "    </tr>\n",
       "    <tr>\n",
       "      <th>4</th>\n",
       "      <td>88</td>\n",
       "      <td>1092</td>\n",
       "      <td>9</td>\n",
       "      <td>6</td>\n",
       "      <td>3150</td>\n",
       "      <td>3152</td>\n",
       "      <td>1575</td>\n",
       "      <td>0</td>\n",
       "      <td>350.000000</td>\n",
       "      <td>694.509719</td>\n",
       "      <td>...</td>\n",
       "      <td>0</td>\n",
       "      <td>0</td>\n",
       "      <td>0</td>\n",
       "      <td>0</td>\n",
       "      <td>0</td>\n",
       "      <td>9</td>\n",
       "      <td>3150</td>\n",
       "      <td>6</td>\n",
       "      <td>3152</td>\n",
       "      <td>BENIGN</td>\n",
       "    </tr>\n",
       "  </tbody>\n",
       "</table>\n",
       "<p>5 rows × 67 columns</p>\n",
       "</div>"
      ],
      "text/plain": [
       "   Destination Port  Flow Duration  Total Fwd Packets  Total Backward Packets  \\\n",
       "0                80          38308                  1                       1   \n",
       "1               389            479                 11                       5   \n",
       "2                88           1095                 10                       6   \n",
       "3               389          15206                 17                      12   \n",
       "4                88           1092                  9                       6   \n",
       "\n",
       "   Total Length of Fwd Packets  Total Length of Bwd Packets  \\\n",
       "0                            6                            6   \n",
       "1                          172                          326   \n",
       "2                         3150                         3150   \n",
       "3                         3452                         6660   \n",
       "4                         3150                         3152   \n",
       "\n",
       "   Fwd Packet Length Max  Fwd Packet Length Min  Fwd Packet Length Mean  \\\n",
       "0                      6                      6                6.000000   \n",
       "1                     79                      0               15.636364   \n",
       "2                   1575                      0              315.000000   \n",
       "3                   1313                      0              203.058823   \n",
       "4                   1575                      0              350.000000   \n",
       "\n",
       "   Fwd Packet Length Std  ...  Fwd Avg Packets/Bulk  Fwd Avg Bulk Rate  \\\n",
       "0               0.000000  ...                     0                  0   \n",
       "1              31.449238  ...                     0                  0   \n",
       "2             632.561635  ...                     0                  0   \n",
       "3             425.778474  ...                     0                  0   \n",
       "4             694.509719  ...                     0                  0   \n",
       "\n",
       "   Bwd Avg Bytes/Bulk  Bwd Avg Packets/Bulk  Bwd Avg Bulk Rate  \\\n",
       "0                   0                     0                  0   \n",
       "1                   0                     0                  0   \n",
       "2                   0                     0                  0   \n",
       "3                   0                     0                  0   \n",
       "4                   0                     0                  0   \n",
       "\n",
       "   Subflow Fwd Packets  Subflow Fwd Bytes  Subflow Bwd Packets  \\\n",
       "0                    1                  6                    1   \n",
       "1                   11                172                    5   \n",
       "2                   10               3150                    6   \n",
       "3                   17               3452                   12   \n",
       "4                    9               3150                    6   \n",
       "\n",
       "   Subflow Bwd Bytes   Label  \n",
       "0                  6  BENIGN  \n",
       "1                326  BENIGN  \n",
       "2               3150  BENIGN  \n",
       "3               6660  BENIGN  \n",
       "4               3152  BENIGN  \n",
       "\n",
       "[5 rows x 67 columns]"
      ]
     },
     "execution_count": 8,
     "metadata": {},
     "output_type": "execute_result"
    }
   ],
   "source": [
    "data.head()"
   ]
  },
  {
   "cell_type": "code",
   "execution_count": 9,
   "id": "e0be78fa",
   "metadata": {
    "execution": {
     "iopub.execute_input": "2025-05-13T19:07:30.519556Z",
     "iopub.status.busy": "2025-05-13T19:07:30.519109Z",
     "iopub.status.idle": "2025-05-13T19:07:30.542845Z",
     "shell.execute_reply": "2025-05-13T19:07:30.541668Z"
    },
    "papermill": {
     "duration": 0.04235,
     "end_time": "2025-05-13T19:07:30.544446",
     "exception": false,
     "start_time": "2025-05-13T19:07:30.502096",
     "status": "completed"
    },
    "tags": []
   },
   "outputs": [
    {
     "name": "stdout",
     "output_type": "stream",
     "text": [
      "<class 'pandas.core.frame.DataFrame'>\n",
      "RangeIndex: 1988723 entries, 0 to 1988722\n",
      "Data columns (total 67 columns):\n",
      " #   Column                       Dtype  \n",
      "---  ------                       -----  \n",
      " 0   Destination Port             int64  \n",
      " 1   Flow Duration                int64  \n",
      " 2   Total Fwd Packets            int64  \n",
      " 3   Total Backward Packets       int64  \n",
      " 4   Total Length of Fwd Packets  int64  \n",
      " 5   Total Length of Bwd Packets  int64  \n",
      " 6   Fwd Packet Length Max        int64  \n",
      " 7   Fwd Packet Length Min        int64  \n",
      " 8   Fwd Packet Length Mean       float64\n",
      " 9   Fwd Packet Length Std        float64\n",
      " 10  Bwd Packet Length Max        int64  \n",
      " 11  Bwd Packet Length Min        int64  \n",
      " 12  Bwd Packet Length Mean       float64\n",
      " 13  Bwd Packet Length Std        float64\n",
      " 14  Flow Bytes/s                 float64\n",
      " 15  Flow Packets/s               float64\n",
      " 16  Flow IAT Mean                float64\n",
      " 17  Flow IAT Std                 float64\n",
      " 18  Flow IAT Max                 int64  \n",
      " 19  Flow IAT Min                 int64  \n",
      " 20  Fwd IAT Total                int64  \n",
      " 21  Fwd IAT Mean                 float64\n",
      " 22  Fwd IAT Std                  float64\n",
      " 23  Fwd IAT Max                  int64  \n",
      " 24  Fwd IAT Min                  int64  \n",
      " 25  Bwd IAT Total                int64  \n",
      " 26  Bwd IAT Mean                 float64\n",
      " 27  Bwd IAT Std                  float64\n",
      " 28  Bwd IAT Max                  int64  \n",
      " 29  Bwd IAT Min                  int64  \n",
      " 30  Fwd PSH Flags                int64  \n",
      " 31  Bwd PSH Flags                int64  \n",
      " 32  Fwd URG Flags                int64  \n",
      " 33  Bwd URG Flags                int64  \n",
      " 34  Fwd Header Length            int64  \n",
      " 35  Bwd Header Length            int64  \n",
      " 36  Fwd Packets/s                float64\n",
      " 37  Bwd Packets/s                float64\n",
      " 38  Min Packet Length            int64  \n",
      " 39  Max Packet Length            int64  \n",
      " 40  Packet Length Mean           float64\n",
      " 41  Packet Length Std            float64\n",
      " 42  Packet Length Variance       float64\n",
      " 43  FIN Flag Count               int64  \n",
      " 44  SYN Flag Count               int64  \n",
      " 45  RST Flag Count               int64  \n",
      " 46  PSH Flag Count               int64  \n",
      " 47  ACK Flag Count               int64  \n",
      " 48  URG Flag Count               int64  \n",
      " 49  CWE Flag Count               int64  \n",
      " 50  ECE Flag Count               int64  \n",
      " 51  Down/Up Ratio                int64  \n",
      " 52  Average Packet Size          float64\n",
      " 53  Avg Fwd Segment Size         float64\n",
      " 54  Avg Bwd Segment Size         float64\n",
      " 55  Fwd Header Length.1          int64  \n",
      " 56  Fwd Avg Bytes/Bulk           int64  \n",
      " 57  Fwd Avg Packets/Bulk         int64  \n",
      " 58  Fwd Avg Bulk Rate            int64  \n",
      " 59  Bwd Avg Bytes/Bulk           int64  \n",
      " 60  Bwd Avg Packets/Bulk         int64  \n",
      " 61  Bwd Avg Bulk Rate            int64  \n",
      " 62  Subflow Fwd Packets          int64  \n",
      " 63  Subflow Fwd Bytes            int64  \n",
      " 64  Subflow Bwd Packets          int64  \n",
      " 65  Subflow Bwd Bytes            int64  \n",
      " 66  Label                        object \n",
      "dtypes: float64(20), int64(46), object(1)\n",
      "memory usage: 1016.6+ MB\n"
     ]
    }
   ],
   "source": [
    "data.info()"
   ]
  },
  {
   "cell_type": "code",
   "execution_count": 10,
   "id": "8c27ef71",
   "metadata": {
    "execution": {
     "iopub.execute_input": "2025-05-13T19:07:30.579035Z",
     "iopub.status.busy": "2025-05-13T19:07:30.578689Z",
     "iopub.status.idle": "2025-05-13T19:07:30.931357Z",
     "shell.execute_reply": "2025-05-13T19:07:30.930070Z"
    },
    "papermill": {
     "duration": 0.372654,
     "end_time": "2025-05-13T19:07:30.933220",
     "exception": false,
     "start_time": "2025-05-13T19:07:30.560566",
     "status": "completed"
    },
    "tags": []
   },
   "outputs": [
    {
     "name": "stdout",
     "output_type": "stream",
     "text": [
      "Destination Port 0\n",
      "Flow Duration 0\n",
      "Total Fwd Packets 0\n",
      "Total Backward Packets 0\n",
      "Total Length of Fwd Packets 0\n",
      "Total Length of Bwd Packets 0\n",
      "Fwd Packet Length Max 0\n",
      "Fwd Packet Length Min 0\n",
      "Fwd Packet Length Mean 0\n",
      "Fwd Packet Length Std 0\n",
      "Bwd Packet Length Max 0\n",
      "Bwd Packet Length Min 0\n",
      "Bwd Packet Length Mean 0\n",
      "Bwd Packet Length Std 0\n",
      "Flow Bytes/s 1133\n",
      "Flow Packets/s 0\n",
      "Flow IAT Mean 0\n",
      "Flow IAT Std 0\n",
      "Flow IAT Max 0\n",
      "Flow IAT Min 0\n",
      "Fwd IAT Total 0\n",
      "Fwd IAT Mean 0\n",
      "Fwd IAT Std 0\n",
      "Fwd IAT Max 0\n",
      "Fwd IAT Min 0\n",
      "Bwd IAT Total 0\n",
      "Bwd IAT Mean 0\n",
      "Bwd IAT Std 0\n",
      "Bwd IAT Max 0\n",
      "Bwd IAT Min 0\n",
      "Fwd PSH Flags 0\n",
      "Bwd PSH Flags 0\n",
      "Fwd URG Flags 0\n",
      "Bwd URG Flags 0\n",
      "Fwd Header Length 0\n",
      "Bwd Header Length 0\n",
      "Fwd Packets/s 0\n",
      "Bwd Packets/s 0\n",
      "Min Packet Length 0\n",
      "Max Packet Length 0\n",
      "Packet Length Mean 0\n",
      "Packet Length Std 0\n",
      "Packet Length Variance 0\n",
      "FIN Flag Count 0\n",
      "SYN Flag Count 0\n",
      "RST Flag Count 0\n",
      "PSH Flag Count 0\n",
      "ACK Flag Count 0\n",
      "URG Flag Count 0\n",
      "CWE Flag Count 0\n",
      "ECE Flag Count 0\n",
      "Down/Up Ratio 0\n",
      "Average Packet Size 0\n",
      "Avg Fwd Segment Size 0\n",
      "Avg Bwd Segment Size 0\n",
      "Fwd Header Length.1 0\n",
      "Fwd Avg Bytes/Bulk 0\n",
      "Fwd Avg Packets/Bulk 0\n",
      "Fwd Avg Bulk Rate 0\n",
      "Bwd Avg Bytes/Bulk 0\n",
      "Bwd Avg Packets/Bulk 0\n",
      "Bwd Avg Bulk Rate 0\n",
      "Subflow Fwd Packets 0\n",
      "Subflow Fwd Bytes 0\n",
      "Subflow Bwd Packets 0\n",
      "Subflow Bwd Bytes 0\n",
      "Label 0\n"
     ]
    }
   ],
   "source": [
    "for column,null_vals in data.isna().sum().items():\n",
    "    print(column,null_vals)"
   ]
  },
  {
   "cell_type": "code",
   "execution_count": 11,
   "id": "ae36c954",
   "metadata": {
    "execution": {
     "iopub.execute_input": "2025-05-13T19:07:30.966599Z",
     "iopub.status.busy": "2025-05-13T19:07:30.966261Z",
     "iopub.status.idle": "2025-05-13T19:07:30.972043Z",
     "shell.execute_reply": "2025-05-13T19:07:30.971172Z"
    },
    "papermill": {
     "duration": 0.023559,
     "end_time": "2025-05-13T19:07:30.973590",
     "exception": false,
     "start_time": "2025-05-13T19:07:30.950031",
     "status": "completed"
    },
    "tags": []
   },
   "outputs": [
    {
     "data": {
      "text/plain": [
       "(1988723, 67)"
      ]
     },
     "execution_count": 11,
     "metadata": {},
     "output_type": "execute_result"
    }
   ],
   "source": [
    "data.shape"
   ]
  },
  {
   "cell_type": "code",
   "execution_count": 12,
   "id": "af159ab3",
   "metadata": {
    "execution": {
     "iopub.execute_input": "2025-05-13T19:07:31.007160Z",
     "iopub.status.busy": "2025-05-13T19:07:31.006274Z",
     "iopub.status.idle": "2025-05-13T19:07:32.192604Z",
     "shell.execute_reply": "2025-05-13T19:07:32.191608Z"
    },
    "papermill": {
     "duration": 1.204447,
     "end_time": "2025-05-13T19:07:32.194422",
     "exception": false,
     "start_time": "2025-05-13T19:07:30.989975",
     "status": "completed"
    },
    "tags": []
   },
   "outputs": [],
   "source": [
    "import numpy as np\n",
    "\n",
    "data.replace([np.inf, -np.inf], np.nan, inplace=True)"
   ]
  },
  {
   "cell_type": "code",
   "execution_count": 13,
   "id": "3a033bd9",
   "metadata": {
    "execution": {
     "iopub.execute_input": "2025-05-13T19:07:32.227049Z",
     "iopub.status.busy": "2025-05-13T19:07:32.226730Z",
     "iopub.status.idle": "2025-05-13T19:07:33.001025Z",
     "shell.execute_reply": "2025-05-13T19:07:32.999835Z"
    },
    "papermill": {
     "duration": 0.79305,
     "end_time": "2025-05-13T19:07:33.002930",
     "exception": false,
     "start_time": "2025-05-13T19:07:32.209880",
     "status": "completed"
    },
    "tags": []
   },
   "outputs": [
    {
     "data": {
      "text/plain": [
       "(1986289, 67)"
      ]
     },
     "execution_count": 13,
     "metadata": {},
     "output_type": "execute_result"
    }
   ],
   "source": [
    "data = data.dropna()\n",
    "data.shape"
   ]
  },
  {
   "cell_type": "code",
   "execution_count": 14,
   "id": "e66358e1",
   "metadata": {
    "execution": {
     "iopub.execute_input": "2025-05-13T19:07:33.037338Z",
     "iopub.status.busy": "2025-05-13T19:07:33.036995Z",
     "iopub.status.idle": "2025-05-13T19:07:33.550658Z",
     "shell.execute_reply": "2025-05-13T19:07:33.549404Z"
    },
    "papermill": {
     "duration": 0.533642,
     "end_time": "2025-05-13T19:07:33.552815",
     "exception": false,
     "start_time": "2025-05-13T19:07:33.019173",
     "status": "completed"
    },
    "tags": []
   },
   "outputs": [],
   "source": [
    "float_cols = data.select_dtypes(include=['float64', 'float32']).columns\n",
    "data[float_cols] = data[float_cols].round(3)"
   ]
  },
  {
   "cell_type": "code",
   "execution_count": 15,
   "id": "1c7d5958",
   "metadata": {
    "execution": {
     "iopub.execute_input": "2025-05-13T19:07:33.656922Z",
     "iopub.status.busy": "2025-05-13T19:07:33.656210Z",
     "iopub.status.idle": "2025-05-13T19:07:38.343926Z",
     "shell.execute_reply": "2025-05-13T19:07:38.342989Z"
    },
    "papermill": {
     "duration": 4.706388,
     "end_time": "2025-05-13T19:07:38.345803",
     "exception": false,
     "start_time": "2025-05-13T19:07:33.639415",
     "status": "completed"
    },
    "tags": []
   },
   "outputs": [
    {
     "data": {
      "text/html": [
       "<div>\n",
       "<style scoped>\n",
       "    .dataframe tbody tr th:only-of-type {\n",
       "        vertical-align: middle;\n",
       "    }\n",
       "\n",
       "    .dataframe tbody tr th {\n",
       "        vertical-align: top;\n",
       "    }\n",
       "\n",
       "    .dataframe thead th {\n",
       "        text-align: right;\n",
       "    }\n",
       "</style>\n",
       "<table border=\"1\" class=\"dataframe\">\n",
       "  <thead>\n",
       "    <tr style=\"text-align: right;\">\n",
       "      <th></th>\n",
       "      <th>Destination Port</th>\n",
       "      <th>Flow Duration</th>\n",
       "      <th>Total Fwd Packets</th>\n",
       "      <th>Total Backward Packets</th>\n",
       "      <th>Total Length of Fwd Packets</th>\n",
       "      <th>Total Length of Bwd Packets</th>\n",
       "      <th>Fwd Packet Length Max</th>\n",
       "      <th>Fwd Packet Length Min</th>\n",
       "      <th>Fwd Packet Length Mean</th>\n",
       "      <th>Fwd Packet Length Std</th>\n",
       "      <th>...</th>\n",
       "      <th>Fwd Avg Bytes/Bulk</th>\n",
       "      <th>Fwd Avg Packets/Bulk</th>\n",
       "      <th>Fwd Avg Bulk Rate</th>\n",
       "      <th>Bwd Avg Bytes/Bulk</th>\n",
       "      <th>Bwd Avg Packets/Bulk</th>\n",
       "      <th>Bwd Avg Bulk Rate</th>\n",
       "      <th>Subflow Fwd Packets</th>\n",
       "      <th>Subflow Fwd Bytes</th>\n",
       "      <th>Subflow Bwd Packets</th>\n",
       "      <th>Subflow Bwd Bytes</th>\n",
       "    </tr>\n",
       "  </thead>\n",
       "  <tbody>\n",
       "    <tr>\n",
       "      <th>count</th>\n",
       "      <td>1.986289e+06</td>\n",
       "      <td>1.986289e+06</td>\n",
       "      <td>1.986289e+06</td>\n",
       "      <td>1.986289e+06</td>\n",
       "      <td>1.986289e+06</td>\n",
       "      <td>1.986289e+06</td>\n",
       "      <td>1.986289e+06</td>\n",
       "      <td>1.986289e+06</td>\n",
       "      <td>1.986289e+06</td>\n",
       "      <td>1.986289e+06</td>\n",
       "      <td>...</td>\n",
       "      <td>1986289.0</td>\n",
       "      <td>1986289.0</td>\n",
       "      <td>1986289.0</td>\n",
       "      <td>1986289.0</td>\n",
       "      <td>1986289.0</td>\n",
       "      <td>1986289.0</td>\n",
       "      <td>1.986289e+06</td>\n",
       "      <td>1.986289e+06</td>\n",
       "      <td>1.986289e+06</td>\n",
       "      <td>1.986289e+06</td>\n",
       "    </tr>\n",
       "    <tr>\n",
       "      <th>mean</th>\n",
       "      <td>7.803623e+03</td>\n",
       "      <td>1.573685e+07</td>\n",
       "      <td>8.838512e+00</td>\n",
       "      <td>9.624612e+00</td>\n",
       "      <td>5.092527e+02</td>\n",
       "      <td>1.471826e+04</td>\n",
       "      <td>1.813423e+02</td>\n",
       "      <td>1.693059e+01</td>\n",
       "      <td>4.917719e+01</td>\n",
       "      <td>5.852720e+01</td>\n",
       "      <td>...</td>\n",
       "      <td>0.0</td>\n",
       "      <td>0.0</td>\n",
       "      <td>0.0</td>\n",
       "      <td>0.0</td>\n",
       "      <td>0.0</td>\n",
       "      <td>0.0</td>\n",
       "      <td>8.838512e+00</td>\n",
       "      <td>5.092377e+02</td>\n",
       "      <td>9.624612e+00</td>\n",
       "      <td>1.471819e+04</td>\n",
       "    </tr>\n",
       "    <tr>\n",
       "      <th>std</th>\n",
       "      <td>1.780289e+04</td>\n",
       "      <td>3.481453e+07</td>\n",
       "      <td>7.238393e+02</td>\n",
       "      <td>9.579284e+02</td>\n",
       "      <td>1.134805e+04</td>\n",
       "      <td>2.173395e+06</td>\n",
       "      <td>5.061075e+02</td>\n",
       "      <td>4.095983e+01</td>\n",
       "      <td>1.237919e+02</td>\n",
       "      <td>1.766206e+02</td>\n",
       "      <td>...</td>\n",
       "      <td>0.0</td>\n",
       "      <td>0.0</td>\n",
       "      <td>0.0</td>\n",
       "      <td>0.0</td>\n",
       "      <td>0.0</td>\n",
       "      <td>0.0</td>\n",
       "      <td>7.238393e+02</td>\n",
       "      <td>1.133108e+04</td>\n",
       "      <td>9.579284e+02</td>\n",
       "      <td>2.173408e+06</td>\n",
       "    </tr>\n",
       "    <tr>\n",
       "      <th>min</th>\n",
       "      <td>0.000000e+00</td>\n",
       "      <td>-1.300000e+01</td>\n",
       "      <td>1.000000e+00</td>\n",
       "      <td>0.000000e+00</td>\n",
       "      <td>0.000000e+00</td>\n",
       "      <td>0.000000e+00</td>\n",
       "      <td>0.000000e+00</td>\n",
       "      <td>0.000000e+00</td>\n",
       "      <td>0.000000e+00</td>\n",
       "      <td>0.000000e+00</td>\n",
       "      <td>...</td>\n",
       "      <td>0.0</td>\n",
       "      <td>0.0</td>\n",
       "      <td>0.0</td>\n",
       "      <td>0.0</td>\n",
       "      <td>0.0</td>\n",
       "      <td>0.0</td>\n",
       "      <td>1.000000e+00</td>\n",
       "      <td>0.000000e+00</td>\n",
       "      <td>0.000000e+00</td>\n",
       "      <td>0.000000e+00</td>\n",
       "    </tr>\n",
       "    <tr>\n",
       "      <th>25%</th>\n",
       "      <td>5.300000e+01</td>\n",
       "      <td>9.100000e+01</td>\n",
       "      <td>1.000000e+00</td>\n",
       "      <td>1.000000e+00</td>\n",
       "      <td>6.000000e+00</td>\n",
       "      <td>6.000000e+00</td>\n",
       "      <td>6.000000e+00</td>\n",
       "      <td>0.000000e+00</td>\n",
       "      <td>6.000000e+00</td>\n",
       "      <td>0.000000e+00</td>\n",
       "      <td>...</td>\n",
       "      <td>0.0</td>\n",
       "      <td>0.0</td>\n",
       "      <td>0.0</td>\n",
       "      <td>0.0</td>\n",
       "      <td>0.0</td>\n",
       "      <td>0.0</td>\n",
       "      <td>1.000000e+00</td>\n",
       "      <td>6.000000e+00</td>\n",
       "      <td>1.000000e+00</td>\n",
       "      <td>6.000000e+00</td>\n",
       "    </tr>\n",
       "    <tr>\n",
       "      <th>50%</th>\n",
       "      <td>8.000000e+01</td>\n",
       "      <td>3.035300e+04</td>\n",
       "      <td>2.000000e+00</td>\n",
       "      <td>2.000000e+00</td>\n",
       "      <td>6.400000e+01</td>\n",
       "      <td>1.190000e+02</td>\n",
       "      <td>3.800000e+01</td>\n",
       "      <td>2.000000e+00</td>\n",
       "      <td>3.500000e+01</td>\n",
       "      <td>0.000000e+00</td>\n",
       "      <td>...</td>\n",
       "      <td>0.0</td>\n",
       "      <td>0.0</td>\n",
       "      <td>0.0</td>\n",
       "      <td>0.0</td>\n",
       "      <td>0.0</td>\n",
       "      <td>0.0</td>\n",
       "      <td>2.000000e+00</td>\n",
       "      <td>6.400000e+01</td>\n",
       "      <td>2.000000e+00</td>\n",
       "      <td>1.190000e+02</td>\n",
       "    </tr>\n",
       "    <tr>\n",
       "      <th>75%</th>\n",
       "      <td>4.430000e+02</td>\n",
       "      <td>1.859827e+06</td>\n",
       "      <td>5.000000e+00</td>\n",
       "      <td>4.000000e+00</td>\n",
       "      <td>3.130000e+02</td>\n",
       "      <td>4.520000e+02</td>\n",
       "      <td>1.970000e+02</td>\n",
       "      <td>3.600000e+01</td>\n",
       "      <td>5.100000e+01</td>\n",
       "      <td>7.014300e+01</td>\n",
       "      <td>...</td>\n",
       "      <td>0.0</td>\n",
       "      <td>0.0</td>\n",
       "      <td>0.0</td>\n",
       "      <td>0.0</td>\n",
       "      <td>0.0</td>\n",
       "      <td>0.0</td>\n",
       "      <td>5.000000e+00</td>\n",
       "      <td>3.130000e+02</td>\n",
       "      <td>4.000000e+00</td>\n",
       "      <td>4.520000e+02</td>\n",
       "    </tr>\n",
       "    <tr>\n",
       "      <th>max</th>\n",
       "      <td>6.553500e+04</td>\n",
       "      <td>1.200000e+08</td>\n",
       "      <td>2.197590e+05</td>\n",
       "      <td>2.919220e+05</td>\n",
       "      <td>1.290000e+07</td>\n",
       "      <td>6.554530e+08</td>\n",
       "      <td>2.482000e+04</td>\n",
       "      <td>2.325000e+03</td>\n",
       "      <td>5.940857e+03</td>\n",
       "      <td>7.125597e+03</td>\n",
       "      <td>...</td>\n",
       "      <td>0.0</td>\n",
       "      <td>0.0</td>\n",
       "      <td>0.0</td>\n",
       "      <td>0.0</td>\n",
       "      <td>0.0</td>\n",
       "      <td>0.0</td>\n",
       "      <td>2.197590e+05</td>\n",
       "      <td>1.287034e+07</td>\n",
       "      <td>2.919220e+05</td>\n",
       "      <td>6.554530e+08</td>\n",
       "    </tr>\n",
       "  </tbody>\n",
       "</table>\n",
       "<p>8 rows × 66 columns</p>\n",
       "</div>"
      ],
      "text/plain": [
       "       Destination Port  Flow Duration  Total Fwd Packets  \\\n",
       "count      1.986289e+06   1.986289e+06       1.986289e+06   \n",
       "mean       7.803623e+03   1.573685e+07       8.838512e+00   \n",
       "std        1.780289e+04   3.481453e+07       7.238393e+02   \n",
       "min        0.000000e+00  -1.300000e+01       1.000000e+00   \n",
       "25%        5.300000e+01   9.100000e+01       1.000000e+00   \n",
       "50%        8.000000e+01   3.035300e+04       2.000000e+00   \n",
       "75%        4.430000e+02   1.859827e+06       5.000000e+00   \n",
       "max        6.553500e+04   1.200000e+08       2.197590e+05   \n",
       "\n",
       "       Total Backward Packets  Total Length of Fwd Packets  \\\n",
       "count            1.986289e+06                 1.986289e+06   \n",
       "mean             9.624612e+00                 5.092527e+02   \n",
       "std              9.579284e+02                 1.134805e+04   \n",
       "min              0.000000e+00                 0.000000e+00   \n",
       "25%              1.000000e+00                 6.000000e+00   \n",
       "50%              2.000000e+00                 6.400000e+01   \n",
       "75%              4.000000e+00                 3.130000e+02   \n",
       "max              2.919220e+05                 1.290000e+07   \n",
       "\n",
       "       Total Length of Bwd Packets  Fwd Packet Length Max  \\\n",
       "count                 1.986289e+06           1.986289e+06   \n",
       "mean                  1.471826e+04           1.813423e+02   \n",
       "std                   2.173395e+06           5.061075e+02   \n",
       "min                   0.000000e+00           0.000000e+00   \n",
       "25%                   6.000000e+00           6.000000e+00   \n",
       "50%                   1.190000e+02           3.800000e+01   \n",
       "75%                   4.520000e+02           1.970000e+02   \n",
       "max                   6.554530e+08           2.482000e+04   \n",
       "\n",
       "       Fwd Packet Length Min  Fwd Packet Length Mean  Fwd Packet Length Std  \\\n",
       "count           1.986289e+06            1.986289e+06           1.986289e+06   \n",
       "mean            1.693059e+01            4.917719e+01           5.852720e+01   \n",
       "std             4.095983e+01            1.237919e+02           1.766206e+02   \n",
       "min             0.000000e+00            0.000000e+00           0.000000e+00   \n",
       "25%             0.000000e+00            6.000000e+00           0.000000e+00   \n",
       "50%             2.000000e+00            3.500000e+01           0.000000e+00   \n",
       "75%             3.600000e+01            5.100000e+01           7.014300e+01   \n",
       "max             2.325000e+03            5.940857e+03           7.125597e+03   \n",
       "\n",
       "       ...  Fwd Avg Bytes/Bulk  Fwd Avg Packets/Bulk  Fwd Avg Bulk Rate  \\\n",
       "count  ...           1986289.0             1986289.0          1986289.0   \n",
       "mean   ...                 0.0                   0.0                0.0   \n",
       "std    ...                 0.0                   0.0                0.0   \n",
       "min    ...                 0.0                   0.0                0.0   \n",
       "25%    ...                 0.0                   0.0                0.0   \n",
       "50%    ...                 0.0                   0.0                0.0   \n",
       "75%    ...                 0.0                   0.0                0.0   \n",
       "max    ...                 0.0                   0.0                0.0   \n",
       "\n",
       "       Bwd Avg Bytes/Bulk  Bwd Avg Packets/Bulk  Bwd Avg Bulk Rate  \\\n",
       "count           1986289.0             1986289.0          1986289.0   \n",
       "mean                  0.0                   0.0                0.0   \n",
       "std                   0.0                   0.0                0.0   \n",
       "min                   0.0                   0.0                0.0   \n",
       "25%                   0.0                   0.0                0.0   \n",
       "50%                   0.0                   0.0                0.0   \n",
       "75%                   0.0                   0.0                0.0   \n",
       "max                   0.0                   0.0                0.0   \n",
       "\n",
       "       Subflow Fwd Packets  Subflow Fwd Bytes  Subflow Bwd Packets  \\\n",
       "count         1.986289e+06       1.986289e+06         1.986289e+06   \n",
       "mean          8.838512e+00       5.092377e+02         9.624612e+00   \n",
       "std           7.238393e+02       1.133108e+04         9.579284e+02   \n",
       "min           1.000000e+00       0.000000e+00         0.000000e+00   \n",
       "25%           1.000000e+00       6.000000e+00         1.000000e+00   \n",
       "50%           2.000000e+00       6.400000e+01         2.000000e+00   \n",
       "75%           5.000000e+00       3.130000e+02         4.000000e+00   \n",
       "max           2.197590e+05       1.287034e+07         2.919220e+05   \n",
       "\n",
       "       Subflow Bwd Bytes  \n",
       "count       1.986289e+06  \n",
       "mean        1.471819e+04  \n",
       "std         2.173408e+06  \n",
       "min         0.000000e+00  \n",
       "25%         6.000000e+00  \n",
       "50%         1.190000e+02  \n",
       "75%         4.520000e+02  \n",
       "max         6.554530e+08  \n",
       "\n",
       "[8 rows x 66 columns]"
      ]
     },
     "execution_count": 15,
     "metadata": {},
     "output_type": "execute_result"
    }
   ],
   "source": [
    "data.describe()"
   ]
  },
  {
   "cell_type": "code",
   "execution_count": 16,
   "id": "07ec93f9",
   "metadata": {
    "execution": {
     "iopub.execute_input": "2025-05-13T19:07:38.379687Z",
     "iopub.status.busy": "2025-05-13T19:07:38.379386Z",
     "iopub.status.idle": "2025-05-13T19:07:38.556428Z",
     "shell.execute_reply": "2025-05-13T19:07:38.555254Z"
    },
    "papermill": {
     "duration": 0.196008,
     "end_time": "2025-05-13T19:07:38.558065",
     "exception": false,
     "start_time": "2025-05-13T19:07:38.362057",
     "status": "completed"
    },
    "tags": []
   },
   "outputs": [
    {
     "data": {
      "text/plain": [
       "Label\n",
       "BENIGN              1573770\n",
       "DoS Hulk             230124\n",
       "PortScan             158804\n",
       "DoS GoldenEye         10293\n",
       "DoS slowloris          5796\n",
       "DoS Slowhttptest       5499\n",
       "Bot                    1956\n",
       "Infiltration             36\n",
       "Heartbleed               11\n",
       "Name: count, dtype: int64"
      ]
     },
     "execution_count": 16,
     "metadata": {},
     "output_type": "execute_result"
    }
   ],
   "source": [
    "data['Label'].value_counts()"
   ]
  },
  {
   "cell_type": "code",
   "execution_count": 17,
   "id": "b9763b49",
   "metadata": {
    "execution": {
     "iopub.execute_input": "2025-05-13T19:07:38.593000Z",
     "iopub.status.busy": "2025-05-13T19:07:38.592663Z",
     "iopub.status.idle": "2025-05-13T19:07:44.938589Z",
     "shell.execute_reply": "2025-05-13T19:07:44.937287Z"
    },
    "papermill": {
     "duration": 6.366102,
     "end_time": "2025-05-13T19:07:44.940782",
     "exception": false,
     "start_time": "2025-05-13T19:07:38.574680",
     "status": "completed"
    },
    "tags": []
   },
   "outputs": [],
   "source": [
    "import pandas as pd\n",
    "import seaborn as sns\n",
    "import matplotlib.pyplot as plt\n",
    "from sklearn.preprocessing import LabelEncoder\n",
    "from sklearn.preprocessing import StandardScaler\n",
    "from sklearn.linear_model import LogisticRegression\n",
    "from sklearn.neighbors import KNeighborsClassifier\n",
    "from sklearn.tree import DecisionTreeClassifier\n",
    "from sklearn.ensemble import RandomForestClassifier\n",
    "from xgboost import XGBClassifier\n",
    "from lightgbm import LGBMClassifier\n",
    "from sklearn.svm import SVC\n",
    "from sklearn.metrics import accuracy_score, classification_report, confusion_matrix\n"
   ]
  },
  {
   "cell_type": "code",
   "execution_count": 18,
   "id": "e110a1f9",
   "metadata": {
    "execution": {
     "iopub.execute_input": "2025-05-13T19:07:44.976271Z",
     "iopub.status.busy": "2025-05-13T19:07:44.975608Z",
     "iopub.status.idle": "2025-05-13T19:07:44.980341Z",
     "shell.execute_reply": "2025-05-13T19:07:44.979541Z"
    },
    "papermill": {
     "duration": 0.023458,
     "end_time": "2025-05-13T19:07:44.981855",
     "exception": false,
     "start_time": "2025-05-13T19:07:44.958397",
     "status": "completed"
    },
    "tags": []
   },
   "outputs": [],
   "source": [
    "# data = data.iloc[28000:30000, :]"
   ]
  },
  {
   "cell_type": "code",
   "execution_count": 19,
   "id": "3350f6b3",
   "metadata": {
    "execution": {
     "iopub.execute_input": "2025-05-13T19:07:45.015787Z",
     "iopub.status.busy": "2025-05-13T19:07:45.015450Z",
     "iopub.status.idle": "2025-05-13T19:07:45.173243Z",
     "shell.execute_reply": "2025-05-13T19:07:45.172284Z"
    },
    "papermill": {
     "duration": 0.17708,
     "end_time": "2025-05-13T19:07:45.175001",
     "exception": false,
     "start_time": "2025-05-13T19:07:44.997921",
     "status": "completed"
    },
    "tags": []
   },
   "outputs": [
    {
     "data": {
      "text/plain": [
       "Label\n",
       "BENIGN              1573770\n",
       "DoS Hulk             230124\n",
       "PortScan             158804\n",
       "DoS GoldenEye         10293\n",
       "DoS slowloris          5796\n",
       "DoS Slowhttptest       5499\n",
       "Bot                    1956\n",
       "Infiltration             36\n",
       "Heartbleed               11\n",
       "Name: count, dtype: int64"
      ]
     },
     "execution_count": 19,
     "metadata": {},
     "output_type": "execute_result"
    }
   ],
   "source": [
    "data[\"Label\"].value_counts()"
   ]
  },
  {
   "cell_type": "code",
   "execution_count": 20,
   "id": "ad3398a0",
   "metadata": {
    "execution": {
     "iopub.execute_input": "2025-05-13T19:07:45.210993Z",
     "iopub.status.busy": "2025-05-13T19:07:45.210664Z",
     "iopub.status.idle": "2025-05-13T19:07:45.964586Z",
     "shell.execute_reply": "2025-05-13T19:07:45.963589Z"
    },
    "papermill": {
     "duration": 0.773597,
     "end_time": "2025-05-13T19:07:45.966271",
     "exception": false,
     "start_time": "2025-05-13T19:07:45.192674",
     "status": "completed"
    },
    "tags": []
   },
   "outputs": [],
   "source": [
    "from imblearn.over_sampling import SMOTE\n",
    "from sklearn.model_selection import train_test_split\n",
    "\n",
    "X = data.drop(columns = [\"Label\"],axis = 1)\n",
    "y = data[\"Label\"]"
   ]
  },
  {
   "cell_type": "code",
   "execution_count": 21,
   "id": "5cbce628",
   "metadata": {
    "execution": {
     "iopub.execute_input": "2025-05-13T19:07:46.000382Z",
     "iopub.status.busy": "2025-05-13T19:07:45.999719Z",
     "iopub.status.idle": "2025-05-13T19:07:46.006140Z",
     "shell.execute_reply": "2025-05-13T19:07:46.005216Z"
    },
    "papermill": {
     "duration": 0.025279,
     "end_time": "2025-05-13T19:07:46.007862",
     "exception": false,
     "start_time": "2025-05-13T19:07:45.982583",
     "status": "completed"
    },
    "tags": []
   },
   "outputs": [
    {
     "data": {
      "text/plain": [
       "(1986289, 67)"
      ]
     },
     "execution_count": 21,
     "metadata": {},
     "output_type": "execute_result"
    }
   ],
   "source": [
    "data.shape"
   ]
  },
  {
   "cell_type": "code",
   "execution_count": 22,
   "id": "9fe78335",
   "metadata": {
    "execution": {
     "iopub.execute_input": "2025-05-13T19:07:46.042015Z",
     "iopub.status.busy": "2025-05-13T19:07:46.041692Z",
     "iopub.status.idle": "2025-05-13T19:07:50.784008Z",
     "shell.execute_reply": "2025-05-13T19:07:50.783090Z"
    },
    "papermill": {
     "duration": 4.761354,
     "end_time": "2025-05-13T19:07:50.785650",
     "exception": false,
     "start_time": "2025-05-13T19:07:46.024296",
     "status": "completed"
    },
    "tags": []
   },
   "outputs": [],
   "source": [
    "X_train, X_test, y_train, y_test = train_test_split(X, y, stratify=y, random_state=42)"
   ]
  },
  {
   "cell_type": "code",
   "execution_count": 23,
   "id": "fdf85a05",
   "metadata": {
    "execution": {
     "iopub.execute_input": "2025-05-13T19:07:50.823471Z",
     "iopub.status.busy": "2025-05-13T19:07:50.823085Z",
     "iopub.status.idle": "2025-05-13T19:07:50.991176Z",
     "shell.execute_reply": "2025-05-13T19:07:50.990213Z"
    },
    "papermill": {
     "duration": 0.187633,
     "end_time": "2025-05-13T19:07:50.992748",
     "exception": false,
     "start_time": "2025-05-13T19:07:50.805115",
     "status": "completed"
    },
    "tags": []
   },
   "outputs": [
    {
     "data": {
      "text/plain": [
       "0"
      ]
     },
     "execution_count": 23,
     "metadata": {},
     "output_type": "execute_result"
    }
   ],
   "source": [
    "import gc\n",
    "del X,y\n",
    "gc.collect()"
   ]
  },
  {
   "cell_type": "code",
   "execution_count": 24,
   "id": "7dd99f95",
   "metadata": {
    "execution": {
     "iopub.execute_input": "2025-05-13T19:07:51.028482Z",
     "iopub.status.busy": "2025-05-13T19:07:51.028046Z",
     "iopub.status.idle": "2025-05-13T19:07:51.377561Z",
     "shell.execute_reply": "2025-05-13T19:07:51.376468Z"
    },
    "papermill": {
     "duration": 0.368673,
     "end_time": "2025-05-13T19:07:51.379142",
     "exception": false,
     "start_time": "2025-05-13T19:07:51.010469",
     "status": "completed"
    },
    "tags": []
   },
   "outputs": [],
   "source": [
    "le = LabelEncoder()\n",
    "y_train_1 = le.fit_transform(y_train)\n",
    "y_test_1 = le.transform(y_test)"
   ]
  },
  {
   "cell_type": "code",
   "execution_count": 25,
   "id": "cbd3433d",
   "metadata": {
    "execution": {
     "iopub.execute_input": "2025-05-13T19:07:51.415256Z",
     "iopub.status.busy": "2025-05-13T19:07:51.414928Z",
     "iopub.status.idle": "2025-05-13T19:07:53.523384Z",
     "shell.execute_reply": "2025-05-13T19:07:53.522226Z"
    },
    "papermill": {
     "duration": 2.129135,
     "end_time": "2025-05-13T19:07:53.525371",
     "exception": false,
     "start_time": "2025-05-13T19:07:51.396236",
     "status": "completed"
    },
    "tags": []
   },
   "outputs": [],
   "source": [
    "scaler = StandardScaler()\n",
    "X_train_1 = scaler.fit_transform(X_train)"
   ]
  },
  {
   "cell_type": "code",
   "execution_count": 26,
   "id": "3ecdeaa2",
   "metadata": {
    "execution": {
     "iopub.execute_input": "2025-05-13T19:07:53.560053Z",
     "iopub.status.busy": "2025-05-13T19:07:53.559748Z",
     "iopub.status.idle": "2025-05-13T19:07:53.564573Z",
     "shell.execute_reply": "2025-05-13T19:07:53.563577Z"
    },
    "papermill": {
     "duration": 0.024184,
     "end_time": "2025-05-13T19:07:53.566121",
     "exception": false,
     "start_time": "2025-05-13T19:07:53.541937",
     "status": "completed"
    },
    "tags": []
   },
   "outputs": [],
   "source": [
    "import pandas as pd\n",
    "import numpy as np\n",
    "import pickle\n",
    "import os\n",
    "\n",
    "from sklearn.model_selection import train_test_split\n",
    "from sklearn.preprocessing import LabelEncoder, StandardScaler\n",
    "from sklearn.metrics import accuracy_score, classification_report\n",
    "from sklearn.ensemble import RandomForestClassifier"
   ]
  },
  {
   "cell_type": "code",
   "execution_count": 27,
   "id": "eac12ce3",
   "metadata": {
    "execution": {
     "iopub.execute_input": "2025-05-13T19:07:53.600836Z",
     "iopub.status.busy": "2025-05-13T19:07:53.600490Z",
     "iopub.status.idle": "2025-05-13T19:35:23.458416Z",
     "shell.execute_reply": "2025-05-13T19:35:23.457113Z"
    },
    "papermill": {
     "duration": 1649.89761,
     "end_time": "2025-05-13T19:35:23.480194",
     "exception": false,
     "start_time": "2025-05-13T19:07:53.582584",
     "status": "completed"
    },
    "tags": []
   },
   "outputs": [
    {
     "data": {
      "text/html": [
       "<style>#sk-container-id-1 {\n",
       "  /* Definition of color scheme common for light and dark mode */\n",
       "  --sklearn-color-text: #000;\n",
       "  --sklearn-color-text-muted: #666;\n",
       "  --sklearn-color-line: gray;\n",
       "  /* Definition of color scheme for unfitted estimators */\n",
       "  --sklearn-color-unfitted-level-0: #fff5e6;\n",
       "  --sklearn-color-unfitted-level-1: #f6e4d2;\n",
       "  --sklearn-color-unfitted-level-2: #ffe0b3;\n",
       "  --sklearn-color-unfitted-level-3: chocolate;\n",
       "  /* Definition of color scheme for fitted estimators */\n",
       "  --sklearn-color-fitted-level-0: #f0f8ff;\n",
       "  --sklearn-color-fitted-level-1: #d4ebff;\n",
       "  --sklearn-color-fitted-level-2: #b3dbfd;\n",
       "  --sklearn-color-fitted-level-3: cornflowerblue;\n",
       "\n",
       "  /* Specific color for light theme */\n",
       "  --sklearn-color-text-on-default-background: var(--sg-text-color, var(--theme-code-foreground, var(--jp-content-font-color1, black)));\n",
       "  --sklearn-color-background: var(--sg-background-color, var(--theme-background, var(--jp-layout-color0, white)));\n",
       "  --sklearn-color-border-box: var(--sg-text-color, var(--theme-code-foreground, var(--jp-content-font-color1, black)));\n",
       "  --sklearn-color-icon: #696969;\n",
       "\n",
       "  @media (prefers-color-scheme: dark) {\n",
       "    /* Redefinition of color scheme for dark theme */\n",
       "    --sklearn-color-text-on-default-background: var(--sg-text-color, var(--theme-code-foreground, var(--jp-content-font-color1, white)));\n",
       "    --sklearn-color-background: var(--sg-background-color, var(--theme-background, var(--jp-layout-color0, #111)));\n",
       "    --sklearn-color-border-box: var(--sg-text-color, var(--theme-code-foreground, var(--jp-content-font-color1, white)));\n",
       "    --sklearn-color-icon: #878787;\n",
       "  }\n",
       "}\n",
       "\n",
       "#sk-container-id-1 {\n",
       "  color: var(--sklearn-color-text);\n",
       "}\n",
       "\n",
       "#sk-container-id-1 pre {\n",
       "  padding: 0;\n",
       "}\n",
       "\n",
       "#sk-container-id-1 input.sk-hidden--visually {\n",
       "  border: 0;\n",
       "  clip: rect(1px 1px 1px 1px);\n",
       "  clip: rect(1px, 1px, 1px, 1px);\n",
       "  height: 1px;\n",
       "  margin: -1px;\n",
       "  overflow: hidden;\n",
       "  padding: 0;\n",
       "  position: absolute;\n",
       "  width: 1px;\n",
       "}\n",
       "\n",
       "#sk-container-id-1 div.sk-dashed-wrapped {\n",
       "  border: 1px dashed var(--sklearn-color-line);\n",
       "  margin: 0 0.4em 0.5em 0.4em;\n",
       "  box-sizing: border-box;\n",
       "  padding-bottom: 0.4em;\n",
       "  background-color: var(--sklearn-color-background);\n",
       "}\n",
       "\n",
       "#sk-container-id-1 div.sk-container {\n",
       "  /* jupyter's `normalize.less` sets `[hidden] { display: none; }`\n",
       "     but bootstrap.min.css set `[hidden] { display: none !important; }`\n",
       "     so we also need the `!important` here to be able to override the\n",
       "     default hidden behavior on the sphinx rendered scikit-learn.org.\n",
       "     See: https://github.com/scikit-learn/scikit-learn/issues/21755 */\n",
       "  display: inline-block !important;\n",
       "  position: relative;\n",
       "}\n",
       "\n",
       "#sk-container-id-1 div.sk-text-repr-fallback {\n",
       "  display: none;\n",
       "}\n",
       "\n",
       "div.sk-parallel-item,\n",
       "div.sk-serial,\n",
       "div.sk-item {\n",
       "  /* draw centered vertical line to link estimators */\n",
       "  background-image: linear-gradient(var(--sklearn-color-text-on-default-background), var(--sklearn-color-text-on-default-background));\n",
       "  background-size: 2px 100%;\n",
       "  background-repeat: no-repeat;\n",
       "  background-position: center center;\n",
       "}\n",
       "\n",
       "/* Parallel-specific style estimator block */\n",
       "\n",
       "#sk-container-id-1 div.sk-parallel-item::after {\n",
       "  content: \"\";\n",
       "  width: 100%;\n",
       "  border-bottom: 2px solid var(--sklearn-color-text-on-default-background);\n",
       "  flex-grow: 1;\n",
       "}\n",
       "\n",
       "#sk-container-id-1 div.sk-parallel {\n",
       "  display: flex;\n",
       "  align-items: stretch;\n",
       "  justify-content: center;\n",
       "  background-color: var(--sklearn-color-background);\n",
       "  position: relative;\n",
       "}\n",
       "\n",
       "#sk-container-id-1 div.sk-parallel-item {\n",
       "  display: flex;\n",
       "  flex-direction: column;\n",
       "}\n",
       "\n",
       "#sk-container-id-1 div.sk-parallel-item:first-child::after {\n",
       "  align-self: flex-end;\n",
       "  width: 50%;\n",
       "}\n",
       "\n",
       "#sk-container-id-1 div.sk-parallel-item:last-child::after {\n",
       "  align-self: flex-start;\n",
       "  width: 50%;\n",
       "}\n",
       "\n",
       "#sk-container-id-1 div.sk-parallel-item:only-child::after {\n",
       "  width: 0;\n",
       "}\n",
       "\n",
       "/* Serial-specific style estimator block */\n",
       "\n",
       "#sk-container-id-1 div.sk-serial {\n",
       "  display: flex;\n",
       "  flex-direction: column;\n",
       "  align-items: center;\n",
       "  background-color: var(--sklearn-color-background);\n",
       "  padding-right: 1em;\n",
       "  padding-left: 1em;\n",
       "}\n",
       "\n",
       "\n",
       "/* Toggleable style: style used for estimator/Pipeline/ColumnTransformer box that is\n",
       "clickable and can be expanded/collapsed.\n",
       "- Pipeline and ColumnTransformer use this feature and define the default style\n",
       "- Estimators will overwrite some part of the style using the `sk-estimator` class\n",
       "*/\n",
       "\n",
       "/* Pipeline and ColumnTransformer style (default) */\n",
       "\n",
       "#sk-container-id-1 div.sk-toggleable {\n",
       "  /* Default theme specific background. It is overwritten whether we have a\n",
       "  specific estimator or a Pipeline/ColumnTransformer */\n",
       "  background-color: var(--sklearn-color-background);\n",
       "}\n",
       "\n",
       "/* Toggleable label */\n",
       "#sk-container-id-1 label.sk-toggleable__label {\n",
       "  cursor: pointer;\n",
       "  display: flex;\n",
       "  width: 100%;\n",
       "  margin-bottom: 0;\n",
       "  padding: 0.5em;\n",
       "  box-sizing: border-box;\n",
       "  text-align: center;\n",
       "  align-items: start;\n",
       "  justify-content: space-between;\n",
       "  gap: 0.5em;\n",
       "}\n",
       "\n",
       "#sk-container-id-1 label.sk-toggleable__label .caption {\n",
       "  font-size: 0.6rem;\n",
       "  font-weight: lighter;\n",
       "  color: var(--sklearn-color-text-muted);\n",
       "}\n",
       "\n",
       "#sk-container-id-1 label.sk-toggleable__label-arrow:before {\n",
       "  /* Arrow on the left of the label */\n",
       "  content: \"▸\";\n",
       "  float: left;\n",
       "  margin-right: 0.25em;\n",
       "  color: var(--sklearn-color-icon);\n",
       "}\n",
       "\n",
       "#sk-container-id-1 label.sk-toggleable__label-arrow:hover:before {\n",
       "  color: var(--sklearn-color-text);\n",
       "}\n",
       "\n",
       "/* Toggleable content - dropdown */\n",
       "\n",
       "#sk-container-id-1 div.sk-toggleable__content {\n",
       "  max-height: 0;\n",
       "  max-width: 0;\n",
       "  overflow: hidden;\n",
       "  text-align: left;\n",
       "  /* unfitted */\n",
       "  background-color: var(--sklearn-color-unfitted-level-0);\n",
       "}\n",
       "\n",
       "#sk-container-id-1 div.sk-toggleable__content.fitted {\n",
       "  /* fitted */\n",
       "  background-color: var(--sklearn-color-fitted-level-0);\n",
       "}\n",
       "\n",
       "#sk-container-id-1 div.sk-toggleable__content pre {\n",
       "  margin: 0.2em;\n",
       "  border-radius: 0.25em;\n",
       "  color: var(--sklearn-color-text);\n",
       "  /* unfitted */\n",
       "  background-color: var(--sklearn-color-unfitted-level-0);\n",
       "}\n",
       "\n",
       "#sk-container-id-1 div.sk-toggleable__content.fitted pre {\n",
       "  /* unfitted */\n",
       "  background-color: var(--sklearn-color-fitted-level-0);\n",
       "}\n",
       "\n",
       "#sk-container-id-1 input.sk-toggleable__control:checked~div.sk-toggleable__content {\n",
       "  /* Expand drop-down */\n",
       "  max-height: 200px;\n",
       "  max-width: 100%;\n",
       "  overflow: auto;\n",
       "}\n",
       "\n",
       "#sk-container-id-1 input.sk-toggleable__control:checked~label.sk-toggleable__label-arrow:before {\n",
       "  content: \"▾\";\n",
       "}\n",
       "\n",
       "/* Pipeline/ColumnTransformer-specific style */\n",
       "\n",
       "#sk-container-id-1 div.sk-label input.sk-toggleable__control:checked~label.sk-toggleable__label {\n",
       "  color: var(--sklearn-color-text);\n",
       "  background-color: var(--sklearn-color-unfitted-level-2);\n",
       "}\n",
       "\n",
       "#sk-container-id-1 div.sk-label.fitted input.sk-toggleable__control:checked~label.sk-toggleable__label {\n",
       "  background-color: var(--sklearn-color-fitted-level-2);\n",
       "}\n",
       "\n",
       "/* Estimator-specific style */\n",
       "\n",
       "/* Colorize estimator box */\n",
       "#sk-container-id-1 div.sk-estimator input.sk-toggleable__control:checked~label.sk-toggleable__label {\n",
       "  /* unfitted */\n",
       "  background-color: var(--sklearn-color-unfitted-level-2);\n",
       "}\n",
       "\n",
       "#sk-container-id-1 div.sk-estimator.fitted input.sk-toggleable__control:checked~label.sk-toggleable__label {\n",
       "  /* fitted */\n",
       "  background-color: var(--sklearn-color-fitted-level-2);\n",
       "}\n",
       "\n",
       "#sk-container-id-1 div.sk-label label.sk-toggleable__label,\n",
       "#sk-container-id-1 div.sk-label label {\n",
       "  /* The background is the default theme color */\n",
       "  color: var(--sklearn-color-text-on-default-background);\n",
       "}\n",
       "\n",
       "/* On hover, darken the color of the background */\n",
       "#sk-container-id-1 div.sk-label:hover label.sk-toggleable__label {\n",
       "  color: var(--sklearn-color-text);\n",
       "  background-color: var(--sklearn-color-unfitted-level-2);\n",
       "}\n",
       "\n",
       "/* Label box, darken color on hover, fitted */\n",
       "#sk-container-id-1 div.sk-label.fitted:hover label.sk-toggleable__label.fitted {\n",
       "  color: var(--sklearn-color-text);\n",
       "  background-color: var(--sklearn-color-fitted-level-2);\n",
       "}\n",
       "\n",
       "/* Estimator label */\n",
       "\n",
       "#sk-container-id-1 div.sk-label label {\n",
       "  font-family: monospace;\n",
       "  font-weight: bold;\n",
       "  display: inline-block;\n",
       "  line-height: 1.2em;\n",
       "}\n",
       "\n",
       "#sk-container-id-1 div.sk-label-container {\n",
       "  text-align: center;\n",
       "}\n",
       "\n",
       "/* Estimator-specific */\n",
       "#sk-container-id-1 div.sk-estimator {\n",
       "  font-family: monospace;\n",
       "  border: 1px dotted var(--sklearn-color-border-box);\n",
       "  border-radius: 0.25em;\n",
       "  box-sizing: border-box;\n",
       "  margin-bottom: 0.5em;\n",
       "  /* unfitted */\n",
       "  background-color: var(--sklearn-color-unfitted-level-0);\n",
       "}\n",
       "\n",
       "#sk-container-id-1 div.sk-estimator.fitted {\n",
       "  /* fitted */\n",
       "  background-color: var(--sklearn-color-fitted-level-0);\n",
       "}\n",
       "\n",
       "/* on hover */\n",
       "#sk-container-id-1 div.sk-estimator:hover {\n",
       "  /* unfitted */\n",
       "  background-color: var(--sklearn-color-unfitted-level-2);\n",
       "}\n",
       "\n",
       "#sk-container-id-1 div.sk-estimator.fitted:hover {\n",
       "  /* fitted */\n",
       "  background-color: var(--sklearn-color-fitted-level-2);\n",
       "}\n",
       "\n",
       "/* Specification for estimator info (e.g. \"i\" and \"?\") */\n",
       "\n",
       "/* Common style for \"i\" and \"?\" */\n",
       "\n",
       ".sk-estimator-doc-link,\n",
       "a:link.sk-estimator-doc-link,\n",
       "a:visited.sk-estimator-doc-link {\n",
       "  float: right;\n",
       "  font-size: smaller;\n",
       "  line-height: 1em;\n",
       "  font-family: monospace;\n",
       "  background-color: var(--sklearn-color-background);\n",
       "  border-radius: 1em;\n",
       "  height: 1em;\n",
       "  width: 1em;\n",
       "  text-decoration: none !important;\n",
       "  margin-left: 0.5em;\n",
       "  text-align: center;\n",
       "  /* unfitted */\n",
       "  border: var(--sklearn-color-unfitted-level-1) 1pt solid;\n",
       "  color: var(--sklearn-color-unfitted-level-1);\n",
       "}\n",
       "\n",
       ".sk-estimator-doc-link.fitted,\n",
       "a:link.sk-estimator-doc-link.fitted,\n",
       "a:visited.sk-estimator-doc-link.fitted {\n",
       "  /* fitted */\n",
       "  border: var(--sklearn-color-fitted-level-1) 1pt solid;\n",
       "  color: var(--sklearn-color-fitted-level-1);\n",
       "}\n",
       "\n",
       "/* On hover */\n",
       "div.sk-estimator:hover .sk-estimator-doc-link:hover,\n",
       ".sk-estimator-doc-link:hover,\n",
       "div.sk-label-container:hover .sk-estimator-doc-link:hover,\n",
       ".sk-estimator-doc-link:hover {\n",
       "  /* unfitted */\n",
       "  background-color: var(--sklearn-color-unfitted-level-3);\n",
       "  color: var(--sklearn-color-background);\n",
       "  text-decoration: none;\n",
       "}\n",
       "\n",
       "div.sk-estimator.fitted:hover .sk-estimator-doc-link.fitted:hover,\n",
       ".sk-estimator-doc-link.fitted:hover,\n",
       "div.sk-label-container:hover .sk-estimator-doc-link.fitted:hover,\n",
       ".sk-estimator-doc-link.fitted:hover {\n",
       "  /* fitted */\n",
       "  background-color: var(--sklearn-color-fitted-level-3);\n",
       "  color: var(--sklearn-color-background);\n",
       "  text-decoration: none;\n",
       "}\n",
       "\n",
       "/* Span, style for the box shown on hovering the info icon */\n",
       ".sk-estimator-doc-link span {\n",
       "  display: none;\n",
       "  z-index: 9999;\n",
       "  position: relative;\n",
       "  font-weight: normal;\n",
       "  right: .2ex;\n",
       "  padding: .5ex;\n",
       "  margin: .5ex;\n",
       "  width: min-content;\n",
       "  min-width: 20ex;\n",
       "  max-width: 50ex;\n",
       "  color: var(--sklearn-color-text);\n",
       "  box-shadow: 2pt 2pt 4pt #999;\n",
       "  /* unfitted */\n",
       "  background: var(--sklearn-color-unfitted-level-0);\n",
       "  border: .5pt solid var(--sklearn-color-unfitted-level-3);\n",
       "}\n",
       "\n",
       ".sk-estimator-doc-link.fitted span {\n",
       "  /* fitted */\n",
       "  background: var(--sklearn-color-fitted-level-0);\n",
       "  border: var(--sklearn-color-fitted-level-3);\n",
       "}\n",
       "\n",
       ".sk-estimator-doc-link:hover span {\n",
       "  display: block;\n",
       "}\n",
       "\n",
       "/* \"?\"-specific style due to the `<a>` HTML tag */\n",
       "\n",
       "#sk-container-id-1 a.estimator_doc_link {\n",
       "  float: right;\n",
       "  font-size: 1rem;\n",
       "  line-height: 1em;\n",
       "  font-family: monospace;\n",
       "  background-color: var(--sklearn-color-background);\n",
       "  border-radius: 1rem;\n",
       "  height: 1rem;\n",
       "  width: 1rem;\n",
       "  text-decoration: none;\n",
       "  /* unfitted */\n",
       "  color: var(--sklearn-color-unfitted-level-1);\n",
       "  border: var(--sklearn-color-unfitted-level-1) 1pt solid;\n",
       "}\n",
       "\n",
       "#sk-container-id-1 a.estimator_doc_link.fitted {\n",
       "  /* fitted */\n",
       "  border: var(--sklearn-color-fitted-level-1) 1pt solid;\n",
       "  color: var(--sklearn-color-fitted-level-1);\n",
       "}\n",
       "\n",
       "/* On hover */\n",
       "#sk-container-id-1 a.estimator_doc_link:hover {\n",
       "  /* unfitted */\n",
       "  background-color: var(--sklearn-color-unfitted-level-3);\n",
       "  color: var(--sklearn-color-background);\n",
       "  text-decoration: none;\n",
       "}\n",
       "\n",
       "#sk-container-id-1 a.estimator_doc_link.fitted:hover {\n",
       "  /* fitted */\n",
       "  background-color: var(--sklearn-color-fitted-level-3);\n",
       "}\n",
       "</style><div id=\"sk-container-id-1\" class=\"sk-top-container\"><div class=\"sk-text-repr-fallback\"><pre>RandomForestClassifier(n_estimators=200, n_jobs=1, random_state=42)</pre><b>In a Jupyter environment, please rerun this cell to show the HTML representation or trust the notebook. <br />On GitHub, the HTML representation is unable to render, please try loading this page with nbviewer.org.</b></div><div class=\"sk-container\" hidden><div class=\"sk-item\"><div class=\"sk-estimator fitted sk-toggleable\"><input class=\"sk-toggleable__control sk-hidden--visually\" id=\"sk-estimator-id-1\" type=\"checkbox\" checked><label for=\"sk-estimator-id-1\" class=\"sk-toggleable__label fitted sk-toggleable__label-arrow\"><div><div>RandomForestClassifier</div></div><div><a class=\"sk-estimator-doc-link fitted\" rel=\"noreferrer\" target=\"_blank\" href=\"https://scikit-learn.org/1.6/modules/generated/sklearn.ensemble.RandomForestClassifier.html\">?<span>Documentation for RandomForestClassifier</span></a><span class=\"sk-estimator-doc-link fitted\">i<span>Fitted</span></span></div></label><div class=\"sk-toggleable__content fitted\"><pre>RandomForestClassifier(n_estimators=200, n_jobs=1, random_state=42)</pre></div> </div></div></div></div>"
      ],
      "text/plain": [
       "RandomForestClassifier(n_estimators=200, n_jobs=1, random_state=42)"
      ]
     },
     "execution_count": 27,
     "metadata": {},
     "output_type": "execute_result"
    }
   ],
   "source": [
    "\n",
    "from sklearn.ensemble import RandomForestClassifier\n",
    "from sklearn.metrics import classification_report, accuracy_score\n",
    "\n",
    "# Train the model\n",
    "rf = RandomForestClassifier(n_estimators=200, random_state=42, n_jobs=1)\n",
    "rf.fit(X_train_1, y_train_1)\n"
   ]
  },
  {
   "cell_type": "code",
   "execution_count": null,
   "id": "e9bd9c51",
   "metadata": {
    "papermill": {
     "duration": 0.018358,
     "end_time": "2025-05-13T19:35:23.517006",
     "exception": false,
     "start_time": "2025-05-13T19:35:23.498648",
     "status": "completed"
    },
    "tags": []
   },
   "outputs": [],
   "source": []
  },
  {
   "cell_type": "code",
   "execution_count": 28,
   "id": "c5ff7544",
   "metadata": {
    "execution": {
     "iopub.execute_input": "2025-05-13T19:35:23.553647Z",
     "iopub.status.busy": "2025-05-13T19:35:23.553232Z",
     "iopub.status.idle": "2025-05-13T19:35:31.649630Z",
     "shell.execute_reply": "2025-05-13T19:35:31.647978Z"
    },
    "papermill": {
     "duration": 8.116979,
     "end_time": "2025-05-13T19:35:31.651854",
     "exception": false,
     "start_time": "2025-05-13T19:35:23.534875",
     "status": "completed"
    },
    "tags": []
   },
   "outputs": [
    {
     "name": "stderr",
     "output_type": "stream",
     "text": [
      "/usr/local/lib/python3.11/dist-packages/sklearn/utils/validation.py:2732: UserWarning: X has feature names, but RandomForestClassifier was fitted without feature names\n",
      "  warnings.warn(\n"
     ]
    },
    {
     "name": "stdout",
     "output_type": "stream",
     "text": [
      "Accuracy: 0.7923165375483564\n"
     ]
    }
   ],
   "source": [
    "# Predict on the test set\n",
    "y_pred = rf.predict(X_test)\n",
    "print(\"Accuracy:\", accuracy_score(y_test_1, y_pred))"
   ]
  },
  {
   "cell_type": "code",
   "execution_count": 29,
   "id": "9acf0e19",
   "metadata": {
    "execution": {
     "iopub.execute_input": "2025-05-13T19:35:31.688305Z",
     "iopub.status.busy": "2025-05-13T19:35:31.687986Z",
     "iopub.status.idle": "2025-05-13T19:35:31.853790Z",
     "shell.execute_reply": "2025-05-13T19:35:31.852345Z"
    },
    "papermill": {
     "duration": 0.185618,
     "end_time": "2025-05-13T19:35:31.855404",
     "exception": false,
     "start_time": "2025-05-13T19:35:31.669786",
     "status": "completed"
    },
    "tags": []
   },
   "outputs": [
    {
     "name": "stdout",
     "output_type": "stream",
     "text": [
      "Classification Report:\n",
      "                   precision    recall  f1-score   support\n",
      "\n",
      "          BENIGN       0.79      1.00      0.88    393443\n",
      "             Bot       0.00      0.00      0.00       489\n",
      "   DoS GoldenEye       0.00      0.00      0.00      2573\n",
      "        DoS Hulk       0.00      0.00      0.00     57531\n",
      "DoS Slowhttptest       0.00      0.00      0.00      1375\n",
      "   DoS slowloris       0.00      0.00      0.00      1449\n",
      "      Heartbleed       0.00      0.00      0.00         3\n",
      "    Infiltration       0.00      0.00      0.00         9\n",
      "        PortScan       0.00      0.00      0.00     39701\n",
      "\n",
      "        accuracy                           0.79    496573\n",
      "       macro avg       0.09      0.11      0.10    496573\n",
      "    weighted avg       0.63      0.79      0.70    496573\n",
      "\n"
     ]
    },
    {
     "name": "stderr",
     "output_type": "stream",
     "text": [
      "/usr/local/lib/python3.11/dist-packages/sklearn/metrics/_classification.py:1565: UndefinedMetricWarning: Precision is ill-defined and being set to 0.0 in labels with no predicted samples. Use `zero_division` parameter to control this behavior.\n",
      "  _warn_prf(average, modifier, f\"{metric.capitalize()} is\", len(result))\n",
      "/usr/local/lib/python3.11/dist-packages/sklearn/metrics/_classification.py:1565: UndefinedMetricWarning: Precision is ill-defined and being set to 0.0 in labels with no predicted samples. Use `zero_division` parameter to control this behavior.\n",
      "  _warn_prf(average, modifier, f\"{metric.capitalize()} is\", len(result))\n",
      "/usr/local/lib/python3.11/dist-packages/sklearn/metrics/_classification.py:1565: UndefinedMetricWarning: Precision is ill-defined and being set to 0.0 in labels with no predicted samples. Use `zero_division` parameter to control this behavior.\n",
      "  _warn_prf(average, modifier, f\"{metric.capitalize()} is\", len(result))\n"
     ]
    }
   ],
   "source": [
    "print(\"Classification Report:\\n\", classification_report(y_test_1, y_pred, target_names=le.classes_))"
   ]
  },
  {
   "cell_type": "code",
   "execution_count": 30,
   "id": "70082198",
   "metadata": {
    "execution": {
     "iopub.execute_input": "2025-05-13T19:35:31.892582Z",
     "iopub.status.busy": "2025-05-13T19:35:31.892222Z",
     "iopub.status.idle": "2025-05-13T19:35:32.192185Z",
     "shell.execute_reply": "2025-05-13T19:35:32.189904Z"
    },
    "papermill": {
     "duration": 0.321373,
     "end_time": "2025-05-13T19:35:32.194452",
     "exception": false,
     "start_time": "2025-05-13T19:35:31.873079",
     "status": "completed"
    },
    "tags": []
   },
   "outputs": [
    {
     "data": {
      "text/plain": [
       "['scaler_without_smote.pkl']"
      ]
     },
     "execution_count": 30,
     "metadata": {},
     "output_type": "execute_result"
    }
   ],
   "source": [
    "import joblib\n",
    "\n",
    "# Save the trained Random Forest model\n",
    "joblib.dump(rf, 'random_forest_model_without_smote.pkl')\n",
    "\n",
    "# Save the LabelEncoder\n",
    "joblib.dump(le, 'label_encoder_withoutsmote.pkl')\n",
    "\n",
    "# Save the scaler (if you used one, e.g., StandardScaler)\n",
    "joblib.dump(scaler, 'scaler_without_smote.pkl')  # Replace 'scaler' with your actual scaler variable"
   ]
  },
  {
   "cell_type": "code",
   "execution_count": 31,
   "id": "be9638b0",
   "metadata": {
    "execution": {
     "iopub.execute_input": "2025-05-13T19:35:32.233028Z",
     "iopub.status.busy": "2025-05-13T19:35:32.232703Z",
     "iopub.status.idle": "2025-05-13T19:35:32.408033Z",
     "shell.execute_reply": "2025-05-13T19:35:32.406971Z"
    },
    "papermill": {
     "duration": 0.195862,
     "end_time": "2025-05-13T19:35:32.409829",
     "exception": false,
     "start_time": "2025-05-13T19:35:32.213967",
     "status": "completed"
    },
    "tags": []
   },
   "outputs": [
    {
     "data": {
      "text/plain": [
       "0"
      ]
     },
     "execution_count": 31,
     "metadata": {},
     "output_type": "execute_result"
    }
   ],
   "source": [
    "del rf\n",
    "gc.collect()"
   ]
  },
  {
   "cell_type": "code",
   "execution_count": 32,
   "id": "90c57938",
   "metadata": {
    "execution": {
     "iopub.execute_input": "2025-05-13T19:35:32.448209Z",
     "iopub.status.busy": "2025-05-13T19:35:32.447880Z",
     "iopub.status.idle": "2025-05-13T19:35:36.628713Z",
     "shell.execute_reply": "2025-05-13T19:35:36.627413Z"
    },
    "papermill": {
     "duration": 4.203275,
     "end_time": "2025-05-13T19:35:36.630831",
     "exception": false,
     "start_time": "2025-05-13T19:35:32.427556",
     "status": "completed"
    },
    "tags": []
   },
   "outputs": [
    {
     "name": "stdout",
     "output_type": "stream",
     "text": [
      "Requirement already satisfied: xgboost in /usr/local/lib/python3.11/dist-packages (2.0.3)\r\n",
      "Requirement already satisfied: numpy in /usr/local/lib/python3.11/dist-packages (from xgboost) (1.26.4)\r\n",
      "Requirement already satisfied: scipy in /usr/local/lib/python3.11/dist-packages (from xgboost) (1.15.2)\r\n",
      "Requirement already satisfied: mkl_fft in /usr/local/lib/python3.11/dist-packages (from numpy->xgboost) (1.3.8)\r\n",
      "Requirement already satisfied: mkl_random in /usr/local/lib/python3.11/dist-packages (from numpy->xgboost) (1.2.4)\r\n",
      "Requirement already satisfied: mkl_umath in /usr/local/lib/python3.11/dist-packages (from numpy->xgboost) (0.1.1)\r\n",
      "Requirement already satisfied: mkl in /usr/local/lib/python3.11/dist-packages (from numpy->xgboost) (2025.1.0)\r\n",
      "Requirement already satisfied: tbb4py in /usr/local/lib/python3.11/dist-packages (from numpy->xgboost) (2022.1.0)\r\n",
      "Requirement already satisfied: mkl-service in /usr/local/lib/python3.11/dist-packages (from numpy->xgboost) (2.4.1)\r\n",
      "Requirement already satisfied: intel-openmp<2026,>=2024 in /usr/local/lib/python3.11/dist-packages (from mkl->numpy->xgboost) (2024.2.0)\r\n",
      "Requirement already satisfied: tbb==2022.* in /usr/local/lib/python3.11/dist-packages (from mkl->numpy->xgboost) (2022.1.0)\r\n",
      "Requirement already satisfied: tcmlib==1.* in /usr/local/lib/python3.11/dist-packages (from tbb==2022.*->mkl->numpy->xgboost) (1.2.0)\r\n"
     ]
    },
    {
     "name": "stdout",
     "output_type": "stream",
     "text": [
      "Requirement already satisfied: intel-cmplr-lib-rt in /usr/local/lib/python3.11/dist-packages (from mkl_umath->numpy->xgboost) (2024.2.0)\r\n",
      "Requirement already satisfied: intel-cmplr-lib-ur==2024.2.0 in /usr/local/lib/python3.11/dist-packages (from intel-openmp<2026,>=2024->mkl->numpy->xgboost) (2024.2.0)\r\n"
     ]
    }
   ],
   "source": [
    "!pip install xgboost"
   ]
  },
  {
   "cell_type": "code",
   "execution_count": 33,
   "id": "53b1a67d",
   "metadata": {
    "execution": {
     "iopub.execute_input": "2025-05-13T19:35:36.670451Z",
     "iopub.status.busy": "2025-05-13T19:35:36.669040Z",
     "iopub.status.idle": "2025-05-13T19:35:36.676685Z",
     "shell.execute_reply": "2025-05-13T19:35:36.675379Z"
    },
    "papermill": {
     "duration": 0.030239,
     "end_time": "2025-05-13T19:35:36.678507",
     "exception": false,
     "start_time": "2025-05-13T19:35:36.648268",
     "status": "completed"
    },
    "tags": []
   },
   "outputs": [],
   "source": [
    "import xgboost as xgb\n",
    "from sklearn.metrics import classification_report, accuracy_score\n",
    "\n",
    "# Train the model\n",
    "xgb_model = xgb.XGBClassifier(\n",
    "    n_estimators=100,  # Number of boosting rounds\n",
    "    learning_rate=0.1,  # Step size for each boosting round\n",
    "    max_depth=6,  # Depth of each tree\n",
    "    random_state=42,  # For reproducibility\n",
    "    n_jobs=-1  # Use all CPU cores\n",
    ")\n",
    "\n"
   ]
  },
  {
   "cell_type": "code",
   "execution_count": 34,
   "id": "24026cde",
   "metadata": {
    "execution": {
     "iopub.execute_input": "2025-05-13T19:35:36.720803Z",
     "iopub.status.busy": "2025-05-13T19:35:36.720278Z",
     "iopub.status.idle": "2025-05-13T19:37:48.727798Z",
     "shell.execute_reply": "2025-05-13T19:37:48.726398Z"
    },
    "papermill": {
     "duration": 132.05199,
     "end_time": "2025-05-13T19:37:48.750948",
     "exception": false,
     "start_time": "2025-05-13T19:35:36.698958",
     "status": "completed"
    },
    "tags": []
   },
   "outputs": [
    {
     "name": "stdout",
     "output_type": "stream",
     "text": [
      "Accuracy: 0.6044992377757148\n"
     ]
    }
   ],
   "source": [
    "xgb_model.fit(X_train_1, y_train_1)\n",
    "\n",
    "# Predict on the test set\n",
    "y_pred = xgb_model.predict(X_test)\n",
    "# Evaluate the model\n",
    "print(\"Accuracy:\", accuracy_score(y_test_1, y_pred))\n"
   ]
  },
  {
   "cell_type": "code",
   "execution_count": 35,
   "id": "5ca62458",
   "metadata": {
    "execution": {
     "iopub.execute_input": "2025-05-13T19:37:48.796085Z",
     "iopub.status.busy": "2025-05-13T19:37:48.795780Z",
     "iopub.status.idle": "2025-05-13T19:37:49.001895Z",
     "shell.execute_reply": "2025-05-13T19:37:49.000029Z"
    },
    "papermill": {
     "duration": 0.231998,
     "end_time": "2025-05-13T19:37:49.004761",
     "exception": false,
     "start_time": "2025-05-13T19:37:48.772763",
     "status": "completed"
    },
    "tags": []
   },
   "outputs": [
    {
     "name": "stdout",
     "output_type": "stream",
     "text": [
      "Classification Report:\n",
      "                   precision    recall  f1-score   support\n",
      "\n",
      "          BENIGN       0.83      0.76      0.80    393443\n",
      "             Bot       0.00      0.00      0.00       489\n",
      "   DoS GoldenEye       0.00      0.00      0.00      2573\n",
      "        DoS Hulk       0.00      0.00      0.00     57531\n",
      "DoS Slowhttptest       0.00      0.00      0.00      1375\n",
      "   DoS slowloris       0.00      0.00      0.00      1449\n",
      "      Heartbleed       0.00      1.00      0.00         3\n",
      "    Infiltration       0.00      0.00      0.00         9\n",
      "        PortScan       0.00      0.00      0.00     39701\n",
      "\n",
      "        accuracy                           0.60    496573\n",
      "       macro avg       0.09      0.20      0.09    496573\n",
      "    weighted avg       0.66      0.60      0.63    496573\n",
      "\n"
     ]
    },
    {
     "name": "stderr",
     "output_type": "stream",
     "text": [
      "/usr/local/lib/python3.11/dist-packages/sklearn/metrics/_classification.py:1565: UndefinedMetricWarning: Precision is ill-defined and being set to 0.0 in labels with no predicted samples. Use `zero_division` parameter to control this behavior.\n",
      "  _warn_prf(average, modifier, f\"{metric.capitalize()} is\", len(result))\n",
      "/usr/local/lib/python3.11/dist-packages/sklearn/metrics/_classification.py:1565: UndefinedMetricWarning: Precision is ill-defined and being set to 0.0 in labels with no predicted samples. Use `zero_division` parameter to control this behavior.\n",
      "  _warn_prf(average, modifier, f\"{metric.capitalize()} is\", len(result))\n",
      "/usr/local/lib/python3.11/dist-packages/sklearn/metrics/_classification.py:1565: UndefinedMetricWarning: Precision is ill-defined and being set to 0.0 in labels with no predicted samples. Use `zero_division` parameter to control this behavior.\n",
      "  _warn_prf(average, modifier, f\"{metric.capitalize()} is\", len(result))\n"
     ]
    }
   ],
   "source": [
    "print(\"Classification Report:\\n\", classification_report(y_test_1, y_pred, target_names=le.classes_))"
   ]
  },
  {
   "cell_type": "code",
   "execution_count": 36,
   "id": "227d72b2",
   "metadata": {
    "execution": {
     "iopub.execute_input": "2025-05-13T19:37:49.054366Z",
     "iopub.status.busy": "2025-05-13T19:37:49.054034Z",
     "iopub.status.idle": "2025-05-13T19:37:49.085932Z",
     "shell.execute_reply": "2025-05-13T19:37:49.084415Z"
    },
    "papermill": {
     "duration": 0.060747,
     "end_time": "2025-05-13T19:37:49.088550",
     "exception": false,
     "start_time": "2025-05-13T19:37:49.027803",
     "status": "completed"
    },
    "tags": []
   },
   "outputs": [
    {
     "data": {
      "text/plain": [
       "['scaler.pkl']"
      ]
     },
     "execution_count": 36,
     "metadata": {},
     "output_type": "execute_result"
    }
   ],
   "source": [
    "import joblib\n",
    "joblib.dump(xgb_model, 'xgboost_model_withoutsmote.pkl')\n",
    "# Save the LabelEncoder\n",
    "joblib.dump(le, 'label_encoder.pkl')\n",
    "\n",
    "# # Save the scaler (if you used one, e.g., StandardScaler)\n",
    "joblib.dump(scaler, 'scaler.pkl')  # Replace 'scaler' with your actual scaler variable"
   ]
  }
 ],
 "metadata": {
  "kaggle": {
   "accelerator": "none",
   "dataSources": [],
   "dockerImageVersionId": 31012,
   "isGpuEnabled": false,
   "isInternetEnabled": true,
   "language": "python",
   "sourceType": "notebook"
  },
  "kernelspec": {
   "display_name": "Python 3",
   "language": "python",
   "name": "python3"
  },
  "language_info": {
   "codemirror_mode": {
    "name": "ipython",
    "version": 3
   },
   "file_extension": ".py",
   "mimetype": "text/x-python",
   "name": "python",
   "nbconvert_exporter": "python",
   "pygments_lexer": "ipython3",
   "version": "3.11.11"
  },
  "papermill": {
   "default_parameters": {},
   "duration": null,
   "end_time": null,
   "environment_variables": {},
   "exception": null,
   "input_path": "__notebook__.ipynb",
   "output_path": "__notebook__.ipynb",
   "parameters": {},
   "start_time": "2025-05-13T19:06:20.380571",
   "version": "2.6.0"
  }
 },
 "nbformat": 4,
 "nbformat_minor": 5
}
