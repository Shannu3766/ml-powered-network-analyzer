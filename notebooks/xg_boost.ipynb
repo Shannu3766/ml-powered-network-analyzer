{
 "cells": [
  {
   "cell_type": "code",
   "execution_count": 1,
   "id": "51ffd174",
   "metadata": {
    "_cell_guid": "b1076dfc-b9ad-4769-8c92-a6c4dae69d19",
    "_uuid": "8f2839f25d086af736a60e9eeb907d3b93b6e0e5",
    "execution": {
     "iopub.execute_input": "2025-05-13T13:26:05.669535Z",
     "iopub.status.busy": "2025-05-13T13:26:05.669210Z",
     "iopub.status.idle": "2025-05-13T13:26:07.807993Z",
     "shell.execute_reply": "2025-05-13T13:26:07.807138Z"
    },
    "papermill": {
     "duration": 2.148448,
     "end_time": "2025-05-13T13:26:07.809881",
     "exception": false,
     "start_time": "2025-05-13T13:26:05.661433",
     "status": "completed"
    },
    "tags": []
   },
   "outputs": [],
   "source": [
    "# This Python 3 environment comes with many helpful analytics libraries installed\n",
    "# It is defined by the kaggle/python Docker image: https://github.com/kaggle/docker-python\n",
    "# For example, here's several helpful packages to load\n",
    "\n",
    "import numpy as np # linear algebra\n",
    "import pandas as pd # data processing, CSV file I/O (e.g. pd.read_csv)\n",
    "\n",
    "# Input data files are available in the read-only \"../input/\" directory\n",
    "# For example, running this (by clicking run or pressing Shift+Enter) will list all files under the input directory\n",
    "\n",
    "import os\n",
    "for dirname, _, filenames in os.walk('/kaggle/input'):\n",
    "    for filename in filenames:\n",
    "        print(os.path.join(dirname, filename))\n",
    "\n",
    "# You can write up to 20GB to the current directory (/kaggle/working/) that gets preserved as output when you create a version using \"Save & Run All\" \n",
    "# You can also write temporary files to /kaggle/temp/, but they won't be saved outside of the current session"
   ]
  },
  {
   "cell_type": "code",
   "execution_count": 2,
   "id": "d4f71f99",
   "metadata": {
    "execution": {
     "iopub.execute_input": "2025-05-13T13:26:07.822804Z",
     "iopub.status.busy": "2025-05-13T13:26:07.822352Z",
     "iopub.status.idle": "2025-05-13T13:26:36.544354Z",
     "shell.execute_reply": "2025-05-13T13:26:36.543078Z"
    },
    "papermill": {
     "duration": 28.730435,
     "end_time": "2025-05-13T13:26:36.546348",
     "exception": false,
     "start_time": "2025-05-13T13:26:07.815913",
     "status": "completed"
    },
    "tags": []
   },
   "outputs": [
    {
     "name": "stdout",
     "output_type": "stream",
     "text": [
      "--2025-05-13 13:26:07--  http://cicresearch.ca/CICDataset/CIC-IDS-2017/Dataset/CIC-IDS-2017/CSVs/MachineLearningCSV.zip\r\n",
      "Resolving cicresearch.ca (cicresearch.ca)... 205.174.165.80\r\n",
      "Connecting to cicresearch.ca (cicresearch.ca)|205.174.165.80|:80... connected.\r\n",
      "HTTP request sent, awaiting response... 200 OK\r\n",
      "Length: 235102953 (224M) [application/zip]\r\n",
      "Saving to: ‘MachineLearningCSV.zip’\r\n",
      "\r\n",
      "MachineLearningCSV. 100%[===================>] 224.21M  4.92MB/s    in 28s     \r\n",
      "\r\n",
      "2025-05-13 13:26:36 (7.96 MB/s) - ‘MachineLearningCSV.zip’ saved [235102953/235102953]\r\n",
      "\r\n"
     ]
    }
   ],
   "source": [
    "!wget http://cicresearch.ca/CICDataset/CIC-IDS-2017/Dataset/CIC-IDS-2017/CSVs/MachineLearningCSV.zip"
   ]
  },
  {
   "cell_type": "code",
   "execution_count": 3,
   "id": "0b551714",
   "metadata": {
    "execution": {
     "iopub.execute_input": "2025-05-13T13:26:36.571202Z",
     "iopub.status.busy": "2025-05-13T13:26:36.570831Z",
     "iopub.status.idle": "2025-05-13T13:26:45.074413Z",
     "shell.execute_reply": "2025-05-13T13:26:45.073295Z"
    },
    "papermill": {
     "duration": 8.517784,
     "end_time": "2025-05-13T13:26:45.076125",
     "exception": false,
     "start_time": "2025-05-13T13:26:36.558341",
     "status": "completed"
    },
    "tags": []
   },
   "outputs": [
    {
     "name": "stdout",
     "output_type": "stream",
     "text": [
      "Archive:  MachineLearningCSV.zip\r\n",
      "   creating: MachineLearningCSV/MachineLearningCVE/\r\n",
      "  inflating: MachineLearningCSV/MachineLearningCVE/Wednesday-workingHours.pcap_ISCX.csv  \r\n",
      "  inflating: MachineLearningCSV/MachineLearningCVE/Tuesday-WorkingHours.pcap_ISCX.csv  \r\n",
      "  inflating: MachineLearningCSV/MachineLearningCVE/Thursday-WorkingHours-Morning-WebAttacks.pcap_ISCX.csv  \r\n",
      "  inflating: MachineLearningCSV/MachineLearningCVE/Thursday-WorkingHours-Afternoon-Infilteration.pcap_ISCX.csv  \r\n",
      "  inflating: MachineLearningCSV/MachineLearningCVE/Monday-WorkingHours.pcap_ISCX.csv  \r\n",
      "  inflating: MachineLearningCSV/MachineLearningCVE/Friday-WorkingHours-Morning.pcap_ISCX.csv  \r\n",
      "  inflating: MachineLearningCSV/MachineLearningCVE/Friday-WorkingHours-Afternoon-PortScan.pcap_ISCX.csv  \r\n",
      "  inflating: MachineLearningCSV/MachineLearningCVE/Friday-WorkingHours-Afternoon-DDos.pcap_ISCX.csv  \r\n"
     ]
    }
   ],
   "source": [
    "!unzip MachineLearningCSV.zip -d MachineLearningCSV"
   ]
  },
  {
   "cell_type": "code",
   "execution_count": 4,
   "id": "e97e3c71",
   "metadata": {
    "execution": {
     "iopub.execute_input": "2025-05-13T13:26:45.100877Z",
     "iopub.status.busy": "2025-05-13T13:26:45.100543Z",
     "iopub.status.idle": "2025-05-13T13:26:50.230001Z",
     "shell.execute_reply": "2025-05-13T13:26:50.228676Z"
    },
    "papermill": {
     "duration": 5.144589,
     "end_time": "2025-05-13T13:26:50.232470",
     "exception": false,
     "start_time": "2025-05-13T13:26:45.087881",
     "status": "completed"
    },
    "tags": []
   },
   "outputs": [
    {
     "name": "stdout",
     "output_type": "stream",
     "text": [
      "Requirement already satisfied: scikit-learn in /usr/local/lib/python3.11/dist-packages (1.2.2)\r\n",
      "Requirement already satisfied: numpy>=1.17.3 in /usr/local/lib/python3.11/dist-packages (from scikit-learn) (1.26.4)\r\n",
      "Requirement already satisfied: scipy>=1.3.2 in /usr/local/lib/python3.11/dist-packages (from scikit-learn) (1.15.2)\r\n",
      "Requirement already satisfied: joblib>=1.1.1 in /usr/local/lib/python3.11/dist-packages (from scikit-learn) (1.4.2)\r\n",
      "Requirement already satisfied: threadpoolctl>=2.0.0 in /usr/local/lib/python3.11/dist-packages (from scikit-learn) (3.6.0)\r\n",
      "Requirement already satisfied: mkl_fft in /usr/local/lib/python3.11/dist-packages (from numpy>=1.17.3->scikit-learn) (1.3.8)\r\n",
      "Requirement already satisfied: mkl_random in /usr/local/lib/python3.11/dist-packages (from numpy>=1.17.3->scikit-learn) (1.2.4)\r\n",
      "Requirement already satisfied: mkl_umath in /usr/local/lib/python3.11/dist-packages (from numpy>=1.17.3->scikit-learn) (0.1.1)\r\n",
      "Requirement already satisfied: mkl in /usr/local/lib/python3.11/dist-packages (from numpy>=1.17.3->scikit-learn) (2025.1.0)\r\n",
      "Requirement already satisfied: tbb4py in /usr/local/lib/python3.11/dist-packages (from numpy>=1.17.3->scikit-learn) (2022.1.0)\r\n",
      "Requirement already satisfied: mkl-service in /usr/local/lib/python3.11/dist-packages (from numpy>=1.17.3->scikit-learn) (2.4.1)\r\n",
      "Requirement already satisfied: intel-openmp<2026,>=2024 in /usr/local/lib/python3.11/dist-packages (from mkl->numpy>=1.17.3->scikit-learn) (2024.2.0)\r\n",
      "Requirement already satisfied: tbb==2022.* in /usr/local/lib/python3.11/dist-packages (from mkl->numpy>=1.17.3->scikit-learn) (2022.1.0)\r\n",
      "Requirement already satisfied: tcmlib==1.* in /usr/local/lib/python3.11/dist-packages (from tbb==2022.*->mkl->numpy>=1.17.3->scikit-learn) (1.2.0)\r\n",
      "Requirement already satisfied: intel-cmplr-lib-rt in /usr/local/lib/python3.11/dist-packages (from mkl_umath->numpy>=1.17.3->scikit-learn) (2024.2.0)\r\n",
      "Requirement already satisfied: intel-cmplr-lib-ur==2024.2.0 in /usr/local/lib/python3.11/dist-packages (from intel-openmp<2026,>=2024->mkl->numpy>=1.17.3->scikit-learn) (2024.2.0)\r\n"
     ]
    }
   ],
   "source": [
    "!pip install scikit-learn"
   ]
  },
  {
   "cell_type": "code",
   "execution_count": 5,
   "id": "ee8400dc",
   "metadata": {
    "execution": {
     "iopub.execute_input": "2025-05-13T13:26:50.257718Z",
     "iopub.status.busy": "2025-05-13T13:26:50.257410Z",
     "iopub.status.idle": "2025-05-13T13:26:59.076308Z",
     "shell.execute_reply": "2025-05-13T13:26:59.075152Z"
    },
    "papermill": {
     "duration": 8.833664,
     "end_time": "2025-05-13T13:26:59.078202",
     "exception": false,
     "start_time": "2025-05-13T13:26:50.244538",
     "status": "completed"
    },
    "tags": []
   },
   "outputs": [
    {
     "name": "stdout",
     "output_type": "stream",
     "text": [
      "Requirement already satisfied: imbalanced-learn in /usr/local/lib/python3.11/dist-packages (0.13.0)\r\n",
      "Requirement already satisfied: numpy<3,>=1.24.3 in /usr/local/lib/python3.11/dist-packages (from imbalanced-learn) (1.26.4)\r\n",
      "Requirement already satisfied: scipy<2,>=1.10.1 in /usr/local/lib/python3.11/dist-packages (from imbalanced-learn) (1.15.2)\r\n",
      "Collecting scikit-learn<2,>=1.3.2 (from imbalanced-learn)\r\n",
      "  Downloading scikit_learn-1.6.1-cp311-cp311-manylinux_2_17_x86_64.manylinux2014_x86_64.whl.metadata (18 kB)\r\n",
      "Requirement already satisfied: sklearn-compat<1,>=0.1 in /usr/local/lib/python3.11/dist-packages (from imbalanced-learn) (0.1.3)\r\n",
      "Requirement already satisfied: joblib<2,>=1.1.1 in /usr/local/lib/python3.11/dist-packages (from imbalanced-learn) (1.4.2)\r\n",
      "Requirement already satisfied: threadpoolctl<4,>=2.0.0 in /usr/local/lib/python3.11/dist-packages (from imbalanced-learn) (3.6.0)\r\n",
      "Requirement already satisfied: mkl_fft in /usr/local/lib/python3.11/dist-packages (from numpy<3,>=1.24.3->imbalanced-learn) (1.3.8)\r\n",
      "Requirement already satisfied: mkl_random in /usr/local/lib/python3.11/dist-packages (from numpy<3,>=1.24.3->imbalanced-learn) (1.2.4)\r\n",
      "Requirement already satisfied: mkl_umath in /usr/local/lib/python3.11/dist-packages (from numpy<3,>=1.24.3->imbalanced-learn) (0.1.1)\r\n",
      "Requirement already satisfied: mkl in /usr/local/lib/python3.11/dist-packages (from numpy<3,>=1.24.3->imbalanced-learn) (2025.1.0)\r\n",
      "Requirement already satisfied: tbb4py in /usr/local/lib/python3.11/dist-packages (from numpy<3,>=1.24.3->imbalanced-learn) (2022.1.0)\r\n",
      "Requirement already satisfied: mkl-service in /usr/local/lib/python3.11/dist-packages (from numpy<3,>=1.24.3->imbalanced-learn) (2.4.1)\r\n",
      "Requirement already satisfied: intel-openmp<2026,>=2024 in /usr/local/lib/python3.11/dist-packages (from mkl->numpy<3,>=1.24.3->imbalanced-learn) (2024.2.0)\r\n",
      "Requirement already satisfied: tbb==2022.* in /usr/local/lib/python3.11/dist-packages (from mkl->numpy<3,>=1.24.3->imbalanced-learn) (2022.1.0)\r\n",
      "Requirement already satisfied: tcmlib==1.* in /usr/local/lib/python3.11/dist-packages (from tbb==2022.*->mkl->numpy<3,>=1.24.3->imbalanced-learn) (1.2.0)\r\n",
      "Requirement already satisfied: intel-cmplr-lib-rt in /usr/local/lib/python3.11/dist-packages (from mkl_umath->numpy<3,>=1.24.3->imbalanced-learn) (2024.2.0)\r\n",
      "Requirement already satisfied: intel-cmplr-lib-ur==2024.2.0 in /usr/local/lib/python3.11/dist-packages (from intel-openmp<2026,>=2024->mkl->numpy<3,>=1.24.3->imbalanced-learn) (2024.2.0)\r\n",
      "Downloading scikit_learn-1.6.1-cp311-cp311-manylinux_2_17_x86_64.manylinux2014_x86_64.whl (13.5 MB)\r\n",
      "\u001b[2K   \u001b[90m━━━━━━━━━━━━━━━━━━━━━━━━━━━━━━━━━━━━━━━━\u001b[0m \u001b[32m13.5/13.5 MB\u001b[0m \u001b[31m74.9 MB/s\u001b[0m eta \u001b[36m0:00:00\u001b[0m\r\n",
      "\u001b[?25hInstalling collected packages: scikit-learn\r\n",
      "  Attempting uninstall: scikit-learn\r\n",
      "    Found existing installation: scikit-learn 1.2.2\r\n",
      "    Uninstalling scikit-learn-1.2.2:\r\n",
      "      Successfully uninstalled scikit-learn-1.2.2\r\n",
      "\u001b[31mERROR: pip's dependency resolver does not currently take into account all the packages that are installed. This behaviour is the source of the following dependency conflicts.\r\n",
      "category-encoders 2.7.0 requires scikit-learn<1.6.0,>=1.0.0, but you have scikit-learn 1.6.1 which is incompatible.\r\n",
      "bigframes 1.36.0 requires rich<14,>=12.4.4, but you have rich 14.0.0 which is incompatible.\u001b[0m\u001b[31m\r\n",
      "\u001b[0mSuccessfully installed scikit-learn-1.6.1\r\n"
     ]
    }
   ],
   "source": [
    "!pip install imbalanced-learn"
   ]
  },
  {
   "cell_type": "code",
   "execution_count": 6,
   "id": "2563038b",
   "metadata": {
    "execution": {
     "iopub.execute_input": "2025-05-13T13:26:59.105478Z",
     "iopub.status.busy": "2025-05-13T13:26:59.105109Z",
     "iopub.status.idle": "2025-05-13T13:26:59.110165Z",
     "shell.execute_reply": "2025-05-13T13:26:59.109159Z"
    },
    "papermill": {
     "duration": 0.020553,
     "end_time": "2025-05-13T13:26:59.111810",
     "exception": false,
     "start_time": "2025-05-13T13:26:59.091257",
     "status": "completed"
    },
    "tags": []
   },
   "outputs": [],
   "source": [
    "import gc"
   ]
  },
  {
   "cell_type": "code",
   "execution_count": 7,
   "id": "43e909b2",
   "metadata": {
    "execution": {
     "iopub.execute_input": "2025-05-13T13:26:59.139813Z",
     "iopub.status.busy": "2025-05-13T13:26:59.138764Z",
     "iopub.status.idle": "2025-05-13T13:27:17.586743Z",
     "shell.execute_reply": "2025-05-13T13:27:17.585751Z"
    },
    "papermill": {
     "duration": 18.463776,
     "end_time": "2025-05-13T13:27:17.588590",
     "exception": false,
     "start_time": "2025-05-13T13:26:59.124814",
     "status": "completed"
    },
    "tags": []
   },
   "outputs": [],
   "source": [
    "MODEL_PATH = 'phishing_detector.pkl'\n",
    "\n",
    "def load_unsw_dataset():\n",
    "    files = [\n",
    "        \"MachineLearningCSV/MachineLearningCVE/Wednesday-workingHours.pcap_ISCX.csv\",\n",
    "        \"MachineLearningCSV/MachineLearningCVE/Friday-WorkingHours-Afternoon-PortScan.pcap_ISCX.csv\",\n",
    "        \"MachineLearningCSV/MachineLearningCVE/Friday-WorkingHours-Morning.pcap_ISCX.csv\",\n",
    "        \"MachineLearningCSV/MachineLearningCVE/Monday-WorkingHours.pcap_ISCX.csv\", \n",
    "        \"MachineLearningCSV/MachineLearningCVE/Thursday-WorkingHours-Afternoon-Infilteration.pcap_ISCX.csv\",\n",
    "        \"MachineLearningCSV/MachineLearningCVE/Thursday-WorkingHours-Morning-WebAttacks.pcap_ISCX.csv\",\n",
    "        # \"MachineLearningCSV/MachineLearningCVE/Tuesday-WorkingHours.pcap_ISCX.csv\",\n",
    "        # \"MachineLearningCSV/MachineLearningCVE/Wednesday-workingHours.pcap_ISCX.csv\"\n",
    "    ]\n",
    "    dfs = []\n",
    "    for f in files:\n",
    "        if os.path.exists(f):\n",
    "            dfs.append(pd.read_csv(f))\n",
    "        else:\n",
    "            print(f\"Missing file: {f}\")\n",
    "    \n",
    "    if not dfs:\n",
    "        print(\"No data files found. Please check the file paths.\")\n",
    "        return None\n",
    "    \n",
    "    data = pd.concat(dfs, ignore_index=True)\n",
    "    data.columns = data.columns.str.strip()\n",
    "    cols = ['Destination Port', 'Flow Duration', 'Total Fwd Packets',\n",
    "       'Total Backward Packets', 'Total Length of Fwd Packets',\n",
    "       'Total Length of Bwd Packets', 'Fwd Packet Length Max',\n",
    "       'Fwd Packet Length Min', 'Fwd Packet Length Mean',\n",
    "       'Fwd Packet Length Std', 'Bwd Packet Length Max',\n",
    "       'Bwd Packet Length Min', 'Bwd Packet Length Mean',\n",
    "       'Bwd Packet Length Std', 'Flow Bytes/s', 'Flow Packets/s',\n",
    "       'Flow IAT Mean', 'Flow IAT Std', 'Flow IAT Max', 'Flow IAT Min',\n",
    "       'Fwd IAT Total', 'Fwd IAT Mean', 'Fwd IAT Std', 'Fwd IAT Max',\n",
    "       'Fwd IAT Min', 'Bwd IAT Total', 'Bwd IAT Mean', 'Bwd IAT Std',\n",
    "       'Bwd IAT Max', 'Bwd IAT Min', 'Fwd PSH Flags', 'Bwd PSH Flags',\n",
    "       'Fwd URG Flags', 'Bwd URG Flags', 'Fwd Header Length',\n",
    "       'Bwd Header Length', 'Fwd Packets/s', 'Bwd Packets/s',\n",
    "       'Min Packet Length', 'Max Packet Length', 'Packet Length Mean',\n",
    "       'Packet Length Std', 'Packet Length Variance', 'FIN Flag Count',\n",
    "       'SYN Flag Count', 'RST Flag Count', 'PSH Flag Count', 'ACK Flag Count',\n",
    "       'URG Flag Count', 'CWE Flag Count', 'ECE Flag Count', 'Down/Up Ratio',\n",
    "       'Average Packet Size', 'Avg Fwd Segment Size', 'Avg Bwd Segment Size',\n",
    "       'Fwd Header Length.1', 'Fwd Avg Bytes/Bulk', 'Fwd Avg Packets/Bulk',\n",
    "       'Fwd Avg Bulk Rate', 'Bwd Avg Bytes/Bulk', 'Bwd Avg Packets/Bulk',\n",
    "       'Bwd Avg Bulk Rate', 'Subflow Fwd Packets', 'Subflow Fwd Bytes',\n",
    "       'Subflow Bwd Packets', 'Subflow Bwd Bytes','Label']\n",
    "    \n",
    "    # Get only columns that exist in the data\n",
    "    valid_cols = [col for col in cols if col in data.columns]\n",
    "    if set(valid_cols) != set(cols):\n",
    "        missing = set(cols) - set(valid_cols)\n",
    "        print(f\"Warning: Missing columns: {missing}\")\n",
    "    \n",
    "    data_1 = data[valid_cols]\n",
    "    return data_1\n",
    "\n",
    "data = load_unsw_dataset()"
   ]
  },
  {
   "cell_type": "code",
   "execution_count": 8,
   "id": "85043dd3",
   "metadata": {
    "execution": {
     "iopub.execute_input": "2025-05-13T13:27:17.616207Z",
     "iopub.status.busy": "2025-05-13T13:27:17.615824Z",
     "iopub.status.idle": "2025-05-13T13:27:17.647541Z",
     "shell.execute_reply": "2025-05-13T13:27:17.646693Z"
    },
    "papermill": {
     "duration": 0.048105,
     "end_time": "2025-05-13T13:27:17.649383",
     "exception": false,
     "start_time": "2025-05-13T13:27:17.601278",
     "status": "completed"
    },
    "tags": []
   },
   "outputs": [
    {
     "data": {
      "text/html": [
       "<div>\n",
       "<style scoped>\n",
       "    .dataframe tbody tr th:only-of-type {\n",
       "        vertical-align: middle;\n",
       "    }\n",
       "\n",
       "    .dataframe tbody tr th {\n",
       "        vertical-align: top;\n",
       "    }\n",
       "\n",
       "    .dataframe thead th {\n",
       "        text-align: right;\n",
       "    }\n",
       "</style>\n",
       "<table border=\"1\" class=\"dataframe\">\n",
       "  <thead>\n",
       "    <tr style=\"text-align: right;\">\n",
       "      <th></th>\n",
       "      <th>Destination Port</th>\n",
       "      <th>Flow Duration</th>\n",
       "      <th>Total Fwd Packets</th>\n",
       "      <th>Total Backward Packets</th>\n",
       "      <th>Total Length of Fwd Packets</th>\n",
       "      <th>Total Length of Bwd Packets</th>\n",
       "      <th>Fwd Packet Length Max</th>\n",
       "      <th>Fwd Packet Length Min</th>\n",
       "      <th>Fwd Packet Length Mean</th>\n",
       "      <th>Fwd Packet Length Std</th>\n",
       "      <th>...</th>\n",
       "      <th>Fwd Avg Packets/Bulk</th>\n",
       "      <th>Fwd Avg Bulk Rate</th>\n",
       "      <th>Bwd Avg Bytes/Bulk</th>\n",
       "      <th>Bwd Avg Packets/Bulk</th>\n",
       "      <th>Bwd Avg Bulk Rate</th>\n",
       "      <th>Subflow Fwd Packets</th>\n",
       "      <th>Subflow Fwd Bytes</th>\n",
       "      <th>Subflow Bwd Packets</th>\n",
       "      <th>Subflow Bwd Bytes</th>\n",
       "      <th>Label</th>\n",
       "    </tr>\n",
       "  </thead>\n",
       "  <tbody>\n",
       "    <tr>\n",
       "      <th>0</th>\n",
       "      <td>80</td>\n",
       "      <td>38308</td>\n",
       "      <td>1</td>\n",
       "      <td>1</td>\n",
       "      <td>6</td>\n",
       "      <td>6</td>\n",
       "      <td>6</td>\n",
       "      <td>6</td>\n",
       "      <td>6.000000</td>\n",
       "      <td>0.000000</td>\n",
       "      <td>...</td>\n",
       "      <td>0</td>\n",
       "      <td>0</td>\n",
       "      <td>0</td>\n",
       "      <td>0</td>\n",
       "      <td>0</td>\n",
       "      <td>1</td>\n",
       "      <td>6</td>\n",
       "      <td>1</td>\n",
       "      <td>6</td>\n",
       "      <td>BENIGN</td>\n",
       "    </tr>\n",
       "    <tr>\n",
       "      <th>1</th>\n",
       "      <td>389</td>\n",
       "      <td>479</td>\n",
       "      <td>11</td>\n",
       "      <td>5</td>\n",
       "      <td>172</td>\n",
       "      <td>326</td>\n",
       "      <td>79</td>\n",
       "      <td>0</td>\n",
       "      <td>15.636364</td>\n",
       "      <td>31.449238</td>\n",
       "      <td>...</td>\n",
       "      <td>0</td>\n",
       "      <td>0</td>\n",
       "      <td>0</td>\n",
       "      <td>0</td>\n",
       "      <td>0</td>\n",
       "      <td>11</td>\n",
       "      <td>172</td>\n",
       "      <td>5</td>\n",
       "      <td>326</td>\n",
       "      <td>BENIGN</td>\n",
       "    </tr>\n",
       "    <tr>\n",
       "      <th>2</th>\n",
       "      <td>88</td>\n",
       "      <td>1095</td>\n",
       "      <td>10</td>\n",
       "      <td>6</td>\n",
       "      <td>3150</td>\n",
       "      <td>3150</td>\n",
       "      <td>1575</td>\n",
       "      <td>0</td>\n",
       "      <td>315.000000</td>\n",
       "      <td>632.561635</td>\n",
       "      <td>...</td>\n",
       "      <td>0</td>\n",
       "      <td>0</td>\n",
       "      <td>0</td>\n",
       "      <td>0</td>\n",
       "      <td>0</td>\n",
       "      <td>10</td>\n",
       "      <td>3150</td>\n",
       "      <td>6</td>\n",
       "      <td>3150</td>\n",
       "      <td>BENIGN</td>\n",
       "    </tr>\n",
       "    <tr>\n",
       "      <th>3</th>\n",
       "      <td>389</td>\n",
       "      <td>15206</td>\n",
       "      <td>17</td>\n",
       "      <td>12</td>\n",
       "      <td>3452</td>\n",
       "      <td>6660</td>\n",
       "      <td>1313</td>\n",
       "      <td>0</td>\n",
       "      <td>203.058823</td>\n",
       "      <td>425.778474</td>\n",
       "      <td>...</td>\n",
       "      <td>0</td>\n",
       "      <td>0</td>\n",
       "      <td>0</td>\n",
       "      <td>0</td>\n",
       "      <td>0</td>\n",
       "      <td>17</td>\n",
       "      <td>3452</td>\n",
       "      <td>12</td>\n",
       "      <td>6660</td>\n",
       "      <td>BENIGN</td>\n",
       "    </tr>\n",
       "    <tr>\n",
       "      <th>4</th>\n",
       "      <td>88</td>\n",
       "      <td>1092</td>\n",
       "      <td>9</td>\n",
       "      <td>6</td>\n",
       "      <td>3150</td>\n",
       "      <td>3152</td>\n",
       "      <td>1575</td>\n",
       "      <td>0</td>\n",
       "      <td>350.000000</td>\n",
       "      <td>694.509719</td>\n",
       "      <td>...</td>\n",
       "      <td>0</td>\n",
       "      <td>0</td>\n",
       "      <td>0</td>\n",
       "      <td>0</td>\n",
       "      <td>0</td>\n",
       "      <td>9</td>\n",
       "      <td>3150</td>\n",
       "      <td>6</td>\n",
       "      <td>3152</td>\n",
       "      <td>BENIGN</td>\n",
       "    </tr>\n",
       "  </tbody>\n",
       "</table>\n",
       "<p>5 rows × 67 columns</p>\n",
       "</div>"
      ],
      "text/plain": [
       "   Destination Port  Flow Duration  Total Fwd Packets  Total Backward Packets  \\\n",
       "0                80          38308                  1                       1   \n",
       "1               389            479                 11                       5   \n",
       "2                88           1095                 10                       6   \n",
       "3               389          15206                 17                      12   \n",
       "4                88           1092                  9                       6   \n",
       "\n",
       "   Total Length of Fwd Packets  Total Length of Bwd Packets  \\\n",
       "0                            6                            6   \n",
       "1                          172                          326   \n",
       "2                         3150                         3150   \n",
       "3                         3452                         6660   \n",
       "4                         3150                         3152   \n",
       "\n",
       "   Fwd Packet Length Max  Fwd Packet Length Min  Fwd Packet Length Mean  \\\n",
       "0                      6                      6                6.000000   \n",
       "1                     79                      0               15.636364   \n",
       "2                   1575                      0              315.000000   \n",
       "3                   1313                      0              203.058823   \n",
       "4                   1575                      0              350.000000   \n",
       "\n",
       "   Fwd Packet Length Std  ...  Fwd Avg Packets/Bulk  Fwd Avg Bulk Rate  \\\n",
       "0               0.000000  ...                     0                  0   \n",
       "1              31.449238  ...                     0                  0   \n",
       "2             632.561635  ...                     0                  0   \n",
       "3             425.778474  ...                     0                  0   \n",
       "4             694.509719  ...                     0                  0   \n",
       "\n",
       "   Bwd Avg Bytes/Bulk  Bwd Avg Packets/Bulk  Bwd Avg Bulk Rate  \\\n",
       "0                   0                     0                  0   \n",
       "1                   0                     0                  0   \n",
       "2                   0                     0                  0   \n",
       "3                   0                     0                  0   \n",
       "4                   0                     0                  0   \n",
       "\n",
       "   Subflow Fwd Packets  Subflow Fwd Bytes  Subflow Bwd Packets  \\\n",
       "0                    1                  6                    1   \n",
       "1                   11                172                    5   \n",
       "2                   10               3150                    6   \n",
       "3                   17               3452                   12   \n",
       "4                    9               3150                    6   \n",
       "\n",
       "   Subflow Bwd Bytes   Label  \n",
       "0                  6  BENIGN  \n",
       "1                326  BENIGN  \n",
       "2               3150  BENIGN  \n",
       "3               6660  BENIGN  \n",
       "4               3152  BENIGN  \n",
       "\n",
       "[5 rows x 67 columns]"
      ]
     },
     "execution_count": 8,
     "metadata": {},
     "output_type": "execute_result"
    }
   ],
   "source": [
    "data.head()"
   ]
  },
  {
   "cell_type": "code",
   "execution_count": 9,
   "id": "d9168b6f",
   "metadata": {
    "execution": {
     "iopub.execute_input": "2025-05-13T13:27:17.679224Z",
     "iopub.status.busy": "2025-05-13T13:27:17.678891Z",
     "iopub.status.idle": "2025-05-13T13:27:18.104630Z",
     "shell.execute_reply": "2025-05-13T13:27:18.103412Z"
    },
    "papermill": {
     "duration": 0.443538,
     "end_time": "2025-05-13T13:27:18.106206",
     "exception": false,
     "start_time": "2025-05-13T13:27:17.662668",
     "status": "completed"
    },
    "tags": []
   },
   "outputs": [
    {
     "name": "stdout",
     "output_type": "stream",
     "text": [
      "Destination Port 0\n",
      "Flow Duration 0\n",
      "Total Fwd Packets 0\n",
      "Total Backward Packets 0\n",
      "Total Length of Fwd Packets 0\n",
      "Total Length of Bwd Packets 0\n",
      "Fwd Packet Length Max 0\n",
      "Fwd Packet Length Min 0\n",
      "Fwd Packet Length Mean 0\n",
      "Fwd Packet Length Std 0\n",
      "Bwd Packet Length Max 0\n",
      "Bwd Packet Length Min 0\n",
      "Bwd Packet Length Mean 0\n",
      "Bwd Packet Length Std 0\n",
      "Flow Bytes/s 1153\n",
      "Flow Packets/s 0\n",
      "Flow IAT Mean 0\n",
      "Flow IAT Std 0\n",
      "Flow IAT Max 0\n",
      "Flow IAT Min 0\n",
      "Fwd IAT Total 0\n",
      "Fwd IAT Mean 0\n",
      "Fwd IAT Std 0\n",
      "Fwd IAT Max 0\n",
      "Fwd IAT Min 0\n",
      "Bwd IAT Total 0\n",
      "Bwd IAT Mean 0\n",
      "Bwd IAT Std 0\n",
      "Bwd IAT Max 0\n",
      "Bwd IAT Min 0\n",
      "Fwd PSH Flags 0\n",
      "Bwd PSH Flags 0\n",
      "Fwd URG Flags 0\n",
      "Bwd URG Flags 0\n",
      "Fwd Header Length 0\n",
      "Bwd Header Length 0\n",
      "Fwd Packets/s 0\n",
      "Bwd Packets/s 0\n",
      "Min Packet Length 0\n",
      "Max Packet Length 0\n",
      "Packet Length Mean 0\n",
      "Packet Length Std 0\n",
      "Packet Length Variance 0\n",
      "FIN Flag Count 0\n",
      "SYN Flag Count 0\n",
      "RST Flag Count 0\n",
      "PSH Flag Count 0\n",
      "ACK Flag Count 0\n",
      "URG Flag Count 0\n",
      "CWE Flag Count 0\n",
      "ECE Flag Count 0\n",
      "Down/Up Ratio 0\n",
      "Average Packet Size 0\n",
      "Avg Fwd Segment Size 0\n",
      "Avg Bwd Segment Size 0\n",
      "Fwd Header Length.1 0\n",
      "Fwd Avg Bytes/Bulk 0\n",
      "Fwd Avg Packets/Bulk 0\n",
      "Fwd Avg Bulk Rate 0\n",
      "Bwd Avg Bytes/Bulk 0\n",
      "Bwd Avg Packets/Bulk 0\n",
      "Bwd Avg Bulk Rate 0\n",
      "Subflow Fwd Packets 0\n",
      "Subflow Fwd Bytes 0\n",
      "Subflow Bwd Packets 0\n",
      "Subflow Bwd Bytes 0\n",
      "Label 0\n"
     ]
    }
   ],
   "source": [
    "for column,null_vals in data.isna().sum().items():\n",
    "    print(column,null_vals)"
   ]
  },
  {
   "cell_type": "code",
   "execution_count": 10,
   "id": "eeece871",
   "metadata": {
    "execution": {
     "iopub.execute_input": "2025-05-13T13:27:18.134868Z",
     "iopub.status.busy": "2025-05-13T13:27:18.134489Z",
     "iopub.status.idle": "2025-05-13T13:27:18.140443Z",
     "shell.execute_reply": "2025-05-13T13:27:18.139565Z"
    },
    "papermill": {
     "duration": 0.021371,
     "end_time": "2025-05-13T13:27:18.141952",
     "exception": false,
     "start_time": "2025-05-13T13:27:18.120581",
     "status": "completed"
    },
    "tags": []
   },
   "outputs": [
    {
     "data": {
      "text/plain": [
       "(2159089, 67)"
      ]
     },
     "execution_count": 10,
     "metadata": {},
     "output_type": "execute_result"
    }
   ],
   "source": [
    "data.shape"
   ]
  },
  {
   "cell_type": "code",
   "execution_count": 11,
   "id": "e5443210",
   "metadata": {
    "execution": {
     "iopub.execute_input": "2025-05-13T13:27:18.171091Z",
     "iopub.status.busy": "2025-05-13T13:27:18.170753Z",
     "iopub.status.idle": "2025-05-13T13:27:19.461132Z",
     "shell.execute_reply": "2025-05-13T13:27:19.460236Z"
    },
    "papermill": {
     "duration": 1.307376,
     "end_time": "2025-05-13T13:27:19.462877",
     "exception": false,
     "start_time": "2025-05-13T13:27:18.155501",
     "status": "completed"
    },
    "tags": []
   },
   "outputs": [],
   "source": [
    "import numpy as np\n",
    "\n",
    "data.replace([np.inf, -np.inf], np.nan, inplace=True)"
   ]
  },
  {
   "cell_type": "code",
   "execution_count": 12,
   "id": "52f42d4a",
   "metadata": {
    "execution": {
     "iopub.execute_input": "2025-05-13T13:27:19.490761Z",
     "iopub.status.busy": "2025-05-13T13:27:19.490422Z",
     "iopub.status.idle": "2025-05-13T13:27:20.339135Z",
     "shell.execute_reply": "2025-05-13T13:27:20.338204Z"
    },
    "papermill": {
     "duration": 0.864241,
     "end_time": "2025-05-13T13:27:20.340668",
     "exception": false,
     "start_time": "2025-05-13T13:27:19.476427",
     "status": "completed"
    },
    "tags": []
   },
   "outputs": [
    {
     "data": {
      "text/plain": [
       "(2156520, 67)"
      ]
     },
     "execution_count": 12,
     "metadata": {},
     "output_type": "execute_result"
    }
   ],
   "source": [
    "data = data.dropna()\n",
    "data.shape"
   ]
  },
  {
   "cell_type": "code",
   "execution_count": 13,
   "id": "761f8b11",
   "metadata": {
    "execution": {
     "iopub.execute_input": "2025-05-13T13:27:20.368595Z",
     "iopub.status.busy": "2025-05-13T13:27:20.368299Z",
     "iopub.status.idle": "2025-05-13T13:27:20.941018Z",
     "shell.execute_reply": "2025-05-13T13:27:20.939978Z"
    },
    "papermill": {
     "duration": 0.588717,
     "end_time": "2025-05-13T13:27:20.942751",
     "exception": false,
     "start_time": "2025-05-13T13:27:20.354034",
     "status": "completed"
    },
    "tags": []
   },
   "outputs": [],
   "source": [
    "float_cols = data.select_dtypes(include=['float64', 'float32']).columns\n",
    "data[float_cols] = data[float_cols].round(3)"
   ]
  },
  {
   "cell_type": "code",
   "execution_count": 14,
   "id": "e1d28c5c",
   "metadata": {
    "execution": {
     "iopub.execute_input": "2025-05-13T13:27:20.970268Z",
     "iopub.status.busy": "2025-05-13T13:27:20.969874Z",
     "iopub.status.idle": "2025-05-13T13:27:21.138305Z",
     "shell.execute_reply": "2025-05-13T13:27:21.137419Z"
    },
    "papermill": {
     "duration": 0.183797,
     "end_time": "2025-05-13T13:27:21.139743",
     "exception": false,
     "start_time": "2025-05-13T13:27:20.955946",
     "status": "completed"
    },
    "tags": []
   },
   "outputs": [
    {
     "data": {
      "text/plain": [
       "Label\n",
       "BENIGN                        1741821\n",
       "DoS Hulk                       230124\n",
       "PortScan                       158804\n",
       "DoS GoldenEye                   10293\n",
       "DoS slowloris                    5796\n",
       "DoS Slowhttptest                 5499\n",
       "Bot                              1956\n",
       "Web Attack   Brute Force         1507\n",
       "Web Attack   XSS                  652\n",
       "Infiltration                       36\n",
       "Web Attack   Sql Injection         21\n",
       "Heartbleed                         11\n",
       "Name: count, dtype: int64"
      ]
     },
     "execution_count": 14,
     "metadata": {},
     "output_type": "execute_result"
    }
   ],
   "source": [
    "data['Label'].value_counts()"
   ]
  },
  {
   "cell_type": "code",
   "execution_count": 15,
   "id": "e2f6d63a",
   "metadata": {
    "execution": {
     "iopub.execute_input": "2025-05-13T13:27:21.240329Z",
     "iopub.status.busy": "2025-05-13T13:27:21.239973Z",
     "iopub.status.idle": "2025-05-13T13:27:24.357280Z",
     "shell.execute_reply": "2025-05-13T13:27:24.356159Z"
    },
    "papermill": {
     "duration": 3.133576,
     "end_time": "2025-05-13T13:27:24.359101",
     "exception": false,
     "start_time": "2025-05-13T13:27:21.225525",
     "status": "completed"
    },
    "tags": []
   },
   "outputs": [],
   "source": [
    "from imblearn.over_sampling import SMOTE\n",
    "from sklearn.model_selection import train_test_split\n",
    "\n",
    "X = data.drop(columns = [\"Label\"],axis = 1)\n",
    "y = data[\"Label\"]"
   ]
  },
  {
   "cell_type": "code",
   "execution_count": 16,
   "id": "ebd42488",
   "metadata": {
    "execution": {
     "iopub.execute_input": "2025-05-13T13:27:24.396466Z",
     "iopub.status.busy": "2025-05-13T13:27:24.395940Z",
     "iopub.status.idle": "2025-05-13T13:27:29.531181Z",
     "shell.execute_reply": "2025-05-13T13:27:29.530159Z"
    },
    "papermill": {
     "duration": 5.152309,
     "end_time": "2025-05-13T13:27:29.533031",
     "exception": false,
     "start_time": "2025-05-13T13:27:24.380722",
     "status": "completed"
    },
    "tags": []
   },
   "outputs": [],
   "source": [
    "X_train, X_test, y_train, y_test = train_test_split(X, y, stratify=y, random_state=42)"
   ]
  },
  {
   "cell_type": "code",
   "execution_count": 17,
   "id": "b3546a61",
   "metadata": {
    "execution": {
     "iopub.execute_input": "2025-05-13T13:27:29.562950Z",
     "iopub.status.busy": "2025-05-13T13:27:29.562546Z",
     "iopub.status.idle": "2025-05-13T13:27:29.676788Z",
     "shell.execute_reply": "2025-05-13T13:27:29.675727Z"
    },
    "papermill": {
     "duration": 0.131691,
     "end_time": "2025-05-13T13:27:29.678470",
     "exception": false,
     "start_time": "2025-05-13T13:27:29.546779",
     "status": "completed"
    },
    "tags": []
   },
   "outputs": [
    {
     "data": {
      "text/plain": [
       "0"
      ]
     },
     "execution_count": 17,
     "metadata": {},
     "output_type": "execute_result"
    }
   ],
   "source": [
    "del X,y\n",
    "gc.collect()"
   ]
  },
  {
   "cell_type": "code",
   "execution_count": 18,
   "id": "25f5a67b",
   "metadata": {
    "execution": {
     "iopub.execute_input": "2025-05-13T13:27:29.707449Z",
     "iopub.status.busy": "2025-05-13T13:27:29.707119Z",
     "iopub.status.idle": "2025-05-13T13:31:57.082465Z",
     "shell.execute_reply": "2025-05-13T13:31:57.080541Z"
    },
    "papermill": {
     "duration": 267.393973,
     "end_time": "2025-05-13T13:31:57.086624",
     "exception": false,
     "start_time": "2025-05-13T13:27:29.692651",
     "status": "completed"
    },
    "tags": []
   },
   "outputs": [],
   "source": [
    "smote = SMOTE(random_state=42)\n",
    "X_resampled, y_resampled = smote.fit_resample(X_train, y_train)"
   ]
  },
  {
   "cell_type": "code",
   "execution_count": 19,
   "id": "fefd76ea",
   "metadata": {
    "execution": {
     "iopub.execute_input": "2025-05-13T13:31:57.120632Z",
     "iopub.status.busy": "2025-05-13T13:31:57.120260Z",
     "iopub.status.idle": "2025-05-13T13:31:57.317816Z",
     "shell.execute_reply": "2025-05-13T13:31:57.316825Z"
    },
    "papermill": {
     "duration": 0.215082,
     "end_time": "2025-05-13T13:31:57.319594",
     "exception": false,
     "start_time": "2025-05-13T13:31:57.104512",
     "status": "completed"
    },
    "tags": []
   },
   "outputs": [
    {
     "data": {
      "text/plain": [
       "0"
      ]
     },
     "execution_count": 19,
     "metadata": {},
     "output_type": "execute_result"
    }
   ],
   "source": [
    "del smote,X_train,y_train\n",
    "gc.collect()"
   ]
  },
  {
   "cell_type": "code",
   "execution_count": 20,
   "id": "feb94813",
   "metadata": {
    "execution": {
     "iopub.execute_input": "2025-05-13T13:31:57.350506Z",
     "iopub.status.busy": "2025-05-13T13:31:57.350168Z",
     "iopub.status.idle": "2025-05-13T13:31:57.355315Z",
     "shell.execute_reply": "2025-05-13T13:31:57.354431Z"
    },
    "papermill": {
     "duration": 0.021788,
     "end_time": "2025-05-13T13:31:57.357091",
     "exception": false,
     "start_time": "2025-05-13T13:31:57.335303",
     "status": "completed"
    },
    "tags": []
   },
   "outputs": [],
   "source": [
    "import pandas as pd\n",
    "import numpy as np\n",
    "import pickle\n",
    "import os\n",
    "\n",
    "from sklearn.model_selection import train_test_split\n",
    "from sklearn.preprocessing import LabelEncoder, StandardScaler\n",
    "from sklearn.metrics import accuracy_score, classification_report\n",
    "from sklearn.ensemble import RandomForestClassifier"
   ]
  },
  {
   "cell_type": "code",
   "execution_count": 21,
   "id": "3a6fb805",
   "metadata": {
    "execution": {
     "iopub.execute_input": "2025-05-13T13:31:57.385788Z",
     "iopub.status.busy": "2025-05-13T13:31:57.385460Z",
     "iopub.status.idle": "2025-05-13T13:32:00.416094Z",
     "shell.execute_reply": "2025-05-13T13:32:00.415143Z"
    },
    "papermill": {
     "duration": 3.046973,
     "end_time": "2025-05-13T13:32:00.417884",
     "exception": false,
     "start_time": "2025-05-13T13:31:57.370911",
     "status": "completed"
    },
    "tags": []
   },
   "outputs": [],
   "source": [
    "le = LabelEncoder()\n",
    "y_train = le.fit_transform(y_resampled)"
   ]
  },
  {
   "cell_type": "code",
   "execution_count": 22,
   "id": "1d56a077",
   "metadata": {
    "execution": {
     "iopub.execute_input": "2025-05-13T13:32:00.447339Z",
     "iopub.status.busy": "2025-05-13T13:32:00.446944Z",
     "iopub.status.idle": "2025-05-13T13:32:00.531917Z",
     "shell.execute_reply": "2025-05-13T13:32:00.530900Z"
    },
    "papermill": {
     "duration": 0.10189,
     "end_time": "2025-05-13T13:32:00.534125",
     "exception": false,
     "start_time": "2025-05-13T13:32:00.432235",
     "status": "completed"
    },
    "tags": []
   },
   "outputs": [],
   "source": [
    "y_test = le.transform(y_test)"
   ]
  },
  {
   "cell_type": "code",
   "execution_count": 23,
   "id": "2cd8f515",
   "metadata": {
    "execution": {
     "iopub.execute_input": "2025-05-13T13:32:00.564022Z",
     "iopub.status.busy": "2025-05-13T13:32:00.562950Z",
     "iopub.status.idle": "2025-05-13T13:32:00.569035Z",
     "shell.execute_reply": "2025-05-13T13:32:00.567893Z"
    },
    "papermill": {
     "duration": 0.022277,
     "end_time": "2025-05-13T13:32:00.570634",
     "exception": false,
     "start_time": "2025-05-13T13:32:00.548357",
     "status": "completed"
    },
    "tags": []
   },
   "outputs": [
    {
     "name": "stdout",
     "output_type": "stream",
     "text": [
      "BENIGN → 0\n",
      "Bot → 1\n",
      "DoS GoldenEye → 2\n",
      "DoS Hulk → 3\n",
      "DoS Slowhttptest → 4\n",
      "DoS slowloris → 5\n",
      "Heartbleed → 6\n",
      "Infiltration → 7\n",
      "PortScan → 8\n",
      "Web Attack   Brute Force → 9\n",
      "Web Attack   Sql Injection → 10\n",
      "Web Attack   XSS → 11\n"
     ]
    }
   ],
   "source": [
    "# Print the mapping\n",
    "for i, label in enumerate(le.classes_):\n",
    "    print(f\"{label} → {i}\")"
   ]
  },
  {
   "cell_type": "code",
   "execution_count": 24,
   "id": "d83991d2",
   "metadata": {
    "execution": {
     "iopub.execute_input": "2025-05-13T13:32:00.599796Z",
     "iopub.status.busy": "2025-05-13T13:32:00.599473Z",
     "iopub.status.idle": "2025-05-13T13:32:27.456543Z",
     "shell.execute_reply": "2025-05-13T13:32:27.455388Z"
    },
    "papermill": {
     "duration": 26.874016,
     "end_time": "2025-05-13T13:32:27.458607",
     "exception": false,
     "start_time": "2025-05-13T13:32:00.584591",
     "status": "completed"
    },
    "tags": []
   },
   "outputs": [],
   "source": [
    "scaler = StandardScaler()\n",
    "X_train = scaler.fit_transform(X_resampled)"
   ]
  },
  {
   "cell_type": "code",
   "execution_count": 25,
   "id": "7bb3b682",
   "metadata": {
    "execution": {
     "iopub.execute_input": "2025-05-13T13:32:27.488538Z",
     "iopub.status.busy": "2025-05-13T13:32:27.487523Z",
     "iopub.status.idle": "2025-05-13T13:32:28.020437Z",
     "shell.execute_reply": "2025-05-13T13:32:28.019322Z"
    },
    "papermill": {
     "duration": 0.549244,
     "end_time": "2025-05-13T13:32:28.022087",
     "exception": false,
     "start_time": "2025-05-13T13:32:27.472843",
     "status": "completed"
    },
    "tags": []
   },
   "outputs": [
    {
     "data": {
      "text/plain": [
       "0"
      ]
     },
     "execution_count": 25,
     "metadata": {},
     "output_type": "execute_result"
    }
   ],
   "source": [
    "del X_resampled,y_resampled\n",
    "gc.collect()"
   ]
  },
  {
   "cell_type": "code",
   "execution_count": 31,
   "id": "96e0dcd7",
   "metadata": {
    "execution": {
     "iopub.execute_input": "2025-05-13T13:32:28.236615Z",
     "iopub.status.busy": "2025-05-13T13:32:28.235623Z",
     "iopub.status.idle": "2025-05-13T13:32:32.196380Z",
     "shell.execute_reply": "2025-05-13T13:32:32.195112Z"
    },
    "papermill": {
     "duration": 3.978471,
     "end_time": "2025-05-13T13:32:32.198473",
     "exception": false,
     "start_time": "2025-05-13T13:32:28.220002",
     "status": "completed"
    },
    "tags": []
   },
   "outputs": [
    {
     "name": "stdout",
     "output_type": "stream",
     "text": [
      "Requirement already satisfied: xgboost in /usr/local/lib/python3.11/dist-packages (2.0.3)\r\n",
      "Requirement already satisfied: numpy in /usr/local/lib/python3.11/dist-packages (from xgboost) (1.26.4)\r\n",
      "Requirement already satisfied: scipy in /usr/local/lib/python3.11/dist-packages (from xgboost) (1.15.2)\r\n",
      "Requirement already satisfied: mkl_fft in /usr/local/lib/python3.11/dist-packages (from numpy->xgboost) (1.3.8)\r\n",
      "Requirement already satisfied: mkl_random in /usr/local/lib/python3.11/dist-packages (from numpy->xgboost) (1.2.4)\r\n",
      "Requirement already satisfied: mkl_umath in /usr/local/lib/python3.11/dist-packages (from numpy->xgboost) (0.1.1)\r\n",
      "Requirement already satisfied: mkl in /usr/local/lib/python3.11/dist-packages (from numpy->xgboost) (2025.1.0)\r\n",
      "Requirement already satisfied: tbb4py in /usr/local/lib/python3.11/dist-packages (from numpy->xgboost) (2022.1.0)\r\n",
      "Requirement already satisfied: mkl-service in /usr/local/lib/python3.11/dist-packages (from numpy->xgboost) (2.4.1)\r\n",
      "Requirement already satisfied: intel-openmp<2026,>=2024 in /usr/local/lib/python3.11/dist-packages (from mkl->numpy->xgboost) (2024.2.0)\r\n",
      "Requirement already satisfied: tbb==2022.* in /usr/local/lib/python3.11/dist-packages (from mkl->numpy->xgboost) (2022.1.0)\r\n",
      "Requirement already satisfied: tcmlib==1.* in /usr/local/lib/python3.11/dist-packages (from tbb==2022.*->mkl->numpy->xgboost) (1.2.0)\r\n",
      "Requirement already satisfied: intel-cmplr-lib-rt in /usr/local/lib/python3.11/dist-packages (from mkl_umath->numpy->xgboost) (2024.2.0)\r\n",
      "Requirement already satisfied: intel-cmplr-lib-ur==2024.2.0 in /usr/local/lib/python3.11/dist-packages (from intel-openmp<2026,>=2024->mkl->numpy->xgboost) (2024.2.0)\r\n"
     ]
    }
   ],
   "source": [
    "!pip install xgboost"
   ]
  },
  {
   "cell_type": "code",
   "execution_count": 32,
   "id": "29370a50",
   "metadata": {
    "execution": {
     "iopub.execute_input": "2025-05-13T13:32:32.228745Z",
     "iopub.status.busy": "2025-05-13T13:32:32.228407Z",
     "iopub.status.idle": "2025-05-13T13:32:32.531751Z",
     "shell.execute_reply": "2025-05-13T13:32:32.530622Z"
    },
    "papermill": {
     "duration": 0.320617,
     "end_time": "2025-05-13T13:32:32.533592",
     "exception": false,
     "start_time": "2025-05-13T13:32:32.212975",
     "status": "completed"
    },
    "tags": []
   },
   "outputs": [],
   "source": [
    "import xgboost as xgb\n",
    "from sklearn.metrics import classification_report, accuracy_score\n",
    "\n",
    "# Train the model\n",
    "xgb_model = xgb.XGBClassifier(\n",
    "    n_estimators=100,  # Number of boosting rounds\n",
    "    learning_rate=0.1,  # Step size for each boosting round\n",
    "    max_depth=6,  # Depth of each tree\n",
    "    random_state=42,  # For reproducibility\n",
    "    n_jobs=-1  # Use all CPU cores\n",
    ")\n",
    "\n"
   ]
  },
  {
   "cell_type": "code",
   "execution_count": 33,
   "id": "cd49d7ef",
   "metadata": {
    "execution": {
     "iopub.execute_input": "2025-05-13T13:32:32.565243Z",
     "iopub.status.busy": "2025-05-13T13:32:32.564419Z",
     "iopub.status.idle": "2025-05-13T14:05:03.965162Z",
     "shell.execute_reply": "2025-05-13T14:05:03.962633Z"
    },
    "papermill": {
     "duration": 1951.456473,
     "end_time": "2025-05-13T14:05:04.004834",
     "exception": false,
     "start_time": "2025-05-13T13:32:32.548361",
     "status": "completed"
    },
    "tags": []
   },
   "outputs": [
    {
     "name": "stdout",
     "output_type": "stream",
     "text": [
      "Accuracy: 0.79852540203661453\n"
     ]
    }
   ],
   "source": [
    "xgb_model.fit(X_train, y_train)\n",
    "\n",
    "# Predict on the test set\n",
    "y_pred = xgb_model.predict(X_test)\n",
    "# Evaluate the model\n",
    "print(\"Accuracy:\", accuracy_score(y_test, y_pred))\n"
   ]
  },
  {
   "cell_type": "code",
   "execution_count": 34,
   "id": "e27be4cc",
   "metadata": {
    "execution": {
     "iopub.execute_input": "2025-05-13T14:05:04.040873Z",
     "iopub.status.busy": "2025-05-13T14:05:04.040288Z",
     "iopub.status.idle": "2025-05-13T14:05:04.248203Z",
     "shell.execute_reply": "2025-05-13T14:05:04.246340Z"
    },
    "papermill": {
     "duration": 0.229004,
     "end_time": "2025-05-13T14:05:04.250317",
     "exception": false,
     "start_time": "2025-05-13T14:05:04.021313",
     "status": "completed"
    },
    "tags": []
   },
   "outputs": [
    {
     "name": "stdout",
     "output_type": "stream",
     "text": [
      "Classification Report:\n",
        "                             precision    recall  f1-score   support\n",
      "\n",
      "                    BENIGN       0.87      0.92      0.89    435455\n",
      "                       Bot       0.51      0.42      0.46       489\n",
      "             DoS GoldenEye       0.60      0.58      0.59      2573\n",
      "                  DoS Hulk       0.76      0.72      0.74     57531\n",
      "          DoS Slowhttptest       0.55      0.49      0.52      1375\n",
      "             DoS slowloris       0.53      0.46      0.49      1449\n",
      "                Heartbleed       1.00      0.67      0.80         3\n",
      "              Infiltration       0.70      0.78      0.74         9\n",
      "                  PortScan       0.75      0.69      0.72     39701\n",
      "  Web Attack   Brute Force       0.57      0.54      0.55       377\n",
      "Web Attack   Sql Injection       0.62      0.60      0.61         5\n",
      "          Web Attack   XSS       0.59      0.52      0.55       163\n",
      "\n",
      "                  accuracy                           0.79    539130\n",
      "                 macro avg       0.67      0.61      0.63    539130\n",
      "              weighted avg       0.80      0.79      0.79    539130\n",
      "\n"
     ]
    },
    {
     "name": "stderr",
     "output_type": "stream",
     "text": [
      "/usr/local/lib/python3.11/dist-packages/sklearn/metrics/_classification.py:1565: UndefinedMetricWarning: Precision is ill-defined and being set to 0.0 in labels with no predicted samples. Use `zero_division` parameter to control this behavior.\n",
      "  _warn_prf(average, modifier, f\"{metric.capitalize()} is\", len(result))\n",
      "/usr/local/lib/python3.11/dist-packages/sklearn/metrics/_classification.py:1565: UndefinedMetricWarning: Precision is ill-defined and being set to 0.0 in labels with no predicted samples. Use `zero_division` parameter to control this behavior.\n",
      "  _warn_prf(average, modifier, f\"{metric.capitalize()} is\", len(result))\n",
      "/usr/local/lib/python3.11/dist-packages/sklearn/metrics/_classification.py:1565: UndefinedMetricWarning: Precision is ill-defined and being set to 0.0 in labels with no predicted samples. Use `zero_division` parameter to control this behavior.\n",
      "  _warn_prf(average, modifier, f\"{metric.capitalize()} is\", len(result))\n"
     ]
    }
   ],
   "source": [
    "print(\"Classification Report:\\n\", classification_report(y_test, y_pred, target_names=le.classes_))"
   ]
  },
  {
   "cell_type": "code",
   "execution_count": 35,
   "id": "6854ab19",
   "metadata": {
    "execution": {
     "iopub.execute_input": "2025-05-13T14:05:04.290346Z",
     "iopub.status.busy": "2025-05-13T14:05:04.289783Z",
     "iopub.status.idle": "2025-05-13T14:05:04.333900Z",
     "shell.execute_reply": "2025-05-13T14:05:04.332770Z"
    },
    "papermill": {
     "duration": 0.068139,
     "end_time": "2025-05-13T14:05:04.335709",
     "exception": false,
     "start_time": "2025-05-13T14:05:04.267570",
     "status": "completed"
    },
    "tags": []
   },
   "outputs": [
    {
     "data": {
      "text/plain": [
       "['scaler.pkl']"
      ]
     },
     "execution_count": 35,
     "metadata": {},
     "output_type": "execute_result"
    }
   ],
   "source": [
    "import joblib\n",
    "joblib.dump(xgb_model, 'xgboost_model.pkl')\n",
    "# Save the LabelEncoder\n",
    "joblib.dump(le, 'label_encoder.pkl')\n",
    "\n",
    "# # Save the scaler (if you used one, e.g., StandardScaler)\n",
    "joblib.dump(scaler, 'scaler.pkl')  # Replace 'scaler' with your actual scaler variable"
   ]
  },
  {
   "cell_type": "code",
   "execution_count": null,
   "id": "5277fee6",
   "metadata": {
    "papermill": {
     "duration": 0.020256,
     "end_time": "2025-05-13T14:05:04.384677",
     "exception": false,
     "start_time": "2025-05-13T14:05:04.364421",
     "status": "completed"
    },
    "tags": []
   },
   "outputs": [],
   "source": []
  }
 ],
 "metadata": {
  "kaggle": {
   "accelerator": "none",
   "dataSources": [],
   "dockerImageVersionId": 31012,
   "isGpuEnabled": false,
   "isInternetEnabled": true,
   "language": "python",
   "sourceType": "notebook"
  },
  "kernelspec": {
   "display_name": "Python 3",
   "language": "python",
   "name": "python3"
  },
  "language_info": {
   "codemirror_mode": {
    "name": "ipython",
    "version": 3
   },
   "file_extension": ".py",
   "mimetype": "text/x-python",
   "name": "python",
   "nbconvert_exporter": "python",
   "pygments_lexer": "ipython3",
   "version": "3.11.11"
  },
  "papermill": {
   "default_parameters": {},
   "duration": 2346.143348,
   "end_time": "2025-05-13T14:05:05.843838",
   "environment_variables": {},
   "exception": null,
   "input_path": "__notebook__.ipynb",
   "output_path": "__notebook__.ipynb",
   "parameters": {},
   "start_time": "2025-05-13T13:25:59.700490",
   "version": "2.6.0"
  }
 },
 "nbformat": 4,
 "nbformat_minor": 5
}
