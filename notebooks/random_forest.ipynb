{
 "cells": [
  {
   "cell_type": "code",
   "execution_count": 1,
   "id": "b4331724",
   "metadata": {
    "_cell_guid": "b1076dfc-b9ad-4769-8c92-a6c4dae69d19",
    "_uuid": "8f2839f25d086af736a60e9eeb907d3b93b6e0e5",
    "execution": {
     "iopub.execute_input": "2025-05-13T12:24:59.566034Z",
     "iopub.status.busy": "2025-05-13T12:24:59.565780Z",
     "iopub.status.idle": "2025-05-13T12:25:01.006715Z",
     "shell.execute_reply": "2025-05-13T12:25:01.005753Z"
    },
    "papermill": {
     "duration": 1.448927,
     "end_time": "2025-05-13T12:25:01.008741",
     "exception": false,
     "start_time": "2025-05-13T12:24:59.559814",
     "status": "completed"
    },
    "tags": []
   },
   "outputs": [],
   "source": [
    "# This Python 3 environment comes with many helpful analytics libraries installed\n",
    "# It is defined by the kaggle/python Docker image: https://github.com/kaggle/docker-python\n",
    "# For example, here's several helpful packages to load\n",
    "\n",
    "import numpy as np # linear algebra\n",
    "import pandas as pd # data processing, CSV file I/O (e.g. pd.read_csv)\n",
    "\n",
    "# Input data files are available in the read-only \"../input/\" directory\n",
    "# For example, running this (by clicking run or pressing Shift+Enter) will list all files under the input directory\n",
    "\n",
    "import os\n",
    "for dirname, _, filenames in os.walk('/kaggle/input'):\n",
    "    for filename in filenames:\n",
    "        print(os.path.join(dirname, filename))\n",
    "\n",
    "# You can write up to 20GB to the current directory (/kaggle/working/) that gets preserved as output when you create a version using \"Save & Run All\" \n",
    "# You can also write temporary files to /kaggle/temp/, but they won't be saved outside of the current session"
   ]
  },
  {
   "cell_type": "code",
   "execution_count": 2,
   "id": "7522089b",
   "metadata": {
    "execution": {
     "iopub.execute_input": "2025-05-13T12:25:01.024920Z",
     "iopub.status.busy": "2025-05-13T12:25:01.024527Z",
     "iopub.status.idle": "2025-05-13T12:25:32.720570Z",
     "shell.execute_reply": "2025-05-13T12:25:32.719864Z"
    },
    "papermill": {
     "duration": 31.705201,
     "end_time": "2025-05-13T12:25:32.721659",
     "exception": false,
     "start_time": "2025-05-13T12:25:01.016458",
     "status": "completed"
    },
    "tags": []
   },
   "outputs": [
    {
     "name": "stdout",
     "output_type": "stream",
     "text": [
      "--2025-05-13 12:25:01--  http://cicresearch.ca/CICDataset/CIC-IDS-2017/Dataset/CIC-IDS-2017/CSVs/MachineLearningCSV.zip\r\n",
      "Resolving cicresearch.ca (cicresearch.ca)... 205.174.165.80\r\n",
      "Connecting to cicresearch.ca (cicresearch.ca)|205.174.165.80|:80... connected.\r\n",
      "HTTP request sent, awaiting response... 200 OK\r\n",
      "Length: 235102953 (224M) [application/zip]\r\n",
      "Saving to: ‘MachineLearningCSV.zip’\r\n",
      "\r\n",
      "MachineLearningCSV. 100%[===================>] 224.21M  10.3MB/s    in 31s     \r\n",
      "\r\n",
      "2025-05-13 12:25:32 (7.25 MB/s) - ‘MachineLearningCSV.zip’ saved [235102953/235102953]\r\n",
      "\r\n"
     ]
    }
   ],
   "source": [
    "!wget http://cicresearch.ca/CICDataset/CIC-IDS-2017/Dataset/CIC-IDS-2017/CSVs/MachineLearningCSV.zip"
   ]
  },
  {
   "cell_type": "code",
   "execution_count": 3,
   "id": "59f1b521",
   "metadata": {
    "execution": {
     "iopub.execute_input": "2025-05-13T12:25:32.741582Z",
     "iopub.status.busy": "2025-05-13T12:25:32.741348Z",
     "iopub.status.idle": "2025-05-13T12:25:39.539088Z",
     "shell.execute_reply": "2025-05-13T12:25:39.538339Z"
    },
    "papermill": {
     "duration": 6.809018,
     "end_time": "2025-05-13T12:25:39.540405",
     "exception": false,
     "start_time": "2025-05-13T12:25:32.731387",
     "status": "completed"
    },
    "tags": []
   },
   "outputs": [
    {
     "name": "stdout",
     "output_type": "stream",
     "text": [
      "Archive:  MachineLearningCSV.zip\r\n",
      "   creating: MachineLearningCSV/MachineLearningCVE/\r\n",
      "  inflating: MachineLearningCSV/MachineLearningCVE/Wednesday-workingHours.pcap_ISCX.csv  \r\n",
      "  inflating: MachineLearningCSV/MachineLearningCVE/Tuesday-WorkingHours.pcap_ISCX.csv  \r\n",
      "  inflating: MachineLearningCSV/MachineLearningCVE/Thursday-WorkingHours-Morning-WebAttacks.pcap_ISCX.csv  \r\n",
      "  inflating: MachineLearningCSV/MachineLearningCVE/Thursday-WorkingHours-Afternoon-Infilteration.pcap_ISCX.csv  \r\n",
      "  inflating: MachineLearningCSV/MachineLearningCVE/Monday-WorkingHours.pcap_ISCX.csv  \r\n",
      "  inflating: MachineLearningCSV/MachineLearningCVE/Friday-WorkingHours-Morning.pcap_ISCX.csv  \r\n",
      "  inflating: MachineLearningCSV/MachineLearningCVE/Friday-WorkingHours-Afternoon-PortScan.pcap_ISCX.csv  \r\n",
      "  inflating: MachineLearningCSV/MachineLearningCVE/Friday-WorkingHours-Afternoon-DDos.pcap_ISCX.csv  \r\n"
     ]
    }
   ],
   "source": [
    "!unzip MachineLearningCSV.zip -d MachineLearningCSV"
   ]
  },
  {
   "cell_type": "code",
   "execution_count": 4,
   "id": "819108ae",
   "metadata": {
    "execution": {
     "iopub.execute_input": "2025-05-13T12:25:39.560962Z",
     "iopub.status.busy": "2025-05-13T12:25:39.560748Z",
     "iopub.status.idle": "2025-05-13T12:25:43.482109Z",
     "shell.execute_reply": "2025-05-13T12:25:43.481330Z"
    },
    "papermill": {
     "duration": 3.933717,
     "end_time": "2025-05-13T12:25:43.484008",
     "exception": false,
     "start_time": "2025-05-13T12:25:39.550291",
     "status": "completed"
    },
    "tags": []
   },
   "outputs": [
    {
     "name": "stdout",
     "output_type": "stream",
     "text": [
      "Requirement already satisfied: scikit-learn in /usr/local/lib/python3.11/dist-packages (1.2.2)\r\n",
      "Requirement already satisfied: numpy>=1.17.3 in /usr/local/lib/python3.11/dist-packages (from scikit-learn) (1.26.4)\r\n",
      "Requirement already satisfied: scipy>=1.3.2 in /usr/local/lib/python3.11/dist-packages (from scikit-learn) (1.15.2)\r\n",
      "Requirement already satisfied: joblib>=1.1.1 in /usr/local/lib/python3.11/dist-packages (from scikit-learn) (1.4.2)\r\n",
      "Requirement already satisfied: threadpoolctl>=2.0.0 in /usr/local/lib/python3.11/dist-packages (from scikit-learn) (3.6.0)\r\n",
      "Requirement already satisfied: mkl_fft in /usr/local/lib/python3.11/dist-packages (from numpy>=1.17.3->scikit-learn) (1.3.8)\r\n",
      "Requirement already satisfied: mkl_random in /usr/local/lib/python3.11/dist-packages (from numpy>=1.17.3->scikit-learn) (1.2.4)\r\n",
      "Requirement already satisfied: mkl_umath in /usr/local/lib/python3.11/dist-packages (from numpy>=1.17.3->scikit-learn) (0.1.1)\r\n",
      "Requirement already satisfied: mkl in /usr/local/lib/python3.11/dist-packages (from numpy>=1.17.3->scikit-learn) (2025.1.0)\r\n",
      "Requirement already satisfied: tbb4py in /usr/local/lib/python3.11/dist-packages (from numpy>=1.17.3->scikit-learn) (2022.1.0)\r\n",
      "Requirement already satisfied: mkl-service in /usr/local/lib/python3.11/dist-packages (from numpy>=1.17.3->scikit-learn) (2.4.1)\r\n",
      "Requirement already satisfied: intel-openmp<2026,>=2024 in /usr/local/lib/python3.11/dist-packages (from mkl->numpy>=1.17.3->scikit-learn) (2024.2.0)\r\n",
      "Requirement already satisfied: tbb==2022.* in /usr/local/lib/python3.11/dist-packages (from mkl->numpy>=1.17.3->scikit-learn) (2022.1.0)\r\n",
      "Requirement already satisfied: tcmlib==1.* in /usr/local/lib/python3.11/dist-packages (from tbb==2022.*->mkl->numpy>=1.17.3->scikit-learn) (1.2.0)\r\n",
      "Requirement already satisfied: intel-cmplr-lib-rt in /usr/local/lib/python3.11/dist-packages (from mkl_umath->numpy>=1.17.3->scikit-learn) (2024.2.0)\r\n",
      "Requirement already satisfied: intel-cmplr-lib-ur==2024.2.0 in /usr/local/lib/python3.11/dist-packages (from intel-openmp<2026,>=2024->mkl->numpy>=1.17.3->scikit-learn) (2024.2.0)\r\n"
     ]
    }
   ],
   "source": [
    "!pip install scikit-learn"
   ]
  },
  {
   "cell_type": "code",
   "execution_count": 5,
   "id": "bebcbb40",
   "metadata": {
    "execution": {
     "iopub.execute_input": "2025-05-13T12:25:43.504880Z",
     "iopub.status.busy": "2025-05-13T12:25:43.504638Z",
     "iopub.status.idle": "2025-05-13T12:25:49.975776Z",
     "shell.execute_reply": "2025-05-13T12:25:49.975002Z"
    },
    "papermill": {
     "duration": 6.483076,
     "end_time": "2025-05-13T12:25:49.977159",
     "exception": false,
     "start_time": "2025-05-13T12:25:43.494083",
     "status": "completed"
    },
    "tags": []
   },
   "outputs": [
    {
     "name": "stdout",
     "output_type": "stream",
     "text": [
      "Requirement already satisfied: imbalanced-learn in /usr/local/lib/python3.11/dist-packages (0.13.0)\r\n",
      "Requirement already satisfied: numpy<3,>=1.24.3 in /usr/local/lib/python3.11/dist-packages (from imbalanced-learn) (1.26.4)\r\n",
      "Requirement already satisfied: scipy<2,>=1.10.1 in /usr/local/lib/python3.11/dist-packages (from imbalanced-learn) (1.15.2)\r\n",
      "Collecting scikit-learn<2,>=1.3.2 (from imbalanced-learn)\r\n",
      "  Downloading scikit_learn-1.6.1-cp311-cp311-manylinux_2_17_x86_64.manylinux2014_x86_64.whl.metadata (18 kB)\r\n",
      "Requirement already satisfied: sklearn-compat<1,>=0.1 in /usr/local/lib/python3.11/dist-packages (from imbalanced-learn) (0.1.3)\r\n",
      "Requirement already satisfied: joblib<2,>=1.1.1 in /usr/local/lib/python3.11/dist-packages (from imbalanced-learn) (1.4.2)\r\n",
      "Requirement already satisfied: threadpoolctl<4,>=2.0.0 in /usr/local/lib/python3.11/dist-packages (from imbalanced-learn) (3.6.0)\r\n",
      "Requirement already satisfied: mkl_fft in /usr/local/lib/python3.11/dist-packages (from numpy<3,>=1.24.3->imbalanced-learn) (1.3.8)\r\n",
      "Requirement already satisfied: mkl_random in /usr/local/lib/python3.11/dist-packages (from numpy<3,>=1.24.3->imbalanced-learn) (1.2.4)\r\n",
      "Requirement already satisfied: mkl_umath in /usr/local/lib/python3.11/dist-packages (from numpy<3,>=1.24.3->imbalanced-learn) (0.1.1)\r\n",
      "Requirement already satisfied: mkl in /usr/local/lib/python3.11/dist-packages (from numpy<3,>=1.24.3->imbalanced-learn) (2025.1.0)\r\n",
      "Requirement already satisfied: tbb4py in /usr/local/lib/python3.11/dist-packages (from numpy<3,>=1.24.3->imbalanced-learn) (2022.1.0)\r\n",
      "Requirement already satisfied: mkl-service in /usr/local/lib/python3.11/dist-packages (from numpy<3,>=1.24.3->imbalanced-learn) (2.4.1)\r\n",
      "Requirement already satisfied: intel-openmp<2026,>=2024 in /usr/local/lib/python3.11/dist-packages (from mkl->numpy<3,>=1.24.3->imbalanced-learn) (2024.2.0)\r\n",
      "Requirement already satisfied: tbb==2022.* in /usr/local/lib/python3.11/dist-packages (from mkl->numpy<3,>=1.24.3->imbalanced-learn) (2022.1.0)\r\n",
      "Requirement already satisfied: tcmlib==1.* in /usr/local/lib/python3.11/dist-packages (from tbb==2022.*->mkl->numpy<3,>=1.24.3->imbalanced-learn) (1.2.0)\r\n",
      "Requirement already satisfied: intel-cmplr-lib-rt in /usr/local/lib/python3.11/dist-packages (from mkl_umath->numpy<3,>=1.24.3->imbalanced-learn) (2024.2.0)\r\n",
      "Requirement already satisfied: intel-cmplr-lib-ur==2024.2.0 in /usr/local/lib/python3.11/dist-packages (from intel-openmp<2026,>=2024->mkl->numpy<3,>=1.24.3->imbalanced-learn) (2024.2.0)\r\n",
      "Downloading scikit_learn-1.6.1-cp311-cp311-manylinux_2_17_x86_64.manylinux2014_x86_64.whl (13.5 MB)\r\n",
      "\u001b[2K   \u001b[90m━━━━━━━━━━━━━━━━━━━━━━━━━━━━━━━━━━━━━━━━\u001b[0m \u001b[32m13.5/13.5 MB\u001b[0m \u001b[31m88.4 MB/s\u001b[0m eta \u001b[36m0:00:00\u001b[0m\r\n",
      "\u001b[?25hInstalling collected packages: scikit-learn\r\n",
      "  Attempting uninstall: scikit-learn\r\n",
      "    Found existing installation: scikit-learn 1.2.2\r\n",
      "    Uninstalling scikit-learn-1.2.2:\r\n",
      "      Successfully uninstalled scikit-learn-1.2.2\r\n",
      "\u001b[31mERROR: pip's dependency resolver does not currently take into account all the packages that are installed. This behaviour is the source of the following dependency conflicts.\r\n",
      "category-encoders 2.7.0 requires scikit-learn<1.6.0,>=1.0.0, but you have scikit-learn 1.6.1 which is incompatible.\r\n",
      "bigframes 1.36.0 requires rich<14,>=12.4.4, but you have rich 14.0.0 which is incompatible.\u001b[0m\u001b[31m\r\n",
      "\u001b[0mSuccessfully installed scikit-learn-1.6.1\r\n"
     ]
    }
   ],
   "source": [
    "!pip install imbalanced-learn"
   ]
  },
  {
   "cell_type": "code",
   "execution_count": 6,
   "id": "264c67ba",
   "metadata": {
    "execution": {
     "iopub.execute_input": "2025-05-13T12:25:49.999381Z",
     "iopub.status.busy": "2025-05-13T12:25:49.999149Z",
     "iopub.status.idle": "2025-05-13T12:25:50.003054Z",
     "shell.execute_reply": "2025-05-13T12:25:50.002325Z"
    },
    "papermill": {
     "duration": 0.016451,
     "end_time": "2025-05-13T12:25:50.004166",
     "exception": false,
     "start_time": "2025-05-13T12:25:49.987715",
     "status": "completed"
    },
    "tags": []
   },
   "outputs": [],
   "source": [
    "import gc"
   ]
  },
  {
   "cell_type": "code",
   "execution_count": 7,
   "id": "47a31cb7",
   "metadata": {
    "execution": {
     "iopub.execute_input": "2025-05-13T12:25:50.026339Z",
     "iopub.status.busy": "2025-05-13T12:25:50.026151Z",
     "iopub.status.idle": "2025-05-13T12:26:03.639628Z",
     "shell.execute_reply": "2025-05-13T12:26:03.639014Z"
    },
    "papermill": {
     "duration": 13.626961,
     "end_time": "2025-05-13T12:26:03.641092",
     "exception": false,
     "start_time": "2025-05-13T12:25:50.014131",
     "status": "completed"
    },
    "tags": []
   },
   "outputs": [],
   "source": [
    "MODEL_PATH = 'phishing_detector.pkl'\n",
    "\n",
    "def load_unsw_dataset():\n",
    "    files = [\n",
    "        \"MachineLearningCSV/MachineLearningCVE/Wednesday-workingHours.pcap_ISCX.csv\",\n",
    "        \"MachineLearningCSV/MachineLearningCVE/Friday-WorkingHours-Afternoon-PortScan.pcap_ISCX.csv\",\n",
    "        \"MachineLearningCSV/MachineLearningCVE/Friday-WorkingHours-Morning.pcap_ISCX.csv\",\n",
    "        \"MachineLearningCSV/MachineLearningCVE/Monday-WorkingHours.pcap_ISCX.csv\", \n",
    "        \"MachineLearningCSV/MachineLearningCVE/Thursday-WorkingHours-Afternoon-Infilteration.pcap_ISCX.csv\",\n",
    "        \"MachineLearningCSV/MachineLearningCVE/Thursday-WorkingHours-Morning-WebAttacks.pcap_ISCX.csv\",\n",
    "        # \"MachineLearningCSV/MachineLearningCVE/Tuesday-WorkingHours.pcap_ISCX.csv\",\n",
    "        # \"MachineLearningCSV/MachineLearningCVE/Wednesday-workingHours.pcap_ISCX.csv\"\n",
    "    ]\n",
    "    dfs = []\n",
    "    for f in files:\n",
    "        if os.path.exists(f):\n",
    "            dfs.append(pd.read_csv(f))\n",
    "        else:\n",
    "            print(f\"Missing file: {f}\")\n",
    "    \n",
    "    if not dfs:\n",
    "        print(\"No data files found. Please check the file paths.\")\n",
    "        return None\n",
    "    \n",
    "    data = pd.concat(dfs, ignore_index=True)\n",
    "    data.columns = data.columns.str.strip()\n",
    "    cols = ['Destination Port', 'Flow Duration', 'Total Fwd Packets',\n",
    "       'Total Backward Packets', 'Total Length of Fwd Packets',\n",
    "       'Total Length of Bwd Packets', 'Fwd Packet Length Max',\n",
    "       'Fwd Packet Length Min', 'Fwd Packet Length Mean',\n",
    "       'Fwd Packet Length Std', 'Bwd Packet Length Max',\n",
    "       'Bwd Packet Length Min', 'Bwd Packet Length Mean',\n",
    "       'Bwd Packet Length Std', 'Flow Bytes/s', 'Flow Packets/s',\n",
    "       'Flow IAT Mean', 'Flow IAT Std', 'Flow IAT Max', 'Flow IAT Min',\n",
    "       'Fwd IAT Total', 'Fwd IAT Mean', 'Fwd IAT Std', 'Fwd IAT Max',\n",
    "       'Fwd IAT Min', 'Bwd IAT Total', 'Bwd IAT Mean', 'Bwd IAT Std',\n",
    "       'Bwd IAT Max', 'Bwd IAT Min', 'Fwd PSH Flags', 'Bwd PSH Flags',\n",
    "       'Fwd URG Flags', 'Bwd URG Flags', 'Fwd Header Length',\n",
    "       'Bwd Header Length', 'Fwd Packets/s', 'Bwd Packets/s',\n",
    "       'Min Packet Length', 'Max Packet Length', 'Packet Length Mean',\n",
    "       'Packet Length Std', 'Packet Length Variance', 'FIN Flag Count',\n",
    "       'SYN Flag Count', 'RST Flag Count', 'PSH Flag Count', 'ACK Flag Count',\n",
    "       'URG Flag Count', 'CWE Flag Count', 'ECE Flag Count', 'Down/Up Ratio',\n",
    "       'Average Packet Size', 'Avg Fwd Segment Size', 'Avg Bwd Segment Size',\n",
    "       'Fwd Header Length.1', 'Fwd Avg Bytes/Bulk', 'Fwd Avg Packets/Bulk',\n",
    "       'Fwd Avg Bulk Rate', 'Bwd Avg Bytes/Bulk', 'Bwd Avg Packets/Bulk',\n",
    "       'Bwd Avg Bulk Rate', 'Subflow Fwd Packets', 'Subflow Fwd Bytes',\n",
    "       'Subflow Bwd Packets', 'Subflow Bwd Bytes','Label']\n",
    "    \n",
    "    # Get only columns that exist in the data\n",
    "    valid_cols = [col for col in cols if col in data.columns]\n",
    "    if set(valid_cols) != set(cols):\n",
    "        missing = set(cols) - set(valid_cols)\n",
    "        print(f\"Warning: Missing columns: {missing}\")\n",
    "    \n",
    "    data_1 = data[valid_cols]\n",
    "    return data_1\n",
    "\n",
    "data = load_unsw_dataset()"
   ]
  },
  {
   "cell_type": "code",
   "execution_count": 8,
   "id": "582f4b20",
   "metadata": {
    "execution": {
     "iopub.execute_input": "2025-05-13T12:26:03.663300Z",
     "iopub.status.busy": "2025-05-13T12:26:03.663081Z",
     "iopub.status.idle": "2025-05-13T12:26:03.686438Z",
     "shell.execute_reply": "2025-05-13T12:26:03.685866Z"
    },
    "papermill": {
     "duration": 0.035307,
     "end_time": "2025-05-13T12:26:03.687482",
     "exception": false,
     "start_time": "2025-05-13T12:26:03.652175",
     "status": "completed"
    },
    "tags": []
   },
   "outputs": [
    {
     "data": {
      "text/html": [
       "<div>\n",
       "<style scoped>\n",
       "    .dataframe tbody tr th:only-of-type {\n",
       "        vertical-align: middle;\n",
       "    }\n",
       "\n",
       "    .dataframe tbody tr th {\n",
       "        vertical-align: top;\n",
       "    }\n",
       "\n",
       "    .dataframe thead th {\n",
       "        text-align: right;\n",
       "    }\n",
       "</style>\n",
       "<table border=\"1\" class=\"dataframe\">\n",
       "  <thead>\n",
       "    <tr style=\"text-align: right;\">\n",
       "      <th></th>\n",
       "      <th>Destination Port</th>\n",
       "      <th>Flow Duration</th>\n",
       "      <th>Total Fwd Packets</th>\n",
       "      <th>Total Backward Packets</th>\n",
       "      <th>Total Length of Fwd Packets</th>\n",
       "      <th>Total Length of Bwd Packets</th>\n",
       "      <th>Fwd Packet Length Max</th>\n",
       "      <th>Fwd Packet Length Min</th>\n",
       "      <th>Fwd Packet Length Mean</th>\n",
       "      <th>Fwd Packet Length Std</th>\n",
       "      <th>...</th>\n",
       "      <th>Fwd Avg Packets/Bulk</th>\n",
       "      <th>Fwd Avg Bulk Rate</th>\n",
       "      <th>Bwd Avg Bytes/Bulk</th>\n",
       "      <th>Bwd Avg Packets/Bulk</th>\n",
       "      <th>Bwd Avg Bulk Rate</th>\n",
       "      <th>Subflow Fwd Packets</th>\n",
       "      <th>Subflow Fwd Bytes</th>\n",
       "      <th>Subflow Bwd Packets</th>\n",
       "      <th>Subflow Bwd Bytes</th>\n",
       "      <th>Label</th>\n",
       "    </tr>\n",
       "  </thead>\n",
       "  <tbody>\n",
       "    <tr>\n",
       "      <th>0</th>\n",
       "      <td>80</td>\n",
       "      <td>38308</td>\n",
       "      <td>1</td>\n",
       "      <td>1</td>\n",
       "      <td>6</td>\n",
       "      <td>6</td>\n",
       "      <td>6</td>\n",
       "      <td>6</td>\n",
       "      <td>6.000000</td>\n",
       "      <td>0.000000</td>\n",
       "      <td>...</td>\n",
       "      <td>0</td>\n",
       "      <td>0</td>\n",
       "      <td>0</td>\n",
       "      <td>0</td>\n",
       "      <td>0</td>\n",
       "      <td>1</td>\n",
       "      <td>6</td>\n",
       "      <td>1</td>\n",
       "      <td>6</td>\n",
       "      <td>BENIGN</td>\n",
       "    </tr>\n",
       "    <tr>\n",
       "      <th>1</th>\n",
       "      <td>389</td>\n",
       "      <td>479</td>\n",
       "      <td>11</td>\n",
       "      <td>5</td>\n",
       "      <td>172</td>\n",
       "      <td>326</td>\n",
       "      <td>79</td>\n",
       "      <td>0</td>\n",
       "      <td>15.636364</td>\n",
       "      <td>31.449238</td>\n",
       "      <td>...</td>\n",
       "      <td>0</td>\n",
       "      <td>0</td>\n",
       "      <td>0</td>\n",
       "      <td>0</td>\n",
       "      <td>0</td>\n",
       "      <td>11</td>\n",
       "      <td>172</td>\n",
       "      <td>5</td>\n",
       "      <td>326</td>\n",
       "      <td>BENIGN</td>\n",
       "    </tr>\n",
       "    <tr>\n",
       "      <th>2</th>\n",
       "      <td>88</td>\n",
       "      <td>1095</td>\n",
       "      <td>10</td>\n",
       "      <td>6</td>\n",
       "      <td>3150</td>\n",
       "      <td>3150</td>\n",
       "      <td>1575</td>\n",
       "      <td>0</td>\n",
       "      <td>315.000000</td>\n",
       "      <td>632.561635</td>\n",
       "      <td>...</td>\n",
       "      <td>0</td>\n",
       "      <td>0</td>\n",
       "      <td>0</td>\n",
       "      <td>0</td>\n",
       "      <td>0</td>\n",
       "      <td>10</td>\n",
       "      <td>3150</td>\n",
       "      <td>6</td>\n",
       "      <td>3150</td>\n",
       "      <td>BENIGN</td>\n",
       "    </tr>\n",
       "    <tr>\n",
       "      <th>3</th>\n",
       "      <td>389</td>\n",
       "      <td>15206</td>\n",
       "      <td>17</td>\n",
       "      <td>12</td>\n",
       "      <td>3452</td>\n",
       "      <td>6660</td>\n",
       "      <td>1313</td>\n",
       "      <td>0</td>\n",
       "      <td>203.058823</td>\n",
       "      <td>425.778474</td>\n",
       "      <td>...</td>\n",
       "      <td>0</td>\n",
       "      <td>0</td>\n",
       "      <td>0</td>\n",
       "      <td>0</td>\n",
       "      <td>0</td>\n",
       "      <td>17</td>\n",
       "      <td>3452</td>\n",
       "      <td>12</td>\n",
       "      <td>6660</td>\n",
       "      <td>BENIGN</td>\n",
       "    </tr>\n",
       "    <tr>\n",
       "      <th>4</th>\n",
       "      <td>88</td>\n",
       "      <td>1092</td>\n",
       "      <td>9</td>\n",
       "      <td>6</td>\n",
       "      <td>3150</td>\n",
       "      <td>3152</td>\n",
       "      <td>1575</td>\n",
       "      <td>0</td>\n",
       "      <td>350.000000</td>\n",
       "      <td>694.509719</td>\n",
       "      <td>...</td>\n",
       "      <td>0</td>\n",
       "      <td>0</td>\n",
       "      <td>0</td>\n",
       "      <td>0</td>\n",
       "      <td>0</td>\n",
       "      <td>9</td>\n",
       "      <td>3150</td>\n",
       "      <td>6</td>\n",
       "      <td>3152</td>\n",
       "      <td>BENIGN</td>\n",
       "    </tr>\n",
       "  </tbody>\n",
       "</table>\n",
       "<p>5 rows × 67 columns</p>\n",
       "</div>"
      ],
      "text/plain": [
       "   Destination Port  Flow Duration  Total Fwd Packets  Total Backward Packets  \\\n",
       "0                80          38308                  1                       1   \n",
       "1               389            479                 11                       5   \n",
       "2                88           1095                 10                       6   \n",
       "3               389          15206                 17                      12   \n",
       "4                88           1092                  9                       6   \n",
       "\n",
       "   Total Length of Fwd Packets  Total Length of Bwd Packets  \\\n",
       "0                            6                            6   \n",
       "1                          172                          326   \n",
       "2                         3150                         3150   \n",
       "3                         3452                         6660   \n",
       "4                         3150                         3152   \n",
       "\n",
       "   Fwd Packet Length Max  Fwd Packet Length Min  Fwd Packet Length Mean  \\\n",
       "0                      6                      6                6.000000   \n",
       "1                     79                      0               15.636364   \n",
       "2                   1575                      0              315.000000   \n",
       "3                   1313                      0              203.058823   \n",
       "4                   1575                      0              350.000000   \n",
       "\n",
       "   Fwd Packet Length Std  ...  Fwd Avg Packets/Bulk  Fwd Avg Bulk Rate  \\\n",
       "0               0.000000  ...                     0                  0   \n",
       "1              31.449238  ...                     0                  0   \n",
       "2             632.561635  ...                     0                  0   \n",
       "3             425.778474  ...                     0                  0   \n",
       "4             694.509719  ...                     0                  0   \n",
       "\n",
       "   Bwd Avg Bytes/Bulk  Bwd Avg Packets/Bulk  Bwd Avg Bulk Rate  \\\n",
       "0                   0                     0                  0   \n",
       "1                   0                     0                  0   \n",
       "2                   0                     0                  0   \n",
       "3                   0                     0                  0   \n",
       "4                   0                     0                  0   \n",
       "\n",
       "   Subflow Fwd Packets  Subflow Fwd Bytes  Subflow Bwd Packets  \\\n",
       "0                    1                  6                    1   \n",
       "1                   11                172                    5   \n",
       "2                   10               3150                    6   \n",
       "3                   17               3452                   12   \n",
       "4                    9               3150                    6   \n",
       "\n",
       "   Subflow Bwd Bytes   Label  \n",
       "0                  6  BENIGN  \n",
       "1                326  BENIGN  \n",
       "2               3150  BENIGN  \n",
       "3               6660  BENIGN  \n",
       "4               3152  BENIGN  \n",
       "\n",
       "[5 rows x 67 columns]"
      ]
     },
     "execution_count": 8,
     "metadata": {},
     "output_type": "execute_result"
    }
   ],
   "source": [
    "data.head()"
   ]
  },
  {
   "cell_type": "code",
   "execution_count": 9,
   "id": "17d0dd1e",
   "metadata": {
    "execution": {
     "iopub.execute_input": "2025-05-13T12:26:03.710185Z",
     "iopub.status.busy": "2025-05-13T12:26:03.709674Z",
     "iopub.status.idle": "2025-05-13T12:26:04.051799Z",
     "shell.execute_reply": "2025-05-13T12:26:04.050805Z"
    },
    "papermill": {
     "duration": 0.354208,
     "end_time": "2025-05-13T12:26:04.053038",
     "exception": false,
     "start_time": "2025-05-13T12:26:03.698830",
     "status": "completed"
    },
    "tags": []
   },
   "outputs": [
    {
     "name": "stdout",
     "output_type": "stream",
     "text": [
      "Destination Port 0\n",
      "Flow Duration 0\n",
      "Total Fwd Packets 0\n",
      "Total Backward Packets 0\n",
      "Total Length of Fwd Packets 0\n",
      "Total Length of Bwd Packets 0\n",
      "Fwd Packet Length Max 0\n",
      "Fwd Packet Length Min 0\n",
      "Fwd Packet Length Mean 0\n",
      "Fwd Packet Length Std 0\n",
      "Bwd Packet Length Max 0\n",
      "Bwd Packet Length Min 0\n",
      "Bwd Packet Length Mean 0\n",
      "Bwd Packet Length Std 0\n",
      "Flow Bytes/s 1153\n",
      "Flow Packets/s 0\n",
      "Flow IAT Mean 0\n",
      "Flow IAT Std 0\n",
      "Flow IAT Max 0\n",
      "Flow IAT Min 0\n",
      "Fwd IAT Total 0\n",
      "Fwd IAT Mean 0\n",
      "Fwd IAT Std 0\n",
      "Fwd IAT Max 0\n",
      "Fwd IAT Min 0\n",
      "Bwd IAT Total 0\n",
      "Bwd IAT Mean 0\n",
      "Bwd IAT Std 0\n",
      "Bwd IAT Max 0\n",
      "Bwd IAT Min 0\n",
      "Fwd PSH Flags 0\n",
      "Bwd PSH Flags 0\n",
      "Fwd URG Flags 0\n",
      "Bwd URG Flags 0\n",
      "Fwd Header Length 0\n",
      "Bwd Header Length 0\n",
      "Fwd Packets/s 0\n",
      "Bwd Packets/s 0\n",
      "Min Packet Length 0\n",
      "Max Packet Length 0\n",
      "Packet Length Mean 0\n",
      "Packet Length Std 0\n",
      "Packet Length Variance 0\n",
      "FIN Flag Count 0\n",
      "SYN Flag Count 0\n",
      "RST Flag Count 0\n",
      "PSH Flag Count 0\n",
      "ACK Flag Count 0\n",
      "URG Flag Count 0\n",
      "CWE Flag Count 0\n",
      "ECE Flag Count 0\n",
      "Down/Up Ratio 0\n",
      "Average Packet Size 0\n",
      "Avg Fwd Segment Size 0\n",
      "Avg Bwd Segment Size 0\n",
      "Fwd Header Length.1 0\n",
      "Fwd Avg Bytes/Bulk 0\n",
      "Fwd Avg Packets/Bulk 0\n",
      "Fwd Avg Bulk Rate 0\n",
      "Bwd Avg Bytes/Bulk 0\n",
      "Bwd Avg Packets/Bulk 0\n",
      "Bwd Avg Bulk Rate 0\n",
      "Subflow Fwd Packets 0\n",
      "Subflow Fwd Bytes 0\n",
      "Subflow Bwd Packets 0\n",
      "Subflow Bwd Bytes 0\n",
      "Label 0\n"
     ]
    }
   ],
   "source": [
    "for column,null_vals in data.isna().sum().items():\n",
    "    print(column,null_vals)"
   ]
  },
  {
   "cell_type": "code",
   "execution_count": 10,
   "id": "ad7f353c",
   "metadata": {
    "execution": {
     "iopub.execute_input": "2025-05-13T12:26:04.078023Z",
     "iopub.status.busy": "2025-05-13T12:26:04.077420Z",
     "iopub.status.idle": "2025-05-13T12:26:04.082166Z",
     "shell.execute_reply": "2025-05-13T12:26:04.081482Z"
    },
    "papermill": {
     "duration": 0.017451,
     "end_time": "2025-05-13T12:26:04.083283",
     "exception": false,
     "start_time": "2025-05-13T12:26:04.065832",
     "status": "completed"
    },
    "tags": []
   },
   "outputs": [
    {
     "data": {
      "text/plain": [
       "(2159089, 67)"
      ]
     },
     "execution_count": 10,
     "metadata": {},
     "output_type": "execute_result"
    }
   ],
   "source": [
    "data.shape"
   ]
  },
  {
   "cell_type": "code",
   "execution_count": 11,
   "id": "474fbf07",
   "metadata": {
    "execution": {
     "iopub.execute_input": "2025-05-13T12:26:04.105786Z",
     "iopub.status.busy": "2025-05-13T12:26:04.105511Z",
     "iopub.status.idle": "2025-05-13T12:26:05.266094Z",
     "shell.execute_reply": "2025-05-13T12:26:05.265527Z"
    },
    "papermill": {
     "duration": 1.173582,
     "end_time": "2025-05-13T12:26:05.267481",
     "exception": false,
     "start_time": "2025-05-13T12:26:04.093899",
     "status": "completed"
    },
    "tags": []
   },
   "outputs": [],
   "source": [
    "import numpy as np\n",
    "\n",
    "data.replace([np.inf, -np.inf], np.nan, inplace=True)"
   ]
  },
  {
   "cell_type": "code",
   "execution_count": 12,
   "id": "14ed139a",
   "metadata": {
    "execution": {
     "iopub.execute_input": "2025-05-13T12:26:05.291667Z",
     "iopub.status.busy": "2025-05-13T12:26:05.291089Z",
     "iopub.status.idle": "2025-05-13T12:26:06.015960Z",
     "shell.execute_reply": "2025-05-13T12:26:06.015326Z"
    },
    "papermill": {
     "duration": 0.737927,
     "end_time": "2025-05-13T12:26:06.017124",
     "exception": false,
     "start_time": "2025-05-13T12:26:05.279197",
     "status": "completed"
    },
    "tags": []
   },
   "outputs": [
    {
     "data": {
      "text/plain": [
       "(2156520, 67)"
      ]
     },
     "execution_count": 12,
     "metadata": {},
     "output_type": "execute_result"
    }
   ],
   "source": [
    "data = data.dropna()\n",
    "data.shape"
   ]
  },
  {
   "cell_type": "code",
   "execution_count": 13,
   "id": "c66a1a88",
   "metadata": {
    "execution": {
     "iopub.execute_input": "2025-05-13T12:26:06.040263Z",
     "iopub.status.busy": "2025-05-13T12:26:06.040063Z",
     "iopub.status.idle": "2025-05-13T12:26:06.568788Z",
     "shell.execute_reply": "2025-05-13T12:26:06.568206Z"
    },
    "papermill": {
     "duration": 0.541455,
     "end_time": "2025-05-13T12:26:06.570112",
     "exception": false,
     "start_time": "2025-05-13T12:26:06.028657",
     "status": "completed"
    },
    "tags": []
   },
   "outputs": [],
   "source": [
    "float_cols = data.select_dtypes(include=['float64', 'float32']).columns\n",
    "data[float_cols] = data[float_cols].round(3)"
   ]
  },
  {
   "cell_type": "code",
   "execution_count": 14,
   "id": "d07e7394",
   "metadata": {
    "execution": {
     "iopub.execute_input": "2025-05-13T12:26:06.635060Z",
     "iopub.status.busy": "2025-05-13T12:26:06.634460Z",
     "iopub.status.idle": "2025-05-13T12:26:06.774487Z",
     "shell.execute_reply": "2025-05-13T12:26:06.773938Z"
    },
    "papermill": {
     "duration": 0.193547,
     "end_time": "2025-05-13T12:26:06.775636",
     "exception": false,
     "start_time": "2025-05-13T12:26:06.582089",
     "status": "completed"
    },
    "tags": []
   },
   "outputs": [
    {
     "data": {
      "text/plain": [
       "Label\n",
       "BENIGN                        1741821\n",
       "DoS Hulk                       230124\n",
       "PortScan                       158804\n",
       "DoS GoldenEye                   10293\n",
       "DoS slowloris                    5796\n",
       "DoS Slowhttptest                 5499\n",
       "Bot                              1956\n",
       "Web Attack   Brute Force         1507\n",
       "Web Attack   XSS                  652\n",
       "Infiltration                       36\n",
       "Web Attack   Sql Injection         21\n",
       "Heartbleed                         11\n",
       "Name: count, dtype: int64"
      ]
     },
     "execution_count": 14,
     "metadata": {},
     "output_type": "execute_result"
    }
   ],
   "source": [
    "data['Label'].value_counts()"
   ]
  },
  {
   "cell_type": "code",
   "execution_count": 15,
   "id": "5a95714d",
   "metadata": {
    "execution": {
     "iopub.execute_input": "2025-05-13T12:26:06.798773Z",
     "iopub.status.busy": "2025-05-13T12:26:06.798562Z",
     "iopub.status.idle": "2025-05-13T12:26:08.946784Z",
     "shell.execute_reply": "2025-05-13T12:26:08.946186Z"
    },
    "papermill": {
     "duration": 2.161114,
     "end_time": "2025-05-13T12:26:08.948226",
     "exception": false,
     "start_time": "2025-05-13T12:26:06.787112",
     "status": "completed"
    },
    "tags": []
   },
   "outputs": [],
   "source": [
    "from imblearn.over_sampling import SMOTE\n",
    "from sklearn.model_selection import train_test_split\n",
    "\n",
    "X = data.drop(columns = [\"Label\"],axis = 1)\n",
    "y = data[\"Label\"]"
   ]
  },
  {
   "cell_type": "code",
   "execution_count": 16,
   "id": "93678040",
   "metadata": {
    "execution": {
     "iopub.execute_input": "2025-05-13T12:26:08.971284Z",
     "iopub.status.busy": "2025-05-13T12:26:08.970684Z",
     "iopub.status.idle": "2025-05-13T12:26:12.579679Z",
     "shell.execute_reply": "2025-05-13T12:26:12.579018Z"
    },
    "papermill": {
     "duration": 3.621605,
     "end_time": "2025-05-13T12:26:12.581037",
     "exception": false,
     "start_time": "2025-05-13T12:26:08.959432",
     "status": "completed"
    },
    "tags": []
   },
   "outputs": [],
   "source": [
    "X_train, X_test, y_train, y_test = train_test_split(X, y, stratify=y, random_state=42)"
   ]
  },
  {
   "cell_type": "code",
   "execution_count": 17,
   "id": "75ea2fde",
   "metadata": {
    "execution": {
     "iopub.execute_input": "2025-05-13T12:26:12.603990Z",
     "iopub.status.busy": "2025-05-13T12:26:12.603487Z",
     "iopub.status.idle": "2025-05-13T12:26:12.681965Z",
     "shell.execute_reply": "2025-05-13T12:26:12.681356Z"
    },
    "papermill": {
     "duration": 0.091009,
     "end_time": "2025-05-13T12:26:12.683079",
     "exception": false,
     "start_time": "2025-05-13T12:26:12.592070",
     "status": "completed"
    },
    "tags": []
   },
   "outputs": [
    {
     "data": {
      "text/plain": [
       "0"
      ]
     },
     "execution_count": 17,
     "metadata": {},
     "output_type": "execute_result"
    }
   ],
   "source": [
    "del X,y\n",
    "gc.collect()"
   ]
  },
  {
   "cell_type": "code",
   "execution_count": 18,
   "id": "b2f71d18",
   "metadata": {
    "execution": {
     "iopub.execute_input": "2025-05-13T12:26:12.705752Z",
     "iopub.status.busy": "2025-05-13T12:26:12.705569Z",
     "iopub.status.idle": "2025-05-13T12:29:27.864512Z",
     "shell.execute_reply": "2025-05-13T12:29:27.863669Z"
    },
    "papermill": {
     "duration": 195.17195,
     "end_time": "2025-05-13T12:29:27.866132",
     "exception": false,
     "start_time": "2025-05-13T12:26:12.694182",
     "status": "completed"
    },
    "tags": []
   },
   "outputs": [],
   "source": [
    "smote = SMOTE(random_state=42)\n",
    "X_resampled, y_resampled = smote.fit_resample(X_train, y_train)"
   ]
  },
  {
   "cell_type": "code",
   "execution_count": 19,
   "id": "2f71ea18",
   "metadata": {
    "execution": {
     "iopub.execute_input": "2025-05-13T12:29:27.889741Z",
     "iopub.status.busy": "2025-05-13T12:29:27.889467Z",
     "iopub.status.idle": "2025-05-13T12:29:27.972375Z",
     "shell.execute_reply": "2025-05-13T12:29:27.971803Z"
    },
    "papermill": {
     "duration": 0.095574,
     "end_time": "2025-05-13T12:29:27.973465",
     "exception": false,
     "start_time": "2025-05-13T12:29:27.877891",
     "status": "completed"
    },
    "tags": []
   },
   "outputs": [
    {
     "data": {
      "text/plain": [
       "0"
      ]
     },
     "execution_count": 19,
     "metadata": {},
     "output_type": "execute_result"
    }
   ],
   "source": [
    "del smote,X_train,y_train\n",
    "gc.collect()"
   ]
  },
  {
   "cell_type": "code",
   "execution_count": 20,
   "id": "d40ccaf4",
   "metadata": {
    "execution": {
     "iopub.execute_input": "2025-05-13T12:29:27.996298Z",
     "iopub.status.busy": "2025-05-13T12:29:27.995774Z",
     "iopub.status.idle": "2025-05-13T12:29:27.999396Z",
     "shell.execute_reply": "2025-05-13T12:29:27.998852Z"
    },
    "papermill": {
     "duration": 0.015887,
     "end_time": "2025-05-13T12:29:28.000375",
     "exception": false,
     "start_time": "2025-05-13T12:29:27.984488",
     "status": "completed"
    },
    "tags": []
   },
   "outputs": [],
   "source": [
    "import pandas as pd\n",
    "import numpy as np\n",
    "import pickle\n",
    "import os\n",
    "\n",
    "from sklearn.model_selection import train_test_split\n",
    "from sklearn.preprocessing import LabelEncoder, StandardScaler\n",
    "from sklearn.metrics import accuracy_score, classification_report\n",
    "from sklearn.ensemble import RandomForestClassifier"
   ]
  },
  {
   "cell_type": "code",
   "execution_count": 21,
   "id": "cc6d168c",
   "metadata": {
    "execution": {
     "iopub.execute_input": "2025-05-13T12:29:28.022303Z",
     "iopub.status.busy": "2025-05-13T12:29:28.022127Z",
     "iopub.status.idle": "2025-05-13T12:29:30.447052Z",
     "shell.execute_reply": "2025-05-13T12:29:30.446458Z"
    },
    "papermill": {
     "duration": 2.437297,
     "end_time": "2025-05-13T12:29:30.448257",
     "exception": false,
     "start_time": "2025-05-13T12:29:28.010960",
     "status": "completed"
    },
    "tags": []
   },
   "outputs": [],
   "source": [
    "le = LabelEncoder()\n",
    "y_train = le.fit_transform(y_resampled)"
   ]
  },
  {
   "cell_type": "code",
   "execution_count": 22,
   "id": "1977c49a",
   "metadata": {
    "execution": {
     "iopub.execute_input": "2025-05-13T12:29:30.471376Z",
     "iopub.status.busy": "2025-05-13T12:29:30.471173Z",
     "iopub.status.idle": "2025-05-13T12:29:30.539661Z",
     "shell.execute_reply": "2025-05-13T12:29:30.539134Z"
    },
    "papermill": {
     "duration": 0.080899,
     "end_time": "2025-05-13T12:29:30.540686",
     "exception": false,
     "start_time": "2025-05-13T12:29:30.459787",
     "status": "completed"
    },
    "tags": []
   },
   "outputs": [],
   "source": [
    "y_test = le.transform(y_test)"
   ]
  },
  {
   "cell_type": "code",
   "execution_count": 23,
   "id": "ea369e99",
   "metadata": {
    "execution": {
     "iopub.execute_input": "2025-05-13T12:29:30.563185Z",
     "iopub.status.busy": "2025-05-13T12:29:30.562986Z",
     "iopub.status.idle": "2025-05-13T12:29:30.566872Z",
     "shell.execute_reply": "2025-05-13T12:29:30.566127Z"
    },
    "papermill": {
     "duration": 0.016364,
     "end_time": "2025-05-13T12:29:30.567926",
     "exception": false,
     "start_time": "2025-05-13T12:29:30.551562",
     "status": "completed"
    },
    "tags": []
   },
   "outputs": [
    {
     "name": "stdout",
     "output_type": "stream",
     "text": [
      "BENIGN → 0\n",
      "Bot → 1\n",
      "DoS GoldenEye → 2\n",
      "DoS Hulk → 3\n",
      "DoS Slowhttptest → 4\n",
      "DoS slowloris → 5\n",
      "Heartbleed → 6\n",
      "Infiltration → 7\n",
      "PortScan → 8\n",
      "Web Attack   Brute Force → 9\n",
      "Web Attack   Sql Injection → 10\n",
      "Web Attack   XSS → 11\n"
     ]
    }
   ],
   "source": [
    "# Print the mapping\n",
    "for i, label in enumerate(le.classes_):\n",
    "    print(f\"{label} → {i}\")"
   ]
  },
  {
   "cell_type": "code",
   "execution_count": 24,
   "id": "e704d63e",
   "metadata": {
    "execution": {
     "iopub.execute_input": "2025-05-13T12:29:30.591587Z",
     "iopub.status.busy": "2025-05-13T12:29:30.591345Z",
     "iopub.status.idle": "2025-05-13T12:29:53.695128Z",
     "shell.execute_reply": "2025-05-13T12:29:53.694438Z"
    },
    "papermill": {
     "duration": 23.117623,
     "end_time": "2025-05-13T12:29:53.696570",
     "exception": false,
     "start_time": "2025-05-13T12:29:30.578947",
     "status": "completed"
    },
    "tags": []
   },
   "outputs": [],
   "source": [
    "scaler = StandardScaler()\n",
    "X_train = scaler.fit_transform(X_resampled)"
   ]
  },
  {
   "cell_type": "code",
   "execution_count": 25,
   "id": "a81a7081",
   "metadata": {
    "execution": {
     "iopub.execute_input": "2025-05-13T12:29:53.720156Z",
     "iopub.status.busy": "2025-05-13T12:29:53.719612Z",
     "iopub.status.idle": "2025-05-13T12:29:54.113604Z",
     "shell.execute_reply": "2025-05-13T12:29:54.112954Z"
    },
    "papermill": {
     "duration": 0.406625,
     "end_time": "2025-05-13T12:29:54.114741",
     "exception": false,
     "start_time": "2025-05-13T12:29:53.708116",
     "status": "completed"
    },
    "tags": []
   },
   "outputs": [
    {
     "data": {
      "text/plain": [
       "0"
      ]
     },
     "execution_count": 25,
     "metadata": {},
     "output_type": "execute_result"
    }
   ],
   "source": [
    "del X_resampled,y_resampled\n",
    "gc.collect()"
   ]
  },
  {
   "cell_type": "code",
   "execution_count": 26,
   "id": "03cb7f89",
   "metadata": {
    "execution": {
     "iopub.execute_input": "2025-05-13T12:29:54.138057Z",
     "iopub.status.busy": "2025-05-13T12:29:54.137476Z",
     "iopub.status.idle": "2025-05-13T13:14:45.779547Z",
     "shell.execute_reply": "2025-05-13T13:14:45.778822Z"
    },
    "papermill": {
     "duration": 2691.667659,
     "end_time": "2025-05-13T13:14:45.793723",
     "exception": false,
     "start_time": "2025-05-13T12:29:54.126064",
     "status": "completed"
    },
    "tags": []
   },
   "outputs": [
    {
     "data": {
      "text/html": [
       "<style>#sk-container-id-1 {\n",
       "  /* Definition of color scheme common for light and dark mode */\n",
       "  --sklearn-color-text: #000;\n",
       "  --sklearn-color-text-muted: #666;\n",
       "  --sklearn-color-line: gray;\n",
       "  /* Definition of color scheme for unfitted estimators */\n",
       "  --sklearn-color-unfitted-level-0: #fff5e6;\n",
       "  --sklearn-color-unfitted-level-1: #f6e4d2;\n",
       "  --sklearn-color-unfitted-level-2: #ffe0b3;\n",
       "  --sklearn-color-unfitted-level-3: chocolate;\n",
       "  /* Definition of color scheme for fitted estimators */\n",
       "  --sklearn-color-fitted-level-0: #f0f8ff;\n",
       "  --sklearn-color-fitted-level-1: #d4ebff;\n",
       "  --sklearn-color-fitted-level-2: #b3dbfd;\n",
       "  --sklearn-color-fitted-level-3: cornflowerblue;\n",
       "\n",
       "  /* Specific color for light theme */\n",
       "  --sklearn-color-text-on-default-background: var(--sg-text-color, var(--theme-code-foreground, var(--jp-content-font-color1, black)));\n",
       "  --sklearn-color-background: var(--sg-background-color, var(--theme-background, var(--jp-layout-color0, white)));\n",
       "  --sklearn-color-border-box: var(--sg-text-color, var(--theme-code-foreground, var(--jp-content-font-color1, black)));\n",
       "  --sklearn-color-icon: #696969;\n",
       "\n",
       "  @media (prefers-color-scheme: dark) {\n",
       "    /* Redefinition of color scheme for dark theme */\n",
       "    --sklearn-color-text-on-default-background: var(--sg-text-color, var(--theme-code-foreground, var(--jp-content-font-color1, white)));\n",
       "    --sklearn-color-background: var(--sg-background-color, var(--theme-background, var(--jp-layout-color0, #111)));\n",
       "    --sklearn-color-border-box: var(--sg-text-color, var(--theme-code-foreground, var(--jp-content-font-color1, white)));\n",
       "    --sklearn-color-icon: #878787;\n",
       "  }\n",
       "}\n",
       "\n",
       "#sk-container-id-1 {\n",
       "  color: var(--sklearn-color-text);\n",
       "}\n",
       "\n",
       "#sk-container-id-1 pre {\n",
       "  padding: 0;\n",
       "}\n",
       "\n",
       "#sk-container-id-1 input.sk-hidden--visually {\n",
       "  border: 0;\n",
       "  clip: rect(1px 1px 1px 1px);\n",
       "  clip: rect(1px, 1px, 1px, 1px);\n",
       "  height: 1px;\n",
       "  margin: -1px;\n",
       "  overflow: hidden;\n",
       "  padding: 0;\n",
       "  position: absolute;\n",
       "  width: 1px;\n",
       "}\n",
       "\n",
       "#sk-container-id-1 div.sk-dashed-wrapped {\n",
       "  border: 1px dashed var(--sklearn-color-line);\n",
       "  margin: 0 0.4em 0.5em 0.4em;\n",
       "  box-sizing: border-box;\n",
       "  padding-bottom: 0.4em;\n",
       "  background-color: var(--sklearn-color-background);\n",
       "}\n",
       "\n",
       "#sk-container-id-1 div.sk-container {\n",
       "  /* jupyter's `normalize.less` sets `[hidden] { display: none; }`\n",
       "     but bootstrap.min.css set `[hidden] { display: none !important; }`\n",
       "     so we also need the `!important` here to be able to override the\n",
       "     default hidden behavior on the sphinx rendered scikit-learn.org.\n",
       "     See: https://github.com/scikit-learn/scikit-learn/issues/21755 */\n",
       "  display: inline-block !important;\n",
       "  position: relative;\n",
       "}\n",
       "\n",
       "#sk-container-id-1 div.sk-text-repr-fallback {\n",
       "  display: none;\n",
       "}\n",
       "\n",
       "div.sk-parallel-item,\n",
       "div.sk-serial,\n",
       "div.sk-item {\n",
       "  /* draw centered vertical line to link estimators */\n",
       "  background-image: linear-gradient(var(--sklearn-color-text-on-default-background), var(--sklearn-color-text-on-default-background));\n",
       "  background-size: 2px 100%;\n",
       "  background-repeat: no-repeat;\n",
       "  background-position: center center;\n",
       "}\n",
       "\n",
       "/* Parallel-specific style estimator block */\n",
       "\n",
       "#sk-container-id-1 div.sk-parallel-item::after {\n",
       "  content: \"\";\n",
       "  width: 100%;\n",
       "  border-bottom: 2px solid var(--sklearn-color-text-on-default-background);\n",
       "  flex-grow: 1;\n",
       "}\n",
       "\n",
       "#sk-container-id-1 div.sk-parallel {\n",
       "  display: flex;\n",
       "  align-items: stretch;\n",
       "  justify-content: center;\n",
       "  background-color: var(--sklearn-color-background);\n",
       "  position: relative;\n",
       "}\n",
       "\n",
       "#sk-container-id-1 div.sk-parallel-item {\n",
       "  display: flex;\n",
       "  flex-direction: column;\n",
       "}\n",
       "\n",
       "#sk-container-id-1 div.sk-parallel-item:first-child::after {\n",
       "  align-self: flex-end;\n",
       "  width: 50%;\n",
       "}\n",
       "\n",
       "#sk-container-id-1 div.sk-parallel-item:last-child::after {\n",
       "  align-self: flex-start;\n",
       "  width: 50%;\n",
       "}\n",
       "\n",
       "#sk-container-id-1 div.sk-parallel-item:only-child::after {\n",
       "  width: 0;\n",
       "}\n",
       "\n",
       "/* Serial-specific style estimator block */\n",
       "\n",
       "#sk-container-id-1 div.sk-serial {\n",
       "  display: flex;\n",
       "  flex-direction: column;\n",
       "  align-items: center;\n",
       "  background-color: var(--sklearn-color-background);\n",
       "  padding-right: 1em;\n",
       "  padding-left: 1em;\n",
       "}\n",
       "\n",
       "\n",
       "/* Toggleable style: style used for estimator/Pipeline/ColumnTransformer box that is\n",
       "clickable and can be expanded/collapsed.\n",
       "- Pipeline and ColumnTransformer use this feature and define the default style\n",
       "- Estimators will overwrite some part of the style using the `sk-estimator` class\n",
       "*/\n",
       "\n",
       "/* Pipeline and ColumnTransformer style (default) */\n",
       "\n",
       "#sk-container-id-1 div.sk-toggleable {\n",
       "  /* Default theme specific background. It is overwritten whether we have a\n",
       "  specific estimator or a Pipeline/ColumnTransformer */\n",
       "  background-color: var(--sklearn-color-background);\n",
       "}\n",
       "\n",
       "/* Toggleable label */\n",
       "#sk-container-id-1 label.sk-toggleable__label {\n",
       "  cursor: pointer;\n",
       "  display: flex;\n",
       "  width: 100%;\n",
       "  margin-bottom: 0;\n",
       "  padding: 0.5em;\n",
       "  box-sizing: border-box;\n",
       "  text-align: center;\n",
       "  align-items: start;\n",
       "  justify-content: space-between;\n",
       "  gap: 0.5em;\n",
       "}\n",
       "\n",
       "#sk-container-id-1 label.sk-toggleable__label .caption {\n",
       "  font-size: 0.6rem;\n",
       "  font-weight: lighter;\n",
       "  color: var(--sklearn-color-text-muted);\n",
       "}\n",
       "\n",
       "#sk-container-id-1 label.sk-toggleable__label-arrow:before {\n",
       "  /* Arrow on the left of the label */\n",
       "  content: \"▸\";\n",
       "  float: left;\n",
       "  margin-right: 0.25em;\n",
       "  color: var(--sklearn-color-icon);\n",
       "}\n",
       "\n",
       "#sk-container-id-1 label.sk-toggleable__label-arrow:hover:before {\n",
       "  color: var(--sklearn-color-text);\n",
       "}\n",
       "\n",
       "/* Toggleable content - dropdown */\n",
       "\n",
       "#sk-container-id-1 div.sk-toggleable__content {\n",
       "  max-height: 0;\n",
       "  max-width: 0;\n",
       "  overflow: hidden;\n",
       "  text-align: left;\n",
       "  /* unfitted */\n",
       "  background-color: var(--sklearn-color-unfitted-level-0);\n",
       "}\n",
       "\n",
       "#sk-container-id-1 div.sk-toggleable__content.fitted {\n",
       "  /* fitted */\n",
       "  background-color: var(--sklearn-color-fitted-level-0);\n",
       "}\n",
       "\n",
       "#sk-container-id-1 div.sk-toggleable__content pre {\n",
       "  margin: 0.2em;\n",
       "  border-radius: 0.25em;\n",
       "  color: var(--sklearn-color-text);\n",
       "  /* unfitted */\n",
       "  background-color: var(--sklearn-color-unfitted-level-0);\n",
       "}\n",
       "\n",
       "#sk-container-id-1 div.sk-toggleable__content.fitted pre {\n",
       "  /* unfitted */\n",
       "  background-color: var(--sklearn-color-fitted-level-0);\n",
       "}\n",
       "\n",
       "#sk-container-id-1 input.sk-toggleable__control:checked~div.sk-toggleable__content {\n",
       "  /* Expand drop-down */\n",
       "  max-height: 200px;\n",
       "  max-width: 100%;\n",
       "  overflow: auto;\n",
       "}\n",
       "\n",
       "#sk-container-id-1 input.sk-toggleable__control:checked~label.sk-toggleable__label-arrow:before {\n",
       "  content: \"▾\";\n",
       "}\n",
       "\n",
       "/* Pipeline/ColumnTransformer-specific style */\n",
       "\n",
       "#sk-container-id-1 div.sk-label input.sk-toggleable__control:checked~label.sk-toggleable__label {\n",
       "  color: var(--sklearn-color-text);\n",
       "  background-color: var(--sklearn-color-unfitted-level-2);\n",
       "}\n",
       "\n",
       "#sk-container-id-1 div.sk-label.fitted input.sk-toggleable__control:checked~label.sk-toggleable__label {\n",
       "  background-color: var(--sklearn-color-fitted-level-2);\n",
       "}\n",
       "\n",
       "/* Estimator-specific style */\n",
       "\n",
       "/* Colorize estimator box */\n",
       "#sk-container-id-1 div.sk-estimator input.sk-toggleable__control:checked~label.sk-toggleable__label {\n",
       "  /* unfitted */\n",
       "  background-color: var(--sklearn-color-unfitted-level-2);\n",
       "}\n",
       "\n",
       "#sk-container-id-1 div.sk-estimator.fitted input.sk-toggleable__control:checked~label.sk-toggleable__label {\n",
       "  /* fitted */\n",
       "  background-color: var(--sklearn-color-fitted-level-2);\n",
       "}\n",
       "\n",
       "#sk-container-id-1 div.sk-label label.sk-toggleable__label,\n",
       "#sk-container-id-1 div.sk-label label {\n",
       "  /* The background is the default theme color */\n",
       "  color: var(--sklearn-color-text-on-default-background);\n",
       "}\n",
       "\n",
       "/* On hover, darken the color of the background */\n",
       "#sk-container-id-1 div.sk-label:hover label.sk-toggleable__label {\n",
       "  color: var(--sklearn-color-text);\n",
       "  background-color: var(--sklearn-color-unfitted-level-2);\n",
       "}\n",
       "\n",
       "/* Label box, darken color on hover, fitted */\n",
       "#sk-container-id-1 div.sk-label.fitted:hover label.sk-toggleable__label.fitted {\n",
       "  color: var(--sklearn-color-text);\n",
       "  background-color: var(--sklearn-color-fitted-level-2);\n",
       "}\n",
       "\n",
       "/* Estimator label */\n",
       "\n",
       "#sk-container-id-1 div.sk-label label {\n",
       "  font-family: monospace;\n",
       "  font-weight: bold;\n",
       "  display: inline-block;\n",
       "  line-height: 1.2em;\n",
       "}\n",
       "\n",
       "#sk-container-id-1 div.sk-label-container {\n",
       "  text-align: center;\n",
       "}\n",
       "\n",
       "/* Estimator-specific */\n",
       "#sk-container-id-1 div.sk-estimator {\n",
       "  font-family: monospace;\n",
       "  border: 1px dotted var(--sklearn-color-border-box);\n",
       "  border-radius: 0.25em;\n",
       "  box-sizing: border-box;\n",
       "  margin-bottom: 0.5em;\n",
       "  /* unfitted */\n",
       "  background-color: var(--sklearn-color-unfitted-level-0);\n",
       "}\n",
       "\n",
       "#sk-container-id-1 div.sk-estimator.fitted {\n",
       "  /* fitted */\n",
       "  background-color: var(--sklearn-color-fitted-level-0);\n",
       "}\n",
       "\n",
       "/* on hover */\n",
       "#sk-container-id-1 div.sk-estimator:hover {\n",
       "  /* unfitted */\n",
       "  background-color: var(--sklearn-color-unfitted-level-2);\n",
       "}\n",
       "\n",
       "#sk-container-id-1 div.sk-estimator.fitted:hover {\n",
       "  /* fitted */\n",
       "  background-color: var(--sklearn-color-fitted-level-2);\n",
       "}\n",
       "\n",
       "/* Specification for estimator info (e.g. \"i\" and \"?\") */\n",
       "\n",
       "/* Common style for \"i\" and \"?\" */\n",
       "\n",
       ".sk-estimator-doc-link,\n",
       "a:link.sk-estimator-doc-link,\n",
       "a:visited.sk-estimator-doc-link {\n",
       "  float: right;\n",
       "  font-size: smaller;\n",
       "  line-height: 1em;\n",
       "  font-family: monospace;\n",
       "  background-color: var(--sklearn-color-background);\n",
       "  border-radius: 1em;\n",
       "  height: 1em;\n",
       "  width: 1em;\n",
       "  text-decoration: none !important;\n",
       "  margin-left: 0.5em;\n",
       "  text-align: center;\n",
       "  /* unfitted */\n",
       "  border: var(--sklearn-color-unfitted-level-1) 1pt solid;\n",
       "  color: var(--sklearn-color-unfitted-level-1);\n",
       "}\n",
       "\n",
       ".sk-estimator-doc-link.fitted,\n",
       "a:link.sk-estimator-doc-link.fitted,\n",
       "a:visited.sk-estimator-doc-link.fitted {\n",
       "  /* fitted */\n",
       "  border: var(--sklearn-color-fitted-level-1) 1pt solid;\n",
       "  color: var(--sklearn-color-fitted-level-1);\n",
       "}\n",
       "\n",
       "/* On hover */\n",
       "div.sk-estimator:hover .sk-estimator-doc-link:hover,\n",
       ".sk-estimator-doc-link:hover,\n",
       "div.sk-label-container:hover .sk-estimator-doc-link:hover,\n",
       ".sk-estimator-doc-link:hover {\n",
       "  /* unfitted */\n",
       "  background-color: var(--sklearn-color-unfitted-level-3);\n",
       "  color: var(--sklearn-color-background);\n",
       "  text-decoration: none;\n",
       "}\n",
       "\n",
       "div.sk-estimator.fitted:hover .sk-estimator-doc-link.fitted:hover,\n",
       ".sk-estimator-doc-link.fitted:hover,\n",
       "div.sk-label-container:hover .sk-estimator-doc-link.fitted:hover,\n",
       ".sk-estimator-doc-link.fitted:hover {\n",
       "  /* fitted */\n",
       "  background-color: var(--sklearn-color-fitted-level-3);\n",
       "  color: var(--sklearn-color-background);\n",
       "  text-decoration: none;\n",
       "}\n",
       "\n",
       "/* Span, style for the box shown on hovering the info icon */\n",
       ".sk-estimator-doc-link span {\n",
       "  display: none;\n",
       "  z-index: 9999;\n",
       "  position: relative;\n",
       "  font-weight: normal;\n",
       "  right: .2ex;\n",
       "  padding: .5ex;\n",
       "  margin: .5ex;\n",
       "  width: min-content;\n",
       "  min-width: 20ex;\n",
       "  max-width: 50ex;\n",
       "  color: var(--sklearn-color-text);\n",
       "  box-shadow: 2pt 2pt 4pt #999;\n",
       "  /* unfitted */\n",
       "  background: var(--sklearn-color-unfitted-level-0);\n",
       "  border: .5pt solid var(--sklearn-color-unfitted-level-3);\n",
       "}\n",
       "\n",
       ".sk-estimator-doc-link.fitted span {\n",
       "  /* fitted */\n",
       "  background: var(--sklearn-color-fitted-level-0);\n",
       "  border: var(--sklearn-color-fitted-level-3);\n",
       "}\n",
       "\n",
       ".sk-estimator-doc-link:hover span {\n",
       "  display: block;\n",
       "}\n",
       "\n",
       "/* \"?\"-specific style due to the `<a>` HTML tag */\n",
       "\n",
       "#sk-container-id-1 a.estimator_doc_link {\n",
       "  float: right;\n",
       "  font-size: 1rem;\n",
       "  line-height: 1em;\n",
       "  font-family: monospace;\n",
       "  background-color: var(--sklearn-color-background);\n",
       "  border-radius: 1rem;\n",
       "  height: 1rem;\n",
       "  width: 1rem;\n",
       "  text-decoration: none;\n",
       "  /* unfitted */\n",
       "  color: var(--sklearn-color-unfitted-level-1);\n",
       "  border: var(--sklearn-color-unfitted-level-1) 1pt solid;\n",
       "}\n",
       "\n",
       "#sk-container-id-1 a.estimator_doc_link.fitted {\n",
       "  /* fitted */\n",
       "  border: var(--sklearn-color-fitted-level-1) 1pt solid;\n",
       "  color: var(--sklearn-color-fitted-level-1);\n",
       "}\n",
       "\n",
       "/* On hover */\n",
       "#sk-container-id-1 a.estimator_doc_link:hover {\n",
       "  /* unfitted */\n",
       "  background-color: var(--sklearn-color-unfitted-level-3);\n",
       "  color: var(--sklearn-color-background);\n",
       "  text-decoration: none;\n",
       "}\n",
       "\n",
       "#sk-container-id-1 a.estimator_doc_link.fitted:hover {\n",
       "  /* fitted */\n",
       "  background-color: var(--sklearn-color-fitted-level-3);\n",
       "}\n",
       "</style><div id=\"sk-container-id-1\" class=\"sk-top-container\"><div class=\"sk-text-repr-fallback\"><pre>RandomForestClassifier(n_jobs=-1, random_state=42)</pre><b>In a Jupyter environment, please rerun this cell to show the HTML representation or trust the notebook. <br />On GitHub, the HTML representation is unable to render, please try loading this page with nbviewer.org.</b></div><div class=\"sk-container\" hidden><div class=\"sk-item\"><div class=\"sk-estimator fitted sk-toggleable\"><input class=\"sk-toggleable__control sk-hidden--visually\" id=\"sk-estimator-id-1\" type=\"checkbox\" checked><label for=\"sk-estimator-id-1\" class=\"sk-toggleable__label fitted sk-toggleable__label-arrow\"><div><div>RandomForestClassifier</div></div><div><a class=\"sk-estimator-doc-link fitted\" rel=\"noreferrer\" target=\"_blank\" href=\"https://scikit-learn.org/1.6/modules/generated/sklearn.ensemble.RandomForestClassifier.html\">?<span>Documentation for RandomForestClassifier</span></a><span class=\"sk-estimator-doc-link fitted\">i<span>Fitted</span></span></div></label><div class=\"sk-toggleable__content fitted\"><pre>RandomForestClassifier(n_jobs=-1, random_state=42)</pre></div> </div></div></div></div>"
      ],
      "text/plain": [
       "RandomForestClassifier(n_jobs=-1, random_state=42)"
      ]
     },
     "execution_count": 26,
     "metadata": {},
     "output_type": "execute_result"
    }
   ],
   "source": [
    "\n",
    "from sklearn.ensemble import RandomForestClassifier\n",
    "from sklearn.metrics import classification_report, accuracy_score\n",
    "\n",
    "# Train the model\n",
    "rf = RandomForestClassifier(n_estimators=100, random_state=42, n_jobs=-1)\n",
    "rf.fit(X_train, y_train)\n"
   ]
  },
  {
   "cell_type": "code",
   "execution_count": 27,
   "id": "6256a0e3",
   "metadata": {
    "execution": {
     "iopub.execute_input": "2025-05-13T13:14:45.817635Z",
     "iopub.status.busy": "2025-05-13T13:14:45.817393Z",
     "iopub.status.idle": "2025-05-13T13:14:47.393571Z",
     "shell.execute_reply": "2025-05-13T13:14:47.392828Z"
    },
    "papermill": {
     "duration": 1.589528,
     "end_time": "2025-05-13T13:14:47.395020",
     "exception": false,
     "start_time": "2025-05-13T13:14:45.805492",
     "status": "completed"
    },
    "tags": []
   },
   "outputs": [
    {
     "name": "stderr",
     "output_type": "stream",
     "text": [
      "/usr/local/lib/python3.11/dist-packages/sklearn/utils/validation.py:2732: UserWarning: X has feature names, but RandomForestClassifier was fitted without feature names\n",
      "  warnings.warn(\n"
     ]
    },
    {
     "name": "stdout",
     "output_type": "stream",
     "text": [
      "Accuracy: 0.9121397436610836\n"
     ]
    }
   ],
   "source": [
    "# Predict on the test set\n",
    "y_pred = rf.predict(X_test)\n",
    "\n",
    "print(\"Accuracy:\", accuracy_score(y_test, y_pred))\n"
   ]
  },
  {
   "cell_type": "code",
   "execution_count": 28,
   "id": "056169ca",
   "metadata": {
    "execution": {
     "iopub.execute_input": "2025-05-13T13:14:47.421233Z",
     "iopub.status.busy": "2025-05-13T13:14:47.420986Z",
     "iopub.status.idle": "2025-05-13T13:14:47.676055Z",
     "shell.execute_reply": "2025-05-13T13:14:47.675228Z"
    },
    "papermill": {
     "duration": 0.269426,
     "end_time": "2025-05-13T13:14:47.677427",
     "exception": false,
     "start_time": "2025-05-13T13:14:47.408001",
     "status": "completed"
    },
    "tags": []
   },
   "outputs": [
    {
     "name": "stdout",
     "output_type": "stream",
     "text": [
      "Classification Report:\n",
       "                             precision    recall  f1-score   support\n",
      "\n",
      "                    BENIGN       0.91      0.94      0.92    435455\n",
      "                       Bot       0.56      0.43      0.49       489\n",
      "             DoS GoldenEye       0.67      0.51      0.58      2573\n",
      "                  DoS Hulk       0.88      0.90      0.89     57531\n",
      "          DoS Slowhttptest       0.60      0.48      0.53      1375\n",
      "             DoS slowloris       0.61      0.44      0.51      1449\n",
      "                Heartbleed       0.75      0.67      0.71         3\n",
      "              Infiltration       0.80      0.66      0.72         9\n",
      "                  PortScan       0.84      0.86      0.85     39701\n",
      "  Web Attack   Brute Force       0.62      0.58      0.60       377\n",
      "Web Attack   Sql Injection       0.71      0.60      0.65         5\n",
      "          Web Attack   XSS       0.55      0.47      0.51       163\n",
      "\n",
      "                  accuracy                           0.91    539130\n",
      "                 macro avg       0.70      0.63      0.66    539130\n",
      "              weighted avg       0.90      0.91      0.90    539130\n",
      "\n"
     ]
    },
    {
     "name": "stderr",
     "output_type": "stream",
     "text": [
      "/usr/local/lib/python3.11/dist-packages/sklearn/metrics/_classification.py:1565: UndefinedMetricWarning: Precision is ill-defined and being set to 0.0 in labels with no predicted samples. Use `zero_division` parameter to control this behavior.\n",
      "  _warn_prf(average, modifier, f\"{metric.capitalize()} is\", len(result))\n",
      "/usr/local/lib/python3.11/dist-packages/sklearn/metrics/_classification.py:1565: UndefinedMetricWarning: Precision is ill-defined and being set to 0.0 in labels with no predicted samples. Use `zero_division` parameter to control this behavior.\n",
      "  _warn_prf(average, modifier, f\"{metric.capitalize()} is\", len(result))\n",
      "/usr/local/lib/python3.11/dist-packages/sklearn/metrics/_classification.py:1565: UndefinedMetricWarning: Precision is ill-defined and being set to 0.0 in labels with no predicted samples. Use `zero_division` parameter to control this behavior.\n",
      "  _warn_prf(average, modifier, f\"{metric.capitalize()} is\", len(result))\n"
     ]
    }
   ],
   "source": [
    "print(\"Classification Report:\\n\", classification_report(y_test, y_pred, target_names=le.classes_))"
   ]
  },
  {
   "cell_type": "code",
   "execution_count": 29,
   "id": "5d50ab91",
   "metadata": {
    "execution": {
     "iopub.execute_input": "2025-05-13T13:14:47.702175Z",
     "iopub.status.busy": "2025-05-13T13:14:47.701935Z",
     "iopub.status.idle": "2025-05-13T13:14:49.396370Z",
     "shell.execute_reply": "2025-05-13T13:14:49.395749Z"
    },
    "papermill": {
     "duration": 1.707943,
     "end_time": "2025-05-13T13:14:49.397420",
     "exception": false,
     "start_time": "2025-05-13T13:14:47.689477",
     "status": "completed"
    },
    "tags": []
   },
   "outputs": [
    {
     "data": {
      "text/plain": [
       "['scaler.pkl']"
      ]
     },
     "execution_count": 29,
     "metadata": {},
     "output_type": "execute_result"
    }
   ],
   "source": [
    "import joblib\n",
    "\n",
    "# Save the trained Random Forest model\n",
    "joblib.dump(rf, 'random_forest_model.pkl')\n",
    "\n",
    "# Save the LabelEncoder\n",
    "joblib.dump(le, 'label_encoder.pkl')\n",
    "\n",
    "# Save the scaler (if you used one, e.g., StandardScaler)\n",
    "joblib.dump(scaler, 'scaler.pkl')  # Replace 'scaler' with your actual scaler variable"
   ]
  },
  {
   "cell_type": "code",
   "execution_count": 30,
   "id": "320e6fa9",
   "metadata": {
    "execution": {
     "iopub.execute_input": "2025-05-13T13:14:49.422766Z",
     "iopub.status.busy": "2025-05-13T13:14:49.422546Z",
     "iopub.status.idle": "2025-05-13T13:14:49.511870Z",
     "shell.execute_reply": "2025-05-13T13:14:49.511265Z"
    },
    "papermill": {
     "duration": 0.103226,
     "end_time": "2025-05-13T13:14:49.512995",
     "exception": false,
     "start_time": "2025-05-13T13:14:49.409769",
     "status": "completed"
    },
    "tags": []
   },
   "outputs": [
    {
     "data": {
      "text/plain": [
       "23"
      ]
     },
     "execution_count": 30,
     "metadata": {},
     "output_type": "execute_result"
    }
   ],
   "source": [
    "del rf,y_pred\n",
    "gc.collect()"
   ]
  }
 ],
 "metadata": {
  "kaggle": {
   "accelerator": "nvidiaTeslaT4",
   "dataSources": [],
   "dockerImageVersionId": 31012,
   "isGpuEnabled": true,
   "isInternetEnabled": true,
   "language": "python",
   "sourceType": "notebook"
  },
  "kernelspec": {
   "display_name": "Python 3",
   "language": "python",
   "name": "python3"
  },
  "language_info": {
   "codemirror_mode": {
    "name": "ipython",
    "version": 3
   },
   "file_extension": ".py",
   "mimetype": "text/x-python",
   "name": "python",
   "nbconvert_exporter": "python",
   "pygments_lexer": "ipython3",
   "version": "3.11.11"
  },
  "papermill": {
   "default_parameters": {},
   "duration": 2995.035709,
   "end_time": "2025-05-13T13:14:50.487749",
   "environment_variables": {},
   "exception": null,
   "input_path": "__notebook__.ipynb",
   "output_path": "__notebook__.ipynb",
   "parameters": {},
   "start_time": "2025-05-13T12:24:55.452040",
   "version": "2.6.0"
  }
 },
 "nbformat": 4,
 "nbformat_minor": 5
}
